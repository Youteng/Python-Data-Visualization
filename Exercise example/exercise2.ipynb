{
 "cells": [
  {
   "cell_type": "code",
   "execution_count": 41,
   "metadata": {},
   "outputs": [],
   "source": [
    "%matplotlib inline\n",
    "import numpy as np\n",
    "import pandas as pd\n",
    "import matplotlib.pyplot as plt\n",
    "import seaborn as sns\n",
    "\n",
    "import plotly.offline\n",
    "import plotly.express as px\n",
    "import plotly.graph_objects as go\n",
    "import plotly.subplots\n",
    "import squarify\n",
    "\n",
    "import folium\n",
    "import json\n",
    "from branca.colormap import linear\n",
    "from folium.plugins import HeatMap"
   ]
  },
  {
   "cell_type": "code",
   "execution_count": 42,
   "metadata": {},
   "outputs": [],
   "source": [
    "import requests\n",
    "from bs4 import BeautifulSoup\n",
    "import csv\n",
    "\n",
    "#建立一個新的CSV檔案寫入資料 \n",
    "url = \"http://e-service.cwb.gov.tw/HistoryDataQuery/MonthDataController.do?command=viewMain&station=C0AC70&stname=%25E4%25BF%25A1%25E7%25BE%25A9&datepicker=2021-08\"  \n",
    "#自訂檔案名稱\n",
    "csvfile = \"exercise2.csv\" \n",
    "r = requests.get(url)\n",
    "r.encoding = \"utf-8\"\n",
    "soup = BeautifulSoup(r.text,\"lxml\")\n",
    "\n",
    "#用BeautifulSoup找到MyTable位置\n",
    "tag_table = soup.find(id=\"MyTable\") \n",
    "#找到要寫入的每個tr\n",
    "rows = tag_table.findAll(\"tr\") \n",
    " \n",
    "#將天氣資料寫入weather1.CSV檔\n",
    "with open(csvfile, \"w+\",newline=\"\", encoding=\"utf-8\") as fp:\n",
    "    writer=csv.writer(fp)\n",
    "    for row in rows:\n",
    "        rowList=[]\n",
    "        for data in row.findAll([\"td\",\"th\"]):    #找到所有<td><th>\n",
    "            rowList.append(data.get_text().replace(\"\\n\",\"\").replace(\"\\r\",\"\"))  #移除\"\\r\",\"\\n\"\n",
    "        writer.writerow(rowList)    #資料寫入csv"
   ]
  },
  {
   "cell_type": "code",
   "execution_count": 43,
   "metadata": {
    "scrolled": true
   },
   "outputs": [
    {
     "name": "stdout",
     "output_type": "stream",
     "text": [
      "\r\n",
      "\r\n",
      "\r\n",
      "<!DOCTYPE html PUBLIC \"-//W3C//DTD HTML 4.01 Transitional//EN\" \"http://www.w3.org/TR/html4/loose.dtd\">\r\n",
      "<html>\r\n",
      "<head>\r\n",
      "<link href=\"css/tablecss.css\" rel=\"stylesheet\" type=\"text/css\" />\r\n",
      "<script src=\"js/jquery-3.3.1.js\"></script>\r\n",
      "<script src=\"js/Blob.js\"></script>\r\n",
      "<script src=\"js/FileSaver.js\"></script>\r\n",
      "<script src=\"js/tableexport.js\"></script>\r\n",
      "<script type=\"text/javascript\">\r\n",
      "\tvar url = \"MonthDataController.do?command=viewMain\";\r\n",
      "\r\n",
      "\t$(function() {\r\n",
      "\t\tvar preArr = \"2021-07\".split(\"-\");\r\n",
      "\t\tvar nexArr = \"2021-09\".split(\"-\");\r\n",
      "\t\tvar now = new Date();\r\n",
      "\t\tvar exportName = \"C0AC70-2021-08\";\r\n",
      "\r\n",
      "\t\tif (new Date(preArr[0], preArr[1] - 1, 1) < new Date(1995, 0, 1))\r\n",
      "\t\t\t$(\"#preItem\").css(\"display\", \"none\");\r\n",
      "\t\tif (new Date(nexArr[0], nexArr[1] - 1, 1) >= new Date(\r\n",
      "\t\t\t\tnow.getFullYear(), now.getMonth() + 1, 1))\r\n",
      "\t\t\t$(\"#nexItem\").css(\"display\", \"none\");\r\n",
      "\r\n",
      "\t\t$(\"#preItem\").click(\r\n",
      "\t\t\t\tfunction(event) {\r\n",
      "\t\t\t\t\twindow.location.href = encodeURI(url\r\n",
      "\t\t\t\t\t\t\t+ \"&station=C0AC70&stname=\"\r\n",
      "\t\t\t\t\t\t\t+ encodeURI(\"信義\")\r\n",
      "\t\t\t\t\t\t\t+ \"&datepicker=2021-07\");\r\n",
      "\t\t\t\t});\r\n",
      "\r\n",
      "\t\t$(\"#nexItem\").click(\r\n",
      "\t\t\t\tfunction(event) {\r\n",
      "\t\t\t\t\twindow.location.href = encodeURI(url\r\n",
      "\t\t\t\t\t\t\t+ \"&station=C0AC70&stname=\"\r\n",
      "\t\t\t\t\t\t\t+ encodeURI(\"信義\")\r\n",
      "\t\t\t\t\t\t\t+ \"&datepicker=2021-09\");\r\n",
      "\t\t\t\t});\r\n",
      "\r\n",
      "\t\t$(\"#selectStno\").change(\r\n",
      "\t\t\t\tfunction(event) {\r\n",
      "\t\t\t\t\tvar stno = $(\"#selectStno option:selected\").val()\r\n",
      "\t\t\t\t\t\t\t.split(\"_\");\r\n",
      "\t\t\t\t\twindow.location.href = encodeURI(url + \"&station=\"\r\n",
      "\t\t\t\t\t\t\t+ stno[0] + \"&stname=\" + encodeURI(stno[1])\r\n",
      "\t\t\t\t\t\t\t+ \"&datepicker=2021-08\");\r\n",
      "\t\t\t\t})\r\n",
      "\r\n",
      "\t\t$(\"#downloadCSV\").click(\r\n",
      "\t\t\t\tfunction(event) {\r\n",
      "\t\t\t\t\tvar instance = new TableExport(document\r\n",
      "\t\t\t\t\t\t\t.getElementById('MyTable'), {\r\n",
      "\t\t\t\t\t\tformats : [ 'csv' ],\r\n",
      "\t\t\t\t\t\tfilename : exportName,\r\n",
      "\t\t\t\t\t\texportButtons : false,\r\n",
      "\t\t\t\t\t\t//ignoreRows : [ 0, 1 ],\r\n",
      "\t\t\t\t\t\tignoreRows : [ 0 ],\r\n",
      "\t\t\t\t\t});\r\n",
      "\t\t\t\t\tvar exportCSV = instance.getExportData()['MyTable']['csv'];\r\n",
      "\t\t\t\t\tinstance.export2file(\"\\ufeff\"+exportCSV.data, exportCSV.mimeType,\r\n",
      "\t\t\t\t\t\t\texportCSV.filename, exportCSV.fileExtension);\r\n",
      "\t\t\t\t});\r\n",
      "\r\n",
      "\t});\r\n",
      "</script>\r\n",
      "</head>\r\n",
      "<body>\r\n",
      "\t<div id=\"hea_t\" style=\"position: fixed; top: 0px;\">\r\n",
      "\t\t<table border=\"0\" cellpadding=\"0\" cellspacing=\"0\">\r\n",
      "\t\t\t<tr>\r\n",
      "\t\t\t\t<td>月報表 (monthly data)&nbsp;&nbsp;</td>\r\n",
      "\t\t\t\t<td>測站:C0AC70_信義&nbsp;&nbsp;</td>\r\n",
      "\t\t\t\t<td><select name=\"selectStno\" id=\"selectStno\">\r\n",
      "\t\t\t\t\t\t\r\n",
      "\t\t\t\t\t\t\t\r\n",
      "\t\t\t\t\t\t\t\r\n",
      "\t\t\t\t\t\t\t\t\r\n",
      "\t\t\t\t\t\t\t\t\t<option value=\"466930_竹子湖\">466930_竹子湖</option>\r\n",
      "\t\t\t\t\t\t\t\t\r\n",
      "\t\t\t\t\t\t\t\t\r\n",
      "\t\t\t\t\t\t\t\r\n",
      "\t\t\t\t\t\t\r\n",
      "\t\t\t\t\t\t\t\r\n",
      "\t\t\t\t\t\t\t\r\n",
      "\t\t\t\t\t\t\t\t\r\n",
      "\t\t\t\t\t\t\t\t\t<option value=\"466910_鞍部\">466910_鞍部</option>\r\n",
      "\t\t\t\t\t\t\t\t\r\n",
      "\t\t\t\t\t\t\t\t\r\n",
      "\t\t\t\t\t\t\t\r\n",
      "\t\t\t\t\t\t\r\n",
      "\t\t\t\t\t\t\t\r\n",
      "\t\t\t\t\t\t\t\r\n",
      "\t\t\t\t\t\t\t\t\r\n",
      "\t\t\t\t\t\t\t\t\t<option value=\"466920_臺北\">466920_臺北</option>\r\n",
      "\t\t\t\t\t\t\t\t\r\n",
      "\t\t\t\t\t\t\t\t\r\n",
      "\t\t\t\t\t\t\t\r\n",
      "\t\t\t\t\t\t\r\n",
      "\t\t\t\t\t\t\t\r\n",
      "\t\t\t\t\t\t\t\r\n",
      "\t\t\t\t\t\t\t\t\r\n",
      "\t\t\t\t\t\t\t\t\t<option value=\"C0A980_社子\">C0A980_社子</option>\r\n",
      "\t\t\t\t\t\t\t\t\r\n",
      "\t\t\t\t\t\t\t\t\r\n",
      "\t\t\t\t\t\t\t\r\n",
      "\t\t\t\t\t\t\r\n",
      "\t\t\t\t\t\t\t\r\n",
      "\t\t\t\t\t\t\t\r\n",
      "\t\t\t\t\t\t\t\t\r\n",
      "\t\t\t\t\t\t\t\t\t<option value=\"C0A9E0_士林\">C0A9E0_士林</option>\r\n",
      "\t\t\t\t\t\t\t\t\r\n",
      "\t\t\t\t\t\t\t\t\r\n",
      "\t\t\t\t\t\t\t\r\n",
      "\t\t\t\t\t\t\r\n",
      "\t\t\t\t\t\t\t\r\n",
      "\t\t\t\t\t\t\t\r\n",
      "\t\t\t\t\t\t\t\t\r\n",
      "\t\t\t\t\t\t\t\t\t<option value=\"C0A9F0_內湖\">C0A9F0_內湖</option>\r\n",
      "\t\t\t\t\t\t\t\t\r\n",
      "\t\t\t\t\t\t\t\t\r\n",
      "\t\t\t\t\t\t\t\r\n",
      "\t\t\t\t\t\t\r\n",
      "\t\t\t\t\t\t\t\r\n",
      "\t\t\t\t\t\t\t\r\n",
      "\t\t\t\t\t\t\t\t\r\n",
      "\t\t\t\t\t\t\t\t\t<option value=\"C0AH40_平等\">C0AH40_平等</option>\r\n",
      "\t\t\t\t\t\t\t\t\r\n",
      "\t\t\t\t\t\t\t\t\r\n",
      "\t\t\t\t\t\t\t\r\n",
      "\t\t\t\t\t\t\r\n",
      "\t\t\t\t\t\t\t\r\n",
      "\t\t\t\t\t\t\t\r\n",
      "\t\t\t\t\t\t\t\t\r\n",
      "\t\t\t\t\t\t\t\t\t<option value=\"C0AH70_松山\">C0AH70_松山</option>\r\n",
      "\t\t\t\t\t\t\t\t\r\n",
      "\t\t\t\t\t\t\t\t\r\n",
      "\t\t\t\t\t\t\t\r\n",
      "\t\t\t\t\t\t\r\n",
      "\t\t\t\t\t\t\t\r\n",
      "\t\t\t\t\t\t\t\r\n",
      "\t\t\t\t\t\t\t\t\r\n",
      "\t\t\t\t\t\t\t\t\t<option value=\"C0AI40_石牌\">C0AI40_石牌</option>\r\n",
      "\t\t\t\t\t\t\t\t\r\n",
      "\t\t\t\t\t\t\t\t\r\n",
      "\t\t\t\t\t\t\t\r\n",
      "\t\t\t\t\t\t\r\n",
      "\t\t\t\t\t\t\t\r\n",
      "\t\t\t\t\t\t\t\r\n",
      "\t\t\t\t\t\t\t\t\r\n",
      "\t\t\t\t\t\t\t\t\t<option value=\"C0AC40_大屯山\">C0AC40_大屯山</option>\r\n",
      "\t\t\t\t\t\t\t\t\r\n",
      "\t\t\t\t\t\t\t\t\r\n",
      "\t\t\t\t\t\t\t\r\n",
      "\t\t\t\t\t\t\r\n",
      "\t\t\t\t\t\t\t\r\n",
      "\t\t\t\t\t\t\t\t\r\n",
      "\t\t\t\t\t\t\t\t\t<option selected=\"selected\"\r\n",
      "\t\t\t\t\t\t\t\t\t\tvalue=\"C0AC70_信義\">C0AC70_信義</option>\r\n",
      "\t\t\t\t\t\t\t\t\r\n",
      "\t\t\t\t\t\t\t\t\r\n",
      "\t\t\t\t\t\t\t\r\n",
      "\t\t\t\t\t\t\t\r\n",
      "\t\t\t\t\t\t\r\n",
      "\t\t\t\t\t\t\t\r\n",
      "\t\t\t\t\t\t\t\r\n",
      "\t\t\t\t\t\t\t\t\r\n",
      "\t\t\t\t\t\t\t\t\t<option value=\"C0AC80_文山\">C0AC80_文山</option>\r\n",
      "\t\t\t\t\t\t\t\t\r\n",
      "\t\t\t\t\t\t\t\t\r\n",
      "\t\t\t\t\t\t\t\r\n",
      "\t\t\t\t\t\t\r\n",
      "\t\t\t\t\t\t\t\r\n",
      "\t\t\t\t\t\t\t\r\n",
      "\t\t\t\t\t\t\t\t\r\n",
      "\t\t\t\t\t\t\t\t\t<option value=\"C0A9C0_天母\">C0A9C0_天母</option>\r\n",
      "\t\t\t\t\t\t\t\t\r\n",
      "\t\t\t\t\t\t\t\t\r\n",
      "\t\t\t\t\t\t\t\r\n",
      "\t\t\t\t\t\t\r\n",
      "\t\t\t\t\t\t\t\r\n",
      "\t\t\t\t\t\t\t\r\n",
      "\t\t\t\t\t\t\t\t\r\n",
      "\t\t\t\t\t\t\t\t\t<option value=\"C1AC50_關渡\">C1AC50_關渡</option>\r\n",
      "\t\t\t\t\t\t\t\t\r\n",
      "\t\t\t\t\t\t\t\t\r\n",
      "\t\t\t\t\t\t\t\r\n",
      "\t\t\t\t\t\t\r\n",
      "\t\t\t\t\t\t\t\r\n",
      "\t\t\t\t\t\t\t\r\n",
      "\t\t\t\t\t\t\t\t\r\n",
      "\t\t\t\t\t\t\t\t\t<option value=\"C1AI50_國三N016K\">C1AI50_國三N016K</option>\r\n",
      "\t\t\t\t\t\t\t\t\r\n",
      "\t\t\t\t\t\t\t\t\r\n",
      "\t\t\t\t\t\t\t\r\n",
      "\t\t\t\t\t\t\r\n",
      "\t\t\t\t\t\t\t\r\n",
      "\t\t\t\t\t\t\t\r\n",
      "\t\t\t\t\t\t\t\t\r\n",
      "\t\t\t\t\t\t\t\t\r\n",
      "\t\t\t\t\t\t\t\t\t<option value=\"C1A730_公館\">C1A730_公館 (撤銷站)</option>\r\n",
      "\t\t\t\t\t\t\t\t\r\n",
      "\t\t\t\t\t\t\t\r\n",
      "\t\t\t\t\t\t\r\n",
      "\t\t\t\t\t\t\t\r\n",
      "\t\t\t\t\t\t\t\r\n",
      "\t\t\t\t\t\t\t\t\r\n",
      "\t\t\t\t\t\t\t\t\r\n",
      "\t\t\t\t\t\t\t\t\t<option value=\"C0A9G0_南港\">C0A9G0_南港 (撤銷站)</option>\r\n",
      "\t\t\t\t\t\t\t\t\r\n",
      "\t\t\t\t\t\t\t\r\n",
      "\t\t\t\t\t\t\r\n",
      "\t\t\t\t\t\t\t\r\n",
      "\t\t\t\t\t\t\t\r\n",
      "\t\t\t\t\t\t\t\t\r\n",
      "\t\t\t\t\t\t\t\t\r\n",
      "\t\t\t\t\t\t\t\t\t<option value=\"C0A990_大崙尾山\">C0A990_大崙尾山 (撤銷站)</option>\r\n",
      "\t\t\t\t\t\t\t\t\r\n",
      "\t\t\t\t\t\t\t\r\n",
      "\t\t\t\t\t\t\r\n",
      "\t\t\t\t\t\t\t\r\n",
      "\t\t\t\t\t\t\t\r\n",
      "\t\t\t\t\t\t\t\t\r\n",
      "\t\t\t\t\t\t\t\t\r\n",
      "\t\t\t\t\t\t\t\t\t<option value=\"C0A9A0_大直\">C0A9A0_大直 (撤銷站)</option>\r\n",
      "\t\t\t\t\t\t\t\t\r\n",
      "\t\t\t\t\t\t\t\r\n",
      "\t\t\t\t\t\t\r\n",
      "\t\t\t\t\t\t\t\r\n",
      "\t\t\t\t\t\t\t\r\n",
      "\t\t\t\t\t\t\t\t\r\n",
      "\t\t\t\t\t\t\t\t\r\n",
      "\t\t\t\t\t\t\t\t\t<option value=\"C0A9B0_石牌\">C0A9B0_石牌 (撤銷站)</option>\r\n",
      "\t\t\t\t\t\t\t\t\r\n",
      "\t\t\t\t\t\t\t\r\n",
      "\t\t\t\t\t\t\r\n",
      "\t\t\t\t\t\t\t\r\n",
      "\t\t\t\t\t\t\t\r\n",
      "\t\t\t\t\t\t\t\t\r\n",
      "\t\t\t\t\t\t\t\t\r\n",
      "\t\t\t\t\t\t\t\t\t<option value=\"466921_臺北(師院)\">466921_臺北(師院) (撤銷站)</option>\r\n",
      "\t\t\t\t\t\t\t\t\r\n",
      "\t\t\t\t\t\t\t\r\n",
      "\t\t\t\t\t\t\r\n",
      "\t\t\t\t</select></td>\r\n",
      "\t\t\t\t<td><a id=\"preItem\" href=\"#\"><input type=\"image\"\r\n",
      "\t\t\t\t\t\tsrc=\"images/buttons_l.png\" width=\"24\" height=\"24\"></a></td>\r\n",
      "\t\t\t\t<td>觀測時間:2021-08</td>\r\n",
      "\t\t\t\t<td><a id=\"nexItem\" href=\"#\"><input type=\"image\"\r\n",
      "\t\t\t\t\t\tsrc=\"images/buttons_r.png\" width=\"24\" height=\"24\"></a></td>\r\n",
      "\t\t\t\t<td>&nbsp;&nbsp;&nbsp;&nbsp;</td>\r\n",
      "\t\t\t\t<td><a id=\"downloadCSV\" href=\"#\"><input type=\"image\"\r\n",
      "\t\t\t\t\t\tsrc=\"images/downloadCSV_2.png\" width=\"42\" height=\"22\">CSV下載</a></td>\r\n",
      "\t\t\t\t<td>&nbsp;&nbsp;&nbsp;&nbsp;</td>\r\n",
      "\t\t\t\t<td>資料定義請詳見 <a href=\"downloads/Readme.pdf\">◎網頁說明Readme</a></td>\r\n",
      "\t\t\t</tr>\r\n",
      "\t\t</table>\r\n",
      "\t</div>\r\n",
      "\t<div class=\"CSSTableGenerator\" style=\"position: relative; top: 30px\">\r\n",
      "\t\t<table id=\"MyTable\" border=\"0\" cellpadding=\"10\" cellspacing=\"0\">\r\n",
      "\t\t\t<tbody>\r\n",
      "\t\t\t\t<tr class=\"first_tr\">\r\n",
      "\t\t\t\t\t<th width=\"10px\">&nbsp;</th>\r\n",
      "\t\t\t\t\t<th colspan=\"6\">press</th>\r\n",
      "\t\t\t\t\t<th colspan=\"5\">temperature</th>\r\n",
      "\t\t\t\t\t<th>Dew Point</th>\r\n",
      "\t\t\t\t\t<th colspan=\"3\">RH</th>\r\n",
      "\t\t\t\t\t<th colspan=\"5\">WS/WD</th>\r\n",
      "\t\t\t\t\t<th colspan=\"6\">Precp</th>\r\n",
      "\t\t\t\t\t<th colspan=\"3\">SunShine</th>\r\n",
      "\t\t\t\t\t<th>visibility</th>\r\n",
      "\t\t\t\t\t<th>Evaperation</th>\r\n",
      "\t\t\t\t\t<th colspan=\"2\">UVI</th>\r\n",
      "\t\t\t\t\t<th>Cloud</th>\r\n",
      "\t\t\t\t</tr>\r\n",
      "\t\t\t\t<tr class=\"second_tr\">\r\n",
      "\t\t\t\t\t<th>觀測時間<br>(day)</th>\r\n",
      "\t\t\t\t\t<th>測站氣壓<br>(hPa)</th>\r\n",
      "\t\t\t\t\t<th>海平面氣壓<br>(hPa)</th>\r\n",
      "\t\t\t\t\t<th>測站最高氣壓<br>(hPa)</th>\r\n",
      "\t\t\t\t\t<th>測站最高氣壓時間<br>(LST)</th>\r\n",
      "\t\t\t\t\t<th>測站最低氣壓<br>(hPa)</th>\r\n",
      "\t\t\t\t\t<th>測站最低氣壓時間<br>(LST)</th>\r\n",
      "\t\t\t\t\t<th>氣溫<br>(℃)</th>\r\n",
      "\t\t\t\t\t<th>最高氣溫<br>(℃)</th>\r\n",
      "\t\t\t\t\t<th>最高氣溫時間<br>(LST)</th>\r\n",
      "\t\t\t\t\t<th>最低氣溫<br>(℃)</th>\r\n",
      "\t\t\t\t\t<th>最低氣溫時間<br>(LST)</th>\r\n",
      "\t\t\t\t\t<th>露點溫度<br>(℃)</th>\r\n",
      "\t\t\t\t\t<th>相對溼度<br>(%)</th>\r\n",
      "\t\t\t\t\t<th>最小相對溼度<br>(%)</th>\r\n",
      "\t\t\t\t\t<th>最小相對溼度時間<br>(LST)</th>\r\n",
      "\t\t\t\t\t<th>風速<br>(m/s)</th>\r\n",
      "\t\t\t\t\t<th>風向<br>(360degree)</th>\r\n",
      "\t\t\t\t\t<th>最大陣風<br>(m/s)</th>\r\n",
      "\t\t\t\t\t<th>最大陣風風向<br>(360degree)</th>\r\n",
      "\t\t\t\t\t<th>最大陣風風速時間<br>(LST)</th>\r\n",
      "\t\t\t\t\t<th>降水量<br>(mm)</th>\r\n",
      "\t\t\t\t\t<th>降水時數<br>(hour)</th>\r\n",
      "\t\t\t\t\t<th>最大十分鐘降水量<br>(mm)</th>\r\n",
      "\t\t\t\t\t<th>最大十分鐘降水量起始時間<br>(LST)</th>\r\n",
      "\t\t\t\t\t<th>最大六十分鐘降水量<br>(mm)</th>\r\n",
      "\t\t\t\t\t<th>最大六十分鐘降水量起始時間<br>(LST)</th>\r\n",
      "\t\t\t\t\t<th>日照時數<br>(hour)</th>\r\n",
      "\t\t\t\t\t<th>日照率<br>(%)</th>\r\n",
      "\t\t\t\t\t<th>全天空日射量<br>(MJ/㎡)</th>\r\n",
      "\t\t\t\t\t<th>能見度<br>(km)</th>\r\n",
      "\t\t\t\t\t<th>A型蒸發量<br>(mm)</th>\r\n",
      "\t\t\t\t\t<th>日最高紫外線指數<br></th>\r\n",
      "\t\t\t\t\t<th>日最高紫外線指數時間<br>(LST)</th>\r\n",
      "\t\t\t\t\t<th>總雲量<br>(0~10)</th>\r\n",
      "\t\t\t\t</tr>\r\n",
      "\t\t\t\t<tr class=\"third_tr\">\r\n",
      "\t\t\t\t\t<th>ObsTime</th>\r\n",
      "\t\t\t\t\t<th>StnPres</th>\r\n",
      "\t\t\t\t\t<th>SeaPres</th>\r\n",
      "\t\t\t\t\t<th>StnPresMax</th>\r\n",
      "\t\t\t\t\t<th>StnPresMaxTime</th>\r\n",
      "\t\t\t\t\t<th>StnPresMin</th>\r\n",
      "\t\t\t\t\t<th>StnPresMinTime</th>\r\n",
      "\t\t\t\t\t<th>Temperature</th>\r\n",
      "\t\t\t\t\t<th>T Max</th>\r\n",
      "\t\t\t\t\t<th>T Max Time</th>\r\n",
      "\t\t\t\t\t<th>T Min</th>\r\n",
      "\t\t\t\t\t<th>T Min Time</th>\r\n",
      "\t\t\t\t\t<th>Td dew point</th>\r\n",
      "\t\t\t\t\t<th>RH</th>\r\n",
      "\t\t\t\t\t<th>RHMin</th>\r\n",
      "\t\t\t\t\t<th>RHMinTime</th>\r\n",
      "\t\t\t\t\t<th>WS</th>\r\n",
      "\t\t\t\t\t<th>WD</th>\r\n",
      "\t\t\t\t\t<th>WSGust</th>\r\n",
      "\t\t\t\t\t<th>WDGust</th>\r\n",
      "\t\t\t\t\t<th>WGustTime</th>\r\n",
      "\t\t\t\t\t<th>Precp</th>\r\n",
      "\t\t\t\t\t<th>PrecpHour</th>\r\n",
      "\t\t\t\t\t<th>PrecpMax10</th>\r\n",
      "\t\t\t\t\t<th>PrecpMax10Time</th>\r\n",
      "\t\t\t\t\t<th>PrecpMax60</th>\r\n",
      "\t\t\t\t\t<th>PrecpMax60Time</th>\r\n",
      "\t\t\t\t\t<th>SunShine</th>\r\n",
      "\t\t\t\t\t<th>SunShineRate</th>\r\n",
      "\t\t\t\t\t<th>GloblRad</th>\r\n",
      "\t\t\t\t\t<th>VisbMean</th>\r\n",
      "\t\t\t\t\t<th>EvapA</th>\r\n",
      "\t\t\t\t\t<th>UVI Max</th>\r\n",
      "\t\t\t\t\t<th>UVI Max Time</th>\r\n",
      "\t\t\t\t\t<th>Cloud Amount</th>\r\n",
      "\t\t\t\t</tr>\r\n",
      "\t\t\t\t\r\n",
      "\t\t\t\t\r\n",
      "\t\t\t\t\t\r\n",
      "\t\t\t\t\t<tr>\r\n",
      "\t\t\t\t\t\t<td nowrap>01</td>\r\n",
      "\t\t\t\t\t\t<td>991.0&nbsp;</td>\r\n",
      "\t\t\t\t\t\t<td>...&nbsp;</td>\r\n",
      "\t\t\t\t\t\t<td>992.5&nbsp;</td>\r\n",
      "\t\t\t\t\t\t<td>2021-08-01 00:01&nbsp;</td>\r\n",
      "\t\t\t\t\t\t<td>989.1&nbsp;</td>\r\n",
      "\t\t\t\t\t\t<td>2021-08-01 16:13&nbsp;</td>\r\n",
      "\t\t\t\t\t\t<td>27.8&nbsp;</td>\r\n",
      "\t\t\t\t\t\t<td>30.8&nbsp;</td>\r\n",
      "\t\t\t\t\t\t<td>2021-08-01 13:21&nbsp;</td>\r\n",
      "\t\t\t\t\t\t<td>25.6&nbsp;</td>\r\n",
      "\t\t\t\t\t\t<td>2021-08-01 02:22&nbsp;</td>\r\n",
      "\t\t\t\t\t\t<td>...&nbsp;</td>\r\n",
      "\t\t\t\t\t\t<td>84&nbsp;</td>\r\n",
      "\t\t\t\t\t\t<td>68&nbsp;</td>\r\n",
      "\t\t\t\t\t\t<td>2021-08-01 12:58&nbsp;</td>\r\n",
      "\t\t\t\t\t\t<td>0.1&nbsp;</td>\r\n",
      "\t\t\t\t\t\t<td>86&nbsp;</td>\r\n",
      "\t\t\t\t\t\t<td>4.9&nbsp;</td>\r\n",
      "\t\t\t\t\t\t<td>87&nbsp;</td>\r\n",
      "\t\t\t\t\t\t<td>2021-08-01 16:59&nbsp;</td>\r\n",
      "\t\t\t\t\t\t<td>0.5&nbsp;</td>\r\n",
      "\t\t\t\t\t\t<td>...&nbsp;</td>\r\n",
      "\t\t\t\t\t\t<td>...&nbsp;</td>\r\n",
      "\t\t\t\t\t\t<td>...&nbsp;</td>\r\n",
      "\t\t\t\t\t\t<td>...&nbsp;</td>\r\n",
      "\t\t\t\t\t\t<td>...&nbsp;</td>\r\n",
      "\t\t\t\t\t\t<td>...&nbsp;</td>\r\n",
      "\t\t\t\t\t\t<td>...&nbsp;</td>\r\n",
      "\t\t\t\t\t\t<td>...&nbsp;</td>\r\n",
      "\t\t\t\t\t\t<td>...&nbsp;</td>\r\n",
      "\t\t\t\t\t\t<td>...&nbsp;</td>\r\n",
      "\t\t\t\t\t\t<td>...&nbsp;</td>\r\n",
      "\t\t\t\t\t\t<td>...&nbsp;</td>\r\n",
      "\t\t\t\t\t\t<td>...&nbsp;</td>\r\n",
      "\t\t\t\t\t</tr>\r\n",
      "\t\t\t\t\r\n",
      "\t\t\t\t\t\r\n",
      "\t\t\t\t\t<tr>\r\n",
      "\t\t\t\t\t\t<td nowrap>02</td>\r\n",
      "\t\t\t\t\t\t<td>990.9&nbsp;</td>\r\n",
      "\t\t\t\t\t\t<td>...&nbsp;</td>\r\n",
      "\t\t\t\t\t\t<td>992.3&nbsp;</td>\r\n",
      "\t\t\t\t\t\t<td>2021-08-02 21:01&nbsp;</td>\r\n",
      "\t\t\t\t\t\t<td>989.9&nbsp;</td>\r\n",
      "\t\t\t\t\t\t<td>2021-08-02 01:31&nbsp;</td>\r\n",
      "\t\t\t\t\t\t<td>28.2&nbsp;</td>\r\n",
      "\t\t\t\t\t\t<td>32.9&nbsp;</td>\r\n",
      "\t\t\t\t\t\t<td>2021-08-02 10:41&nbsp;</td>\r\n",
      "\t\t\t\t\t\t<td>25.9&nbsp;</td>\r\n",
      "\t\t\t\t\t\t<td>2021-08-02 18:29&nbsp;</td>\r\n",
      "\t\t\t\t\t\t<td>...&nbsp;</td>\r\n",
      "\t\t\t\t\t\t<td>82&nbsp;</td>\r\n",
      "\t\t\t\t\t\t<td>57&nbsp;</td>\r\n",
      "\t\t\t\t\t\t<td>2021-08-02 11:03&nbsp;</td>\r\n",
      "\t\t\t\t\t\t<td>0.3&nbsp;</td>\r\n",
      "\t\t\t\t\t\t<td>197&nbsp;</td>\r\n",
      "\t\t\t\t\t\t<td>7.7&nbsp;</td>\r\n",
      "\t\t\t\t\t\t<td>293&nbsp;</td>\r\n",
      "\t\t\t\t\t\t<td>2021-08-02 12:01&nbsp;</td>\r\n",
      "\t\t\t\t\t\t<td>26.0&nbsp;</td>\r\n",
      "\t\t\t\t\t\t<td>...&nbsp;</td>\r\n",
      "\t\t\t\t\t\t<td>...&nbsp;</td>\r\n",
      "\t\t\t\t\t\t<td>...&nbsp;</td>\r\n",
      "\t\t\t\t\t\t<td>...&nbsp;</td>\r\n",
      "\t\t\t\t\t\t<td>...&nbsp;</td>\r\n",
      "\t\t\t\t\t\t<td>...&nbsp;</td>\r\n",
      "\t\t\t\t\t\t<td>...&nbsp;</td>\r\n",
      "\t\t\t\t\t\t<td>...&nbsp;</td>\r\n",
      "\t\t\t\t\t\t<td>...&nbsp;</td>\r\n",
      "\t\t\t\t\t\t<td>...&nbsp;</td>\r\n",
      "\t\t\t\t\t\t<td>...&nbsp;</td>\r\n",
      "\t\t\t\t\t\t<td>...&nbsp;</td>\r\n",
      "\t\t\t\t\t\t<td>...&nbsp;</td>\r\n",
      "\t\t\t\t\t</tr>\r\n",
      "\t\t\t\t\r\n",
      "\t\t\t\t\t\r\n",
      "\t\t\t\t\t<tr>\r\n",
      "\t\t\t\t\t\t<td nowrap>03</td>\r\n",
      "\t\t\t\t\t\t<td>991.5&nbsp;</td>\r\n",
      "\t\t\t\t\t\t<td>...&nbsp;</td>\r\n",
      "\t\t\t\t\t\t<td>993.5&nbsp;</td>\r\n",
      "\t\t\t\t\t\t<td>2021-08-03 21:51&nbsp;</td>\r\n",
      "\t\t\t\t\t\t<td>990.1&nbsp;</td>\r\n",
      "\t\t\t\t\t\t<td>2021-08-03 14:37&nbsp;</td>\r\n",
      "\t\t\t\t\t\t<td>27.1&nbsp;</td>\r\n",
      "\t\t\t\t\t\t<td>30.5&nbsp;</td>\r\n",
      "\t\t\t\t\t\t<td>2021-08-03 11:42&nbsp;</td>\r\n",
      "\t\t\t\t\t\t<td>25.6&nbsp;</td>\r\n",
      "\t\t\t\t\t\t<td>2021-08-03 21:31&nbsp;</td>\r\n",
      "\t\t\t\t\t\t<td>...&nbsp;</td>\r\n",
      "\t\t\t\t\t\t<td>88&nbsp;</td>\r\n",
      "\t\t\t\t\t\t<td>73&nbsp;</td>\r\n",
      "\t\t\t\t\t\t<td>2021-08-03 11:42&nbsp;</td>\r\n",
      "\t\t\t\t\t\t<td>0.5&nbsp;</td>\r\n",
      "\t\t\t\t\t\t<td>65&nbsp;</td>\r\n",
      "\t\t\t\t\t\t<td>6.6&nbsp;</td>\r\n",
      "\t\t\t\t\t\t<td>312&nbsp;</td>\r\n",
      "\t\t\t\t\t\t<td>2021-08-03 16:51&nbsp;</td>\r\n",
      "\t\t\t\t\t\t<td>33.5&nbsp;</td>\r\n",
      "\t\t\t\t\t\t<td>...&nbsp;</td>\r\n",
      "\t\t\t\t\t\t<td>...&nbsp;</td>\r\n",
      "\t\t\t\t\t\t<td>...&nbsp;</td>\r\n",
      "\t\t\t\t\t\t<td>...&nbsp;</td>\r\n",
      "\t\t\t\t\t\t<td>...&nbsp;</td>\r\n",
      "\t\t\t\t\t\t<td>...&nbsp;</td>\r\n",
      "\t\t\t\t\t\t<td>...&nbsp;</td>\r\n",
      "\t\t\t\t\t\t<td>...&nbsp;</td>\r\n",
      "\t\t\t\t\t\t<td>...&nbsp;</td>\r\n",
      "\t\t\t\t\t\t<td>...&nbsp;</td>\r\n",
      "\t\t\t\t\t\t<td>...&nbsp;</td>\r\n",
      "\t\t\t\t\t\t<td>...&nbsp;</td>\r\n",
      "\t\t\t\t\t\t<td>...&nbsp;</td>\r\n",
      "\t\t\t\t\t</tr>\r\n",
      "\t\t\t\t\r\n",
      "\t\t\t\t\t\r\n",
      "\t\t\t\t\t<tr>\r\n",
      "\t\t\t\t\t\t<td nowrap>04</td>\r\n",
      "\t\t\t\t\t\t<td>992.9&nbsp;</td>\r\n",
      "\t\t\t\t\t\t<td>...&nbsp;</td>\r\n",
      "\t\t\t\t\t\t<td>994.0&nbsp;</td>\r\n",
      "\t\t\t\t\t\t<td>2021-08-04 08:59&nbsp;</td>\r\n",
      "\t\t\t\t\t\t<td>991.5&nbsp;</td>\r\n",
      "\t\t\t\t\t\t<td>2021-08-04 14:02&nbsp;</td>\r\n",
      "\t\t\t\t\t\t<td>28.3&nbsp;</td>\r\n",
      "\t\t\t\t\t\t<td>32.6&nbsp;</td>\r\n",
      "\t\t\t\t\t\t<td>2021-08-04 12:31&nbsp;</td>\r\n",
      "\t\t\t\t\t\t<td>25.6&nbsp;</td>\r\n",
      "\t\t\t\t\t\t<td>2021-08-04 02:58&nbsp;</td>\r\n",
      "\t\t\t\t\t\t<td>...&nbsp;</td>\r\n",
      "\t\t\t\t\t\t<td>83&nbsp;</td>\r\n",
      "\t\t\t\t\t\t<td>68&nbsp;</td>\r\n",
      "\t\t\t\t\t\t<td>2021-08-04 11:52&nbsp;</td>\r\n",
      "\t\t\t\t\t\t<td>0.3&nbsp;</td>\r\n",
      "\t\t\t\t\t\t<td>59&nbsp;</td>\r\n",
      "\t\t\t\t\t\t<td>5.5&nbsp;</td>\r\n",
      "\t\t\t\t\t\t<td>7&nbsp;</td>\r\n",
      "\t\t\t\t\t\t<td>2021-08-04 15:08&nbsp;</td>\r\n",
      "\t\t\t\t\t\t<td>1.0&nbsp;</td>\r\n",
      "\t\t\t\t\t\t<td>...&nbsp;</td>\r\n",
      "\t\t\t\t\t\t<td>...&nbsp;</td>\r\n",
      "\t\t\t\t\t\t<td>...&nbsp;</td>\r\n",
      "\t\t\t\t\t\t<td>...&nbsp;</td>\r\n",
      "\t\t\t\t\t\t<td>...&nbsp;</td>\r\n",
      "\t\t\t\t\t\t<td>...&nbsp;</td>\r\n",
      "\t\t\t\t\t\t<td>...&nbsp;</td>\r\n",
      "\t\t\t\t\t\t<td>...&nbsp;</td>\r\n",
      "\t\t\t\t\t\t<td>...&nbsp;</td>\r\n",
      "\t\t\t\t\t\t<td>...&nbsp;</td>\r\n",
      "\t\t\t\t\t\t<td>...&nbsp;</td>\r\n",
      "\t\t\t\t\t\t<td>...&nbsp;</td>\r\n",
      "\t\t\t\t\t\t<td>...&nbsp;</td>\r\n",
      "\t\t\t\t\t</tr>\r\n",
      "\t\t\t\t\r\n",
      "\t\t\t\t\t\r\n",
      "\t\t\t\t\t<tr>\r\n",
      "\t\t\t\t\t\t<td nowrap>05</td>\r\n",
      "\t\t\t\t\t\t<td>991.7&nbsp;</td>\r\n",
      "\t\t\t\t\t\t<td>...&nbsp;</td>\r\n",
      "\t\t\t\t\t\t<td>993.2&nbsp;</td>\r\n",
      "\t\t\t\t\t\t<td>2021-08-05 21:22&nbsp;</td>\r\n",
      "\t\t\t\t\t\t<td>990.9&nbsp;</td>\r\n",
      "\t\t\t\t\t\t<td>2021-08-05 03:21&nbsp;</td>\r\n",
      "\t\t\t\t\t\t<td>28.4&nbsp;</td>\r\n",
      "\t\t\t\t\t\t<td>33.6&nbsp;</td>\r\n",
      "\t\t\t\t\t\t<td>2021-08-05 10:54&nbsp;</td>\r\n",
      "\t\t\t\t\t\t<td>25.9&nbsp;</td>\r\n",
      "\t\t\t\t\t\t<td>2021-08-05 05:21&nbsp;</td>\r\n",
      "\t\t\t\t\t\t<td>...&nbsp;</td>\r\n",
      "\t\t\t\t\t\t<td>80&nbsp;</td>\r\n",
      "\t\t\t\t\t\t<td>56&nbsp;</td>\r\n",
      "\t\t\t\t\t\t<td>2021-08-05 10:54&nbsp;</td>\r\n",
      "\t\t\t\t\t\t<td>0.4&nbsp;</td>\r\n",
      "\t\t\t\t\t\t<td>70&nbsp;</td>\r\n",
      "\t\t\t\t\t\t<td>7.7&nbsp;</td>\r\n",
      "\t\t\t\t\t\t<td>327&nbsp;</td>\r\n",
      "\t\t\t\t\t\t<td>2021-08-05 12:22&nbsp;</td>\r\n",
      "\t\t\t\t\t\t<td>0.5&nbsp;</td>\r\n",
      "\t\t\t\t\t\t<td>...&nbsp;</td>\r\n",
      "\t\t\t\t\t\t<td>...&nbsp;</td>\r\n",
      "\t\t\t\t\t\t<td>...&nbsp;</td>\r\n",
      "\t\t\t\t\t\t<td>...&nbsp;</td>\r\n",
      "\t\t\t\t\t\t<td>...&nbsp;</td>\r\n",
      "\t\t\t\t\t\t<td>...&nbsp;</td>\r\n",
      "\t\t\t\t\t\t<td>...&nbsp;</td>\r\n",
      "\t\t\t\t\t\t<td>...&nbsp;</td>\r\n",
      "\t\t\t\t\t\t<td>...&nbsp;</td>\r\n",
      "\t\t\t\t\t\t<td>...&nbsp;</td>\r\n",
      "\t\t\t\t\t\t<td>...&nbsp;</td>\r\n",
      "\t\t\t\t\t\t<td>...&nbsp;</td>\r\n",
      "\t\t\t\t\t\t<td>...&nbsp;</td>\r\n",
      "\t\t\t\t\t</tr>\r\n",
      "\t\t\t\t\r\n",
      "\t\t\t\t\t\r\n",
      "\t\t\t\t\t<tr>\r\n",
      "\t\t\t\t\t\t<td nowrap>06</td>\r\n",
      "\t\t\t\t\t\t<td>990.6&nbsp;</td>\r\n",
      "\t\t\t\t\t\t<td>...&nbsp;</td>\r\n",
      "\t\t\t\t\t\t<td>992.9&nbsp;</td>\r\n",
      "\t\t\t\t\t\t<td>2021-08-06 09:43&nbsp;</td>\r\n",
      "\t\t\t\t\t\t<td>988.0&nbsp;</td>\r\n",
      "\t\t\t\t\t\t<td>2021-08-06 18:08&nbsp;</td>\r\n",
      "\t\t\t\t\t\t<td>26.8&nbsp;</td>\r\n",
      "\t\t\t\t\t\t<td>28.3&nbsp;</td>\r\n",
      "\t\t\t\t\t\t<td>2021-08-06 13:36&nbsp;</td>\r\n",
      "\t\t\t\t\t\t<td>25.1&nbsp;</td>\r\n",
      "\t\t\t\t\t\t<td>2021-08-06 23:42&nbsp;</td>\r\n",
      "\t\t\t\t\t\t<td>...&nbsp;</td>\r\n",
      "\t\t\t\t\t\t<td>90&nbsp;</td>\r\n",
      "\t\t\t\t\t\t<td>79&nbsp;</td>\r\n",
      "\t\t\t\t\t\t<td>2021-08-06 00:38&nbsp;</td>\r\n",
      "\t\t\t\t\t\t<td>0.5&nbsp;</td>\r\n",
      "\t\t\t\t\t\t<td>79&nbsp;</td>\r\n",
      "\t\t\t\t\t\t<td>5.5&nbsp;</td>\r\n",
      "\t\t\t\t\t\t<td>65&nbsp;</td>\r\n",
      "\t\t\t\t\t\t<td>2021-08-06 04:48&nbsp;</td>\r\n",
      "\t\t\t\t\t\t<td>12.0&nbsp;</td>\r\n",
      "\t\t\t\t\t\t<td>...&nbsp;</td>\r\n",
      "\t\t\t\t\t\t<td>...&nbsp;</td>\r\n",
      "\t\t\t\t\t\t<td>...&nbsp;</td>\r\n",
      "\t\t\t\t\t\t<td>...&nbsp;</td>\r\n",
      "\t\t\t\t\t\t<td>...&nbsp;</td>\r\n",
      "\t\t\t\t\t\t<td>...&nbsp;</td>\r\n",
      "\t\t\t\t\t\t<td>...&nbsp;</td>\r\n",
      "\t\t\t\t\t\t<td>...&nbsp;</td>\r\n",
      "\t\t\t\t\t\t<td>...&nbsp;</td>\r\n",
      "\t\t\t\t\t\t<td>...&nbsp;</td>\r\n",
      "\t\t\t\t\t\t<td>...&nbsp;</td>\r\n",
      "\t\t\t\t\t\t<td>...&nbsp;</td>\r\n",
      "\t\t\t\t\t\t<td>...&nbsp;</td>\r\n",
      "\t\t\t\t\t</tr>\r\n",
      "\t\t\t\t\r\n",
      "\t\t\t\t\t\r\n",
      "\t\t\t\t\t<tr>\r\n",
      "\t\t\t\t\t\t<td nowrap>07</td>\r\n",
      "\t\t\t\t\t\t<td>990.8&nbsp;</td>\r\n",
      "\t\t\t\t\t\t<td>...&nbsp;</td>\r\n",
      "\t\t\t\t\t\t<td>996.2&nbsp;</td>\r\n",
      "\t\t\t\t\t\t<td>2021-08-07 23:12&nbsp;</td>\r\n",
      "\t\t\t\t\t\t<td>987.3&nbsp;</td>\r\n",
      "\t\t\t\t\t\t<td>2021-08-07 05:02&nbsp;</td>\r\n",
      "\t\t\t\t\t\t<td>25.1&nbsp;</td>\r\n",
      "\t\t\t\t\t\t<td>25.9&nbsp;</td>\r\n",
      "\t\t\t\t\t\t<td>2021-08-07 23:41&nbsp;</td>\r\n",
      "\t\t\t\t\t\t<td>24.3&nbsp;</td>\r\n",
      "\t\t\t\t\t\t<td>2021-08-07 09:06&nbsp;</td>\r\n",
      "\t\t\t\t\t\t<td>...&nbsp;</td>\r\n",
      "\t\t\t\t\t\t<td>97&nbsp;</td>\r\n",
      "\t\t\t\t\t\t<td>90&nbsp;</td>\r\n",
      "\t\t\t\t\t\t<td>2021-08-07 23:51&nbsp;</td>\r\n",
      "\t\t\t\t\t\t<td>0.8&nbsp;</td>\r\n",
      "\t\t\t\t\t\t<td>251&nbsp;</td>\r\n",
      "\t\t\t\t\t\t<td>8.8&nbsp;</td>\r\n",
      "\t\t\t\t\t\t<td>202&nbsp;</td>\r\n",
      "\t\t\t\t\t\t<td>2021-08-07 19:29&nbsp;</td>\r\n",
      "\t\t\t\t\t\t<td>121.0&nbsp;</td>\r\n",
      "\t\t\t\t\t\t<td>...&nbsp;</td>\r\n",
      "\t\t\t\t\t\t<td>...&nbsp;</td>\r\n",
      "\t\t\t\t\t\t<td>...&nbsp;</td>\r\n",
      "\t\t\t\t\t\t<td>...&nbsp;</td>\r\n",
      "\t\t\t\t\t\t<td>...&nbsp;</td>\r\n",
      "\t\t\t\t\t\t<td>...&nbsp;</td>\r\n",
      "\t\t\t\t\t\t<td>...&nbsp;</td>\r\n",
      "\t\t\t\t\t\t<td>...&nbsp;</td>\r\n",
      "\t\t\t\t\t\t<td>...&nbsp;</td>\r\n",
      "\t\t\t\t\t\t<td>...&nbsp;</td>\r\n",
      "\t\t\t\t\t\t<td>...&nbsp;</td>\r\n",
      "\t\t\t\t\t\t<td>...&nbsp;</td>\r\n",
      "\t\t\t\t\t\t<td>...&nbsp;</td>\r\n",
      "\t\t\t\t\t</tr>\r\n",
      "\t\t\t\t\r\n",
      "\t\t\t\t\t\r\n",
      "\t\t\t\t\t<tr>\r\n",
      "\t\t\t\t\t\t<td nowrap>08</td>\r\n",
      "\t\t\t\t\t\t<td>997.3&nbsp;</td>\r\n",
      "\t\t\t\t\t\t<td>...&nbsp;</td>\r\n",
      "\t\t\t\t\t\t<td>1000.2&nbsp;</td>\r\n",
      "\t\t\t\t\t\t<td>2021-08-08 22:31&nbsp;</td>\r\n",
      "\t\t\t\t\t\t<td>995.0&nbsp;</td>\r\n",
      "\t\t\t\t\t\t<td>2021-08-08 01:01&nbsp;</td>\r\n",
      "\t\t\t\t\t\t<td>29.3&nbsp;</td>\r\n",
      "\t\t\t\t\t\t<td>35.2&nbsp;</td>\r\n",
      "\t\t\t\t\t\t<td>2021-08-08 13:23&nbsp;</td>\r\n",
      "\t\t\t\t\t\t<td>24.8&nbsp;</td>\r\n",
      "\t\t\t\t\t\t<td>2021-08-08 04:43&nbsp;</td>\r\n",
      "\t\t\t\t\t\t<td>...&nbsp;</td>\r\n",
      "\t\t\t\t\t\t<td>78&nbsp;</td>\r\n",
      "\t\t\t\t\t\t<td>57&nbsp;</td>\r\n",
      "\t\t\t\t\t\t<td>2021-08-08 13:32&nbsp;</td>\r\n",
      "\t\t\t\t\t\t<td>0.6&nbsp;</td>\r\n",
      "\t\t\t\t\t\t<td>261&nbsp;</td>\r\n",
      "\t\t\t\t\t\t<td>9.3&nbsp;</td>\r\n",
      "\t\t\t\t\t\t<td>327&nbsp;</td>\r\n",
      "\t\t\t\t\t\t<td>2021-08-08 14:13&nbsp;</td>\r\n",
      "\t\t\t\t\t\t<td>1.5&nbsp;</td>\r\n",
      "\t\t\t\t\t\t<td>...&nbsp;</td>\r\n",
      "\t\t\t\t\t\t<td>...&nbsp;</td>\r\n",
      "\t\t\t\t\t\t<td>...&nbsp;</td>\r\n",
      "\t\t\t\t\t\t<td>...&nbsp;</td>\r\n",
      "\t\t\t\t\t\t<td>...&nbsp;</td>\r\n",
      "\t\t\t\t\t\t<td>...&nbsp;</td>\r\n",
      "\t\t\t\t\t\t<td>...&nbsp;</td>\r\n",
      "\t\t\t\t\t\t<td>...&nbsp;</td>\r\n",
      "\t\t\t\t\t\t<td>...&nbsp;</td>\r\n",
      "\t\t\t\t\t\t<td>...&nbsp;</td>\r\n",
      "\t\t\t\t\t\t<td>...&nbsp;</td>\r\n",
      "\t\t\t\t\t\t<td>...&nbsp;</td>\r\n",
      "\t\t\t\t\t\t<td>...&nbsp;</td>\r\n",
      "\t\t\t\t\t</tr>\r\n",
      "\t\t\t\t\r\n",
      "\t\t\t\t\t\r\n",
      "\t\t\t\t\t<tr>\r\n",
      "\t\t\t\t\t\t<td nowrap>09</td>\r\n",
      "\t\t\t\t\t\t<td>999.6&nbsp;</td>\r\n",
      "\t\t\t\t\t\t<td>...&nbsp;</td>\r\n",
      "\t\t\t\t\t\t<td>1000.9&nbsp;</td>\r\n",
      "\t\t\t\t\t\t<td>2021-08-09 22:31&nbsp;</td>\r\n",
      "\t\t\t\t\t\t<td>997.9&nbsp;</td>\r\n",
      "\t\t\t\t\t\t<td>2021-08-09 17:59&nbsp;</td>\r\n",
      "\t\t\t\t\t\t<td>28.9&nbsp;</td>\r\n",
      "\t\t\t\t\t\t<td>34.3&nbsp;</td>\r\n",
      "\t\t\t\t\t\t<td>2021-08-09 10:34&nbsp;</td>\r\n",
      "\t\t\t\t\t\t<td>26.9&nbsp;</td>\r\n",
      "\t\t\t\t\t\t<td>2021-08-09 06:29&nbsp;</td>\r\n",
      "\t\t\t\t\t\t<td>...&nbsp;</td>\r\n",
      "\t\t\t\t\t\t<td>82&nbsp;</td>\r\n",
      "\t\t\t\t\t\t<td>56&nbsp;</td>\r\n",
      "\t\t\t\t\t\t<td>2021-08-09 10:31&nbsp;</td>\r\n",
      "\t\t\t\t\t\t<td>0.2&nbsp;</td>\r\n",
      "\t\t\t\t\t\t<td>74&nbsp;</td>\r\n",
      "\t\t\t\t\t\t<td>6.0&nbsp;</td>\r\n",
      "\t\t\t\t\t\t<td>264&nbsp;</td>\r\n",
      "\t\t\t\t\t\t<td>2021-08-09 12:25&nbsp;</td>\r\n",
      "\t\t\t\t\t\t<td>8.5&nbsp;</td>\r\n",
      "\t\t\t\t\t\t<td>...&nbsp;</td>\r\n",
      "\t\t\t\t\t\t<td>...&nbsp;</td>\r\n",
      "\t\t\t\t\t\t<td>...&nbsp;</td>\r\n",
      "\t\t\t\t\t\t<td>...&nbsp;</td>\r\n",
      "\t\t\t\t\t\t<td>...&nbsp;</td>\r\n",
      "\t\t\t\t\t\t<td>...&nbsp;</td>\r\n",
      "\t\t\t\t\t\t<td>...&nbsp;</td>\r\n",
      "\t\t\t\t\t\t<td>...&nbsp;</td>\r\n",
      "\t\t\t\t\t\t<td>...&nbsp;</td>\r\n",
      "\t\t\t\t\t\t<td>...&nbsp;</td>\r\n",
      "\t\t\t\t\t\t<td>...&nbsp;</td>\r\n",
      "\t\t\t\t\t\t<td>...&nbsp;</td>\r\n",
      "\t\t\t\t\t\t<td>...&nbsp;</td>\r\n",
      "\t\t\t\t\t</tr>\r\n",
      "\t\t\t\t\r\n",
      "\t\t\t\t\t\r\n",
      "\t\t\t\t\t<tr>\r\n",
      "\t\t\t\t\t\t<td nowrap>10</td>\r\n",
      "\t\t\t\t\t\t<td>1000.5&nbsp;</td>\r\n",
      "\t\t\t\t\t\t<td>...&nbsp;</td>\r\n",
      "\t\t\t\t\t\t<td>1001.8&nbsp;</td>\r\n",
      "\t\t\t\t\t\t<td>2021-08-10 22:02&nbsp;</td>\r\n",
      "\t\t\t\t\t\t<td>999.3&nbsp;</td>\r\n",
      "\t\t\t\t\t\t<td>2021-08-10 03:52&nbsp;</td>\r\n",
      "\t\t\t\t\t\t<td>29.0&nbsp;</td>\r\n",
      "\t\t\t\t\t\t<td>33.6&nbsp;</td>\r\n",
      "\t\t\t\t\t\t<td>2021-08-10 10:11&nbsp;</td>\r\n",
      "\t\t\t\t\t\t<td>26.0&nbsp;</td>\r\n",
      "\t\t\t\t\t\t<td>2021-08-10 05:31&nbsp;</td>\r\n",
      "\t\t\t\t\t\t<td>...&nbsp;</td>\r\n",
      "\t\t\t\t\t\t<td>76&nbsp;</td>\r\n",
      "\t\t\t\t\t\t<td>55&nbsp;</td>\r\n",
      "\t\t\t\t\t\t<td>2021-08-10 11:12&nbsp;</td>\r\n",
      "\t\t\t\t\t\t<td>0.3&nbsp;</td>\r\n",
      "\t\t\t\t\t\t<td>61&nbsp;</td>\r\n",
      "\t\t\t\t\t\t<td>6.6&nbsp;</td>\r\n",
      "\t\t\t\t\t\t<td>294&nbsp;</td>\r\n",
      "\t\t\t\t\t\t<td>2021-08-10 11:40&nbsp;</td>\r\n",
      "\t\t\t\t\t\t<td>0.0&nbsp;</td>\r\n",
      "\t\t\t\t\t\t<td>...&nbsp;</td>\r\n",
      "\t\t\t\t\t\t<td>...&nbsp;</td>\r\n",
      "\t\t\t\t\t\t<td>...&nbsp;</td>\r\n",
      "\t\t\t\t\t\t<td>...&nbsp;</td>\r\n",
      "\t\t\t\t\t\t<td>...&nbsp;</td>\r\n",
      "\t\t\t\t\t\t<td>...&nbsp;</td>\r\n",
      "\t\t\t\t\t\t<td>...&nbsp;</td>\r\n",
      "\t\t\t\t\t\t<td>...&nbsp;</td>\r\n",
      "\t\t\t\t\t\t<td>...&nbsp;</td>\r\n",
      "\t\t\t\t\t\t<td>...&nbsp;</td>\r\n",
      "\t\t\t\t\t\t<td>...&nbsp;</td>\r\n",
      "\t\t\t\t\t\t<td>...&nbsp;</td>\r\n",
      "\t\t\t\t\t\t<td>...&nbsp;</td>\r\n",
      "\t\t\t\t\t</tr>\r\n",
      "\t\t\t\t\r\n",
      "\t\t\t\t\t\r\n",
      "\t\t\t\t\t<tr>\r\n",
      "\t\t\t\t\t\t<td nowrap>11</td>\r\n",
      "\t\t\t\t\t\t<td>1002.1&nbsp;</td>\r\n",
      "\t\t\t\t\t\t<td>...&nbsp;</td>\r\n",
      "\t\t\t\t\t\t<td>1003.6&nbsp;</td>\r\n",
      "\t\t\t\t\t\t<td>2021-08-11 21:42&nbsp;</td>\r\n",
      "\t\t\t\t\t\t<td>1000.7&nbsp;</td>\r\n",
      "\t\t\t\t\t\t<td>2021-08-11 16:14&nbsp;</td>\r\n",
      "\t\t\t\t\t\t<td>29.0&nbsp;</td>\r\n",
      "\t\t\t\t\t\t<td>34.6&nbsp;</td>\r\n",
      "\t\t\t\t\t\t<td>2021-08-11 12:32&nbsp;</td>\r\n",
      "\t\t\t\t\t\t<td>26.1&nbsp;</td>\r\n",
      "\t\t\t\t\t\t<td>2021-08-11 04:46&nbsp;</td>\r\n",
      "\t\t\t\t\t\t<td>...&nbsp;</td>\r\n",
      "\t\t\t\t\t\t<td>76&nbsp;</td>\r\n",
      "\t\t\t\t\t\t<td>50&nbsp;</td>\r\n",
      "\t\t\t\t\t\t<td>2021-08-11 12:32&nbsp;</td>\r\n",
      "\t\t\t\t\t\t<td>0.2&nbsp;</td>\r\n",
      "\t\t\t\t\t\t<td>257&nbsp;</td>\r\n",
      "\t\t\t\t\t\t<td>6.6&nbsp;</td>\r\n",
      "\t\t\t\t\t\t<td>295&nbsp;</td>\r\n",
      "\t\t\t\t\t\t<td>2021-08-11 13:31&nbsp;</td>\r\n",
      "\t\t\t\t\t\t<td>14.5&nbsp;</td>\r\n",
      "\t\t\t\t\t\t<td>...&nbsp;</td>\r\n",
      "\t\t\t\t\t\t<td>...&nbsp;</td>\r\n",
      "\t\t\t\t\t\t<td>...&nbsp;</td>\r\n",
      "\t\t\t\t\t\t<td>...&nbsp;</td>\r\n",
      "\t\t\t\t\t\t<td>...&nbsp;</td>\r\n",
      "\t\t\t\t\t\t<td>...&nbsp;</td>\r\n",
      "\t\t\t\t\t\t<td>...&nbsp;</td>\r\n",
      "\t\t\t\t\t\t<td>...&nbsp;</td>\r\n",
      "\t\t\t\t\t\t<td>...&nbsp;</td>\r\n",
      "\t\t\t\t\t\t<td>...&nbsp;</td>\r\n",
      "\t\t\t\t\t\t<td>...&nbsp;</td>\r\n",
      "\t\t\t\t\t\t<td>...&nbsp;</td>\r\n",
      "\t\t\t\t\t\t<td>...&nbsp;</td>\r\n",
      "\t\t\t\t\t</tr>\r\n",
      "\t\t\t\t\r\n",
      "\t\t\t\t\t\r\n",
      "\t\t\t\t\t<tr>\r\n",
      "\t\t\t\t\t\t<td nowrap>12</td>\r\n",
      "\t\t\t\t\t\t<td>1001.8&nbsp;</td>\r\n",
      "\t\t\t\t\t\t<td>...&nbsp;</td>\r\n",
      "\t\t\t\t\t\t<td>1003.6&nbsp;</td>\r\n",
      "\t\t\t\t\t\t<td>2021-08-12 08:33&nbsp;</td>\r\n",
      "\t\t\t\t\t\t<td>999.7&nbsp;</td>\r\n",
      "\t\t\t\t\t\t<td>2021-08-12 15:45&nbsp;</td>\r\n",
      "\t\t\t\t\t\t<td>28.7&nbsp;</td>\r\n",
      "\t\t\t\t\t\t<td>35.9&nbsp;</td>\r\n",
      "\t\t\t\t\t\t<td>2021-08-12 13:24&nbsp;</td>\r\n",
      "\t\t\t\t\t\t<td>25.6&nbsp;</td>\r\n",
      "\t\t\t\t\t\t<td>2021-08-12 06:12&nbsp;</td>\r\n",
      "\t\t\t\t\t\t<td>...&nbsp;</td>\r\n",
      "\t\t\t\t\t\t<td>78&nbsp;</td>\r\n",
      "\t\t\t\t\t\t<td>48&nbsp;</td>\r\n",
      "\t\t\t\t\t\t<td>2021-08-12 13:01&nbsp;</td>\r\n",
      "\t\t\t\t\t\t<td>0.4&nbsp;</td>\r\n",
      "\t\t\t\t\t\t<td>49&nbsp;</td>\r\n",
      "\t\t\t\t\t\t<td>7.7&nbsp;</td>\r\n",
      "\t\t\t\t\t\t<td>201&nbsp;</td>\r\n",
      "\t\t\t\t\t\t<td>2021-08-12 12:34&nbsp;</td>\r\n",
      "\t\t\t\t\t\t<td>3.5&nbsp;</td>\r\n",
      "\t\t\t\t\t\t<td>...&nbsp;</td>\r\n",
      "\t\t\t\t\t\t<td>...&nbsp;</td>\r\n",
      "\t\t\t\t\t\t<td>...&nbsp;</td>\r\n",
      "\t\t\t\t\t\t<td>...&nbsp;</td>\r\n",
      "\t\t\t\t\t\t<td>...&nbsp;</td>\r\n",
      "\t\t\t\t\t\t<td>...&nbsp;</td>\r\n",
      "\t\t\t\t\t\t<td>...&nbsp;</td>\r\n",
      "\t\t\t\t\t\t<td>...&nbsp;</td>\r\n",
      "\t\t\t\t\t\t<td>...&nbsp;</td>\r\n",
      "\t\t\t\t\t\t<td>...&nbsp;</td>\r\n",
      "\t\t\t\t\t\t<td>...&nbsp;</td>\r\n",
      "\t\t\t\t\t\t<td>...&nbsp;</td>\r\n",
      "\t\t\t\t\t\t<td>...&nbsp;</td>\r\n",
      "\t\t\t\t\t</tr>\r\n",
      "\t\t\t\t\r\n",
      "\t\t\t\t\t\r\n",
      "\t\t\t\t\t<tr>\r\n",
      "\t\t\t\t\t\t<td nowrap>13</td>\r\n",
      "\t\t\t\t\t\t<td>999.6&nbsp;</td>\r\n",
      "\t\t\t\t\t\t<td>...&nbsp;</td>\r\n",
      "\t\t\t\t\t\t<td>1000.8&nbsp;</td>\r\n",
      "\t\t\t\t\t\t<td>2021-08-13 00:01&nbsp;</td>\r\n",
      "\t\t\t\t\t\t<td>998.1&nbsp;</td>\r\n",
      "\t\t\t\t\t\t<td>2021-08-13 13:36&nbsp;</td>\r\n",
      "\t\t\t\t\t\t<td>28.2&nbsp;</td>\r\n",
      "\t\t\t\t\t\t<td>36.1&nbsp;</td>\r\n",
      "\t\t\t\t\t\t<td>2021-08-13 11:22&nbsp;</td>\r\n",
      "\t\t\t\t\t\t<td>25.6&nbsp;</td>\r\n",
      "\t\t\t\t\t\t<td>2021-08-13 14:51&nbsp;</td>\r\n",
      "\t\t\t\t\t\t<td>...&nbsp;</td>\r\n",
      "\t\t\t\t\t\t<td>81&nbsp;</td>\r\n",
      "\t\t\t\t\t\t<td>50&nbsp;</td>\r\n",
      "\t\t\t\t\t\t<td>2021-08-13 11:21&nbsp;</td>\r\n",
      "\t\t\t\t\t\t<td>0.3&nbsp;</td>\r\n",
      "\t\t\t\t\t\t<td>59&nbsp;</td>\r\n",
      "\t\t\t\t\t\t<td>6.6&nbsp;</td>\r\n",
      "\t\t\t\t\t\t<td>97&nbsp;</td>\r\n",
      "\t\t\t\t\t\t<td>2021-08-13 13:39&nbsp;</td>\r\n",
      "\t\t\t\t\t\t<td>57.5&nbsp;</td>\r\n",
      "\t\t\t\t\t\t<td>...&nbsp;</td>\r\n",
      "\t\t\t\t\t\t<td>...&nbsp;</td>\r\n",
      "\t\t\t\t\t\t<td>...&nbsp;</td>\r\n",
      "\t\t\t\t\t\t<td>...&nbsp;</td>\r\n",
      "\t\t\t\t\t\t<td>...&nbsp;</td>\r\n",
      "\t\t\t\t\t\t<td>...&nbsp;</td>\r\n",
      "\t\t\t\t\t\t<td>...&nbsp;</td>\r\n",
      "\t\t\t\t\t\t<td>...&nbsp;</td>\r\n",
      "\t\t\t\t\t\t<td>...&nbsp;</td>\r\n",
      "\t\t\t\t\t\t<td>...&nbsp;</td>\r\n",
      "\t\t\t\t\t\t<td>...&nbsp;</td>\r\n",
      "\t\t\t\t\t\t<td>...&nbsp;</td>\r\n",
      "\t\t\t\t\t\t<td>...&nbsp;</td>\r\n",
      "\t\t\t\t\t</tr>\r\n",
      "\t\t\t\t\r\n",
      "\t\t\t\t\t\r\n",
      "\t\t\t\t\t<tr>\r\n",
      "\t\t\t\t\t\t<td nowrap>14</td>\r\n",
      "\t\t\t\t\t\t<td>1000.1&nbsp;</td>\r\n",
      "\t\t\t\t\t\t<td>...&nbsp;</td>\r\n",
      "\t\t\t\t\t\t<td>1002.9&nbsp;</td>\r\n",
      "\t\t\t\t\t\t<td>2021-08-14 21:44&nbsp;</td>\r\n",
      "\t\t\t\t\t\t<td>998.4&nbsp;</td>\r\n",
      "\t\t\t\t\t\t<td>2021-08-14 03:32&nbsp;</td>\r\n",
      "\t\t\t\t\t\t<td>27.9&nbsp;</td>\r\n",
      "\t\t\t\t\t\t<td>33.2&nbsp;</td>\r\n",
      "\t\t\t\t\t\t<td>2021-08-14 12:01&nbsp;</td>\r\n",
      "\t\t\t\t\t\t<td>25.3&nbsp;</td>\r\n",
      "\t\t\t\t\t\t<td>2021-08-14 05:24&nbsp;</td>\r\n",
      "\t\t\t\t\t\t<td>...&nbsp;</td>\r\n",
      "\t\t\t\t\t\t<td>83&nbsp;</td>\r\n",
      "\t\t\t\t\t\t<td>58&nbsp;</td>\r\n",
      "\t\t\t\t\t\t<td>2021-08-14 11:13&nbsp;</td>\r\n",
      "\t\t\t\t\t\t<td>0.1&nbsp;</td>\r\n",
      "\t\t\t\t\t\t<td>90&nbsp;</td>\r\n",
      "\t\t\t\t\t\t<td>7.1&nbsp;</td>\r\n",
      "\t\t\t\t\t\t<td>99&nbsp;</td>\r\n",
      "\t\t\t\t\t\t<td>2021-08-14 14:58&nbsp;</td>\r\n",
      "\t\t\t\t\t\t<td>58.5&nbsp;</td>\r\n",
      "\t\t\t\t\t\t<td>...&nbsp;</td>\r\n",
      "\t\t\t\t\t\t<td>...&nbsp;</td>\r\n",
      "\t\t\t\t\t\t<td>...&nbsp;</td>\r\n",
      "\t\t\t\t\t\t<td>...&nbsp;</td>\r\n",
      "\t\t\t\t\t\t<td>...&nbsp;</td>\r\n",
      "\t\t\t\t\t\t<td>...&nbsp;</td>\r\n",
      "\t\t\t\t\t\t<td>...&nbsp;</td>\r\n",
      "\t\t\t\t\t\t<td>...&nbsp;</td>\r\n",
      "\t\t\t\t\t\t<td>...&nbsp;</td>\r\n",
      "\t\t\t\t\t\t<td>...&nbsp;</td>\r\n",
      "\t\t\t\t\t\t<td>...&nbsp;</td>\r\n",
      "\t\t\t\t\t\t<td>...&nbsp;</td>\r\n",
      "\t\t\t\t\t\t<td>...&nbsp;</td>\r\n",
      "\t\t\t\t\t</tr>\r\n",
      "\t\t\t\t\r\n",
      "\t\t\t\t\t\r\n",
      "\t\t\t\t\t<tr>\r\n",
      "\t\t\t\t\t\t<td nowrap>15</td>\r\n",
      "\t\t\t\t\t\t<td>1003.9&nbsp;</td>\r\n",
      "\t\t\t\t\t\t<td>...&nbsp;</td>\r\n",
      "\t\t\t\t\t\t<td>1005.9&nbsp;</td>\r\n",
      "\t\t\t\t\t\t<td>2021-08-15 21:41&nbsp;</td>\r\n",
      "\t\t\t\t\t\t<td>1001.5&nbsp;</td>\r\n",
      "\t\t\t\t\t\t<td>2021-08-15 02:11&nbsp;</td>\r\n",
      "\t\t\t\t\t\t<td>29.1&nbsp;</td>\r\n",
      "\t\t\t\t\t\t<td>32.2&nbsp;</td>\r\n",
      "\t\t\t\t\t\t<td>2021-08-15 15:21&nbsp;</td>\r\n",
      "\t\t\t\t\t\t<td>26.2&nbsp;</td>\r\n",
      "\t\t\t\t\t\t<td>2021-08-15 04:31&nbsp;</td>\r\n",
      "\t\t\t\t\t\t<td>...&nbsp;</td>\r\n",
      "\t\t\t\t\t\t<td>77&nbsp;</td>\r\n",
      "\t\t\t\t\t\t<td>62&nbsp;</td>\r\n",
      "\t\t\t\t\t\t<td>2021-08-15 16:07&nbsp;</td>\r\n",
      "\t\t\t\t\t\t<td>0.2&nbsp;</td>\r\n",
      "\t\t\t\t\t\t<td>52&nbsp;</td>\r\n",
      "\t\t\t\t\t\t<td>7.1&nbsp;</td>\r\n",
      "\t\t\t\t\t\t<td>317&nbsp;</td>\r\n",
      "\t\t\t\t\t\t<td>2021-08-15 11:06&nbsp;</td>\r\n",
      "\t\t\t\t\t\t<td>0.0&nbsp;</td>\r\n",
      "\t\t\t\t\t\t<td>...&nbsp;</td>\r\n",
      "\t\t\t\t\t\t<td>...&nbsp;</td>\r\n",
      "\t\t\t\t\t\t<td>...&nbsp;</td>\r\n",
      "\t\t\t\t\t\t<td>...&nbsp;</td>\r\n",
      "\t\t\t\t\t\t<td>...&nbsp;</td>\r\n",
      "\t\t\t\t\t\t<td>...&nbsp;</td>\r\n",
      "\t\t\t\t\t\t<td>...&nbsp;</td>\r\n",
      "\t\t\t\t\t\t<td>...&nbsp;</td>\r\n",
      "\t\t\t\t\t\t<td>...&nbsp;</td>\r\n",
      "\t\t\t\t\t\t<td>...&nbsp;</td>\r\n",
      "\t\t\t\t\t\t<td>...&nbsp;</td>\r\n",
      "\t\t\t\t\t\t<td>...&nbsp;</td>\r\n",
      "\t\t\t\t\t\t<td>...&nbsp;</td>\r\n",
      "\t\t\t\t\t</tr>\r\n",
      "\t\t\t\t\r\n",
      "\t\t\t\t\t\r\n",
      "\t\t\t\t\t<tr>\r\n",
      "\t\t\t\t\t\t<td nowrap>16</td>\r\n",
      "\t\t\t\t\t\t<td>1005.2&nbsp;</td>\r\n",
      "\t\t\t\t\t\t<td>...&nbsp;</td>\r\n",
      "\t\t\t\t\t\t<td>1006.8&nbsp;</td>\r\n",
      "\t\t\t\t\t\t<td>2021-08-16 09:11&nbsp;</td>\r\n",
      "\t\t\t\t\t\t<td>1003.5&nbsp;</td>\r\n",
      "\t\t\t\t\t\t<td>2021-08-16 17:11&nbsp;</td>\r\n",
      "\t\t\t\t\t\t<td>29.5&nbsp;</td>\r\n",
      "\t\t\t\t\t\t<td>34.8&nbsp;</td>\r\n",
      "\t\t\t\t\t\t<td>2021-08-16 10:22&nbsp;</td>\r\n",
      "\t\t\t\t\t\t<td>26.3&nbsp;</td>\r\n",
      "\t\t\t\t\t\t<td>2021-08-16 05:11&nbsp;</td>\r\n",
      "\t\t\t\t\t\t<td>...&nbsp;</td>\r\n",
      "\t\t\t\t\t\t<td>75&nbsp;</td>\r\n",
      "\t\t\t\t\t\t<td>51&nbsp;</td>\r\n",
      "\t\t\t\t\t\t<td>2021-08-16 11:34&nbsp;</td>\r\n",
      "\t\t\t\t\t\t<td>0.2&nbsp;</td>\r\n",
      "\t\t\t\t\t\t<td>60&nbsp;</td>\r\n",
      "\t\t\t\t\t\t<td>6.0&nbsp;</td>\r\n",
      "\t\t\t\t\t\t<td>350&nbsp;</td>\r\n",
      "\t\t\t\t\t\t<td>2021-08-16 13:39&nbsp;</td>\r\n",
      "\t\t\t\t\t\t<td>0.0&nbsp;</td>\r\n",
      "\t\t\t\t\t\t<td>...&nbsp;</td>\r\n",
      "\t\t\t\t\t\t<td>...&nbsp;</td>\r\n",
      "\t\t\t\t\t\t<td>...&nbsp;</td>\r\n",
      "\t\t\t\t\t\t<td>...&nbsp;</td>\r\n",
      "\t\t\t\t\t\t<td>...&nbsp;</td>\r\n",
      "\t\t\t\t\t\t<td>...&nbsp;</td>\r\n",
      "\t\t\t\t\t\t<td>...&nbsp;</td>\r\n",
      "\t\t\t\t\t\t<td>...&nbsp;</td>\r\n",
      "\t\t\t\t\t\t<td>...&nbsp;</td>\r\n",
      "\t\t\t\t\t\t<td>...&nbsp;</td>\r\n",
      "\t\t\t\t\t\t<td>...&nbsp;</td>\r\n",
      "\t\t\t\t\t\t<td>...&nbsp;</td>\r\n",
      "\t\t\t\t\t\t<td>...&nbsp;</td>\r\n",
      "\t\t\t\t\t</tr>\r\n",
      "\t\t\t\t\r\n",
      "\t\t\t\t\t\r\n",
      "\t\t\t\t\t<tr>\r\n",
      "\t\t\t\t\t\t<td nowrap>17</td>\r\n",
      "\t\t\t\t\t\t<td>1003.1&nbsp;</td>\r\n",
      "\t\t\t\t\t\t<td>...&nbsp;</td>\r\n",
      "\t\t\t\t\t\t<td>1005.2&nbsp;</td>\r\n",
      "\t\t\t\t\t\t<td>2021-08-17 00:01&nbsp;</td>\r\n",
      "\t\t\t\t\t\t<td>1000.3&nbsp;</td>\r\n",
      "\t\t\t\t\t\t<td>2021-08-17 15:41&nbsp;</td>\r\n",
      "\t\t\t\t\t\t<td>29.9&nbsp;</td>\r\n",
      "\t\t\t\t\t\t<td>35.3&nbsp;</td>\r\n",
      "\t\t\t\t\t\t<td>2021-08-17 13:12&nbsp;</td>\r\n",
      "\t\t\t\t\t\t<td>26.6&nbsp;</td>\r\n",
      "\t\t\t\t\t\t<td>2021-08-17 04:02&nbsp;</td>\r\n",
      "\t\t\t\t\t\t<td>...&nbsp;</td>\r\n",
      "\t\t\t\t\t\t<td>70&nbsp;</td>\r\n",
      "\t\t\t\t\t\t<td>51&nbsp;</td>\r\n",
      "\t\t\t\t\t\t<td>2021-08-17 13:12&nbsp;</td>\r\n",
      "\t\t\t\t\t\t<td>0.4&nbsp;</td>\r\n",
      "\t\t\t\t\t\t<td>197&nbsp;</td>\r\n",
      "\t\t\t\t\t\t<td>7.7&nbsp;</td>\r\n",
      "\t\t\t\t\t\t<td>314&nbsp;</td>\r\n",
      "\t\t\t\t\t\t<td>2021-08-17 14:10&nbsp;</td>\r\n",
      "\t\t\t\t\t\t<td>0.0&nbsp;</td>\r\n",
      "\t\t\t\t\t\t<td>...&nbsp;</td>\r\n",
      "\t\t\t\t\t\t<td>...&nbsp;</td>\r\n",
      "\t\t\t\t\t\t<td>...&nbsp;</td>\r\n",
      "\t\t\t\t\t\t<td>...&nbsp;</td>\r\n",
      "\t\t\t\t\t\t<td>...&nbsp;</td>\r\n",
      "\t\t\t\t\t\t<td>...&nbsp;</td>\r\n",
      "\t\t\t\t\t\t<td>...&nbsp;</td>\r\n",
      "\t\t\t\t\t\t<td>...&nbsp;</td>\r\n",
      "\t\t\t\t\t\t<td>...&nbsp;</td>\r\n",
      "\t\t\t\t\t\t<td>...&nbsp;</td>\r\n",
      "\t\t\t\t\t\t<td>...&nbsp;</td>\r\n",
      "\t\t\t\t\t\t<td>...&nbsp;</td>\r\n",
      "\t\t\t\t\t\t<td>...&nbsp;</td>\r\n",
      "\t\t\t\t\t</tr>\r\n",
      "\t\t\t\t\r\n",
      "\t\t\t\t\t\r\n",
      "\t\t\t\t\t<tr>\r\n",
      "\t\t\t\t\t\t<td nowrap>18</td>\r\n",
      "\t\t\t\t\t\t<td>1001.6&nbsp;</td>\r\n",
      "\t\t\t\t\t\t<td>...&nbsp;</td>\r\n",
      "\t\t\t\t\t\t<td>1002.9&nbsp;</td>\r\n",
      "\t\t\t\t\t\t<td>2021-08-18 00:01&nbsp;</td>\r\n",
      "\t\t\t\t\t\t<td>1000.6&nbsp;</td>\r\n",
      "\t\t\t\t\t\t<td>2021-08-18 17:11&nbsp;</td>\r\n",
      "\t\t\t\t\t\t<td>27.7&nbsp;</td>\r\n",
      "\t\t\t\t\t\t<td>31.9&nbsp;</td>\r\n",
      "\t\t\t\t\t\t<td>2021-08-18 11:23&nbsp;</td>\r\n",
      "\t\t\t\t\t\t<td>25.5&nbsp;</td>\r\n",
      "\t\t\t\t\t\t<td>2021-08-18 22:41&nbsp;</td>\r\n",
      "\t\t\t\t\t\t<td>...&nbsp;</td>\r\n",
      "\t\t\t\t\t\t<td>78&nbsp;</td>\r\n",
      "\t\t\t\t\t\t<td>62&nbsp;</td>\r\n",
      "\t\t\t\t\t\t<td>2021-08-18 11:31&nbsp;</td>\r\n",
      "\t\t\t\t\t\t<td>0.4&nbsp;</td>\r\n",
      "\t\t\t\t\t\t<td>31&nbsp;</td>\r\n",
      "\t\t\t\t\t\t<td>8.2&nbsp;</td>\r\n",
      "\t\t\t\t\t\t<td>325&nbsp;</td>\r\n",
      "\t\t\t\t\t\t<td>2021-08-18 11:47&nbsp;</td>\r\n",
      "\t\t\t\t\t\t<td>0.0&nbsp;</td>\r\n",
      "\t\t\t\t\t\t<td>...&nbsp;</td>\r\n",
      "\t\t\t\t\t\t<td>...&nbsp;</td>\r\n",
      "\t\t\t\t\t\t<td>...&nbsp;</td>\r\n",
      "\t\t\t\t\t\t<td>...&nbsp;</td>\r\n",
      "\t\t\t\t\t\t<td>...&nbsp;</td>\r\n",
      "\t\t\t\t\t\t<td>...&nbsp;</td>\r\n",
      "\t\t\t\t\t\t<td>...&nbsp;</td>\r\n",
      "\t\t\t\t\t\t<td>...&nbsp;</td>\r\n",
      "\t\t\t\t\t\t<td>...&nbsp;</td>\r\n",
      "\t\t\t\t\t\t<td>...&nbsp;</td>\r\n",
      "\t\t\t\t\t\t<td>...&nbsp;</td>\r\n",
      "\t\t\t\t\t\t<td>...&nbsp;</td>\r\n",
      "\t\t\t\t\t\t<td>...&nbsp;</td>\r\n",
      "\t\t\t\t\t</tr>\r\n",
      "\t\t\t\t\r\n",
      "\t\t\t\t\t\r\n",
      "\t\t\t\t\t<tr>\r\n",
      "\t\t\t\t\t\t<td nowrap>19</td>\r\n",
      "\t\t\t\t\t\t<td>1002.0&nbsp;</td>\r\n",
      "\t\t\t\t\t\t<td>...&nbsp;</td>\r\n",
      "\t\t\t\t\t\t<td>1003.4&nbsp;</td>\r\n",
      "\t\t\t\t\t\t<td>2021-08-19 20:51&nbsp;</td>\r\n",
      "\t\t\t\t\t\t<td>1000.2&nbsp;</td>\r\n",
      "\t\t\t\t\t\t<td>2021-08-19 03:35&nbsp;</td>\r\n",
      "\t\t\t\t\t\t<td>27.7&nbsp;</td>\r\n",
      "\t\t\t\t\t\t<td>34.4&nbsp;</td>\r\n",
      "\t\t\t\t\t\t<td>2021-08-19 11:55&nbsp;</td>\r\n",
      "\t\t\t\t\t\t<td>23.2&nbsp;</td>\r\n",
      "\t\t\t\t\t\t<td>2021-08-19 15:58&nbsp;</td>\r\n",
      "\t\t\t\t\t\t<td>...&nbsp;</td>\r\n",
      "\t\t\t\t\t\t<td>79&nbsp;</td>\r\n",
      "\t\t\t\t\t\t<td>50&nbsp;</td>\r\n",
      "\t\t\t\t\t\t<td>2021-08-19 11:55&nbsp;</td>\r\n",
      "\t\t\t\t\t\t<td>0.2&nbsp;</td>\r\n",
      "\t\t\t\t\t\t<td>80&nbsp;</td>\r\n",
      "\t\t\t\t\t\t<td>7.7&nbsp;</td>\r\n",
      "\t\t\t\t\t\t<td>98&nbsp;</td>\r\n",
      "\t\t\t\t\t\t<td>2021-08-19 15:12&nbsp;</td>\r\n",
      "\t\t\t\t\t\t<td>44.5&nbsp;</td>\r\n",
      "\t\t\t\t\t\t<td>...&nbsp;</td>\r\n",
      "\t\t\t\t\t\t<td>...&nbsp;</td>\r\n",
      "\t\t\t\t\t\t<td>...&nbsp;</td>\r\n",
      "\t\t\t\t\t\t<td>...&nbsp;</td>\r\n",
      "\t\t\t\t\t\t<td>...&nbsp;</td>\r\n",
      "\t\t\t\t\t\t<td>...&nbsp;</td>\r\n",
      "\t\t\t\t\t\t<td>...&nbsp;</td>\r\n",
      "\t\t\t\t\t\t<td>...&nbsp;</td>\r\n",
      "\t\t\t\t\t\t<td>...&nbsp;</td>\r\n",
      "\t\t\t\t\t\t<td>...&nbsp;</td>\r\n",
      "\t\t\t\t\t\t<td>...&nbsp;</td>\r\n",
      "\t\t\t\t\t\t<td>...&nbsp;</td>\r\n",
      "\t\t\t\t\t\t<td>...&nbsp;</td>\r\n",
      "\t\t\t\t\t</tr>\r\n",
      "\t\t\t\t\r\n",
      "\t\t\t\t\t\r\n",
      "\t\t\t\t\t<tr>\r\n",
      "\t\t\t\t\t\t<td nowrap>20</td>\r\n",
      "\t\t\t\t\t\t<td>1002.6&nbsp;</td>\r\n",
      "\t\t\t\t\t\t<td>...&nbsp;</td>\r\n",
      "\t\t\t\t\t\t<td>1004.0&nbsp;</td>\r\n",
      "\t\t\t\t\t\t<td>2021-08-20 08:41&nbsp;</td>\r\n",
      "\t\t\t\t\t\t<td>1000.9&nbsp;</td>\r\n",
      "\t\t\t\t\t\t<td>2021-08-20 16:31&nbsp;</td>\r\n",
      "\t\t\t\t\t\t<td>28.5&nbsp;</td>\r\n",
      "\t\t\t\t\t\t<td>34.3&nbsp;</td>\r\n",
      "\t\t\t\t\t\t<td>2021-08-20 14:31&nbsp;</td>\r\n",
      "\t\t\t\t\t\t<td>24.3&nbsp;</td>\r\n",
      "\t\t\t\t\t\t<td>2021-08-20 05:21&nbsp;</td>\r\n",
      "\t\t\t\t\t\t<td>...&nbsp;</td>\r\n",
      "\t\t\t\t\t\t<td>75&nbsp;</td>\r\n",
      "\t\t\t\t\t\t<td>51&nbsp;</td>\r\n",
      "\t\t\t\t\t\t<td>2021-08-20 11:02&nbsp;</td>\r\n",
      "\t\t\t\t\t\t<td>0.2&nbsp;</td>\r\n",
      "\t\t\t\t\t\t<td>84&nbsp;</td>\r\n",
      "\t\t\t\t\t\t<td>6.6&nbsp;</td>\r\n",
      "\t\t\t\t\t\t<td>319&nbsp;</td>\r\n",
      "\t\t\t\t\t\t<td>2021-08-20 11:20&nbsp;</td>\r\n",
      "\t\t\t\t\t\t<td>0.0&nbsp;</td>\r\n",
      "\t\t\t\t\t\t<td>...&nbsp;</td>\r\n",
      "\t\t\t\t\t\t<td>...&nbsp;</td>\r\n",
      "\t\t\t\t\t\t<td>...&nbsp;</td>\r\n",
      "\t\t\t\t\t\t<td>...&nbsp;</td>\r\n",
      "\t\t\t\t\t\t<td>...&nbsp;</td>\r\n",
      "\t\t\t\t\t\t<td>...&nbsp;</td>\r\n",
      "\t\t\t\t\t\t<td>...&nbsp;</td>\r\n",
      "\t\t\t\t\t\t<td>...&nbsp;</td>\r\n",
      "\t\t\t\t\t\t<td>...&nbsp;</td>\r\n",
      "\t\t\t\t\t\t<td>...&nbsp;</td>\r\n",
      "\t\t\t\t\t\t<td>...&nbsp;</td>\r\n",
      "\t\t\t\t\t\t<td>...&nbsp;</td>\r\n",
      "\t\t\t\t\t\t<td>...&nbsp;</td>\r\n",
      "\t\t\t\t\t</tr>\r\n",
      "\t\t\t\t\r\n",
      "\t\t\t\t\t\r\n",
      "\t\t\t\t\t<tr>\r\n",
      "\t\t\t\t\t\t<td nowrap>21</td>\r\n",
      "\t\t\t\t\t\t<td>1001.6&nbsp;</td>\r\n",
      "\t\t\t\t\t\t<td>...&nbsp;</td>\r\n",
      "\t\t\t\t\t\t<td>1003.0&nbsp;</td>\r\n",
      "\t\t\t\t\t\t<td>2021-08-21 08:41&nbsp;</td>\r\n",
      "\t\t\t\t\t\t<td>999.6&nbsp;</td>\r\n",
      "\t\t\t\t\t\t<td>2021-08-21 15:54&nbsp;</td>\r\n",
      "\t\t\t\t\t\t<td>29.2&nbsp;</td>\r\n",
      "\t\t\t\t\t\t<td>35.2&nbsp;</td>\r\n",
      "\t\t\t\t\t\t<td>2021-08-21 13:02&nbsp;</td>\r\n",
      "\t\t\t\t\t\t<td>25.2&nbsp;</td>\r\n",
      "\t\t\t\t\t\t<td>2021-08-21 06:08&nbsp;</td>\r\n",
      "\t\t\t\t\t\t<td>...&nbsp;</td>\r\n",
      "\t\t\t\t\t\t<td>73&nbsp;</td>\r\n",
      "\t\t\t\t\t\t<td>51&nbsp;</td>\r\n",
      "\t\t\t\t\t\t<td>2021-08-21 13:11&nbsp;</td>\r\n",
      "\t\t\t\t\t\t<td>0.3&nbsp;</td>\r\n",
      "\t\t\t\t\t\t<td>26&nbsp;</td>\r\n",
      "\t\t\t\t\t\t<td>4.9&nbsp;</td>\r\n",
      "\t\t\t\t\t\t<td>309&nbsp;</td>\r\n",
      "\t\t\t\t\t\t<td>2021-08-21 16:42&nbsp;</td>\r\n",
      "\t\t\t\t\t\t<td>0.0&nbsp;</td>\r\n",
      "\t\t\t\t\t\t<td>...&nbsp;</td>\r\n",
      "\t\t\t\t\t\t<td>...&nbsp;</td>\r\n",
      "\t\t\t\t\t\t<td>...&nbsp;</td>\r\n",
      "\t\t\t\t\t\t<td>...&nbsp;</td>\r\n",
      "\t\t\t\t\t\t<td>...&nbsp;</td>\r\n",
      "\t\t\t\t\t\t<td>...&nbsp;</td>\r\n",
      "\t\t\t\t\t\t<td>...&nbsp;</td>\r\n",
      "\t\t\t\t\t\t<td>...&nbsp;</td>\r\n",
      "\t\t\t\t\t\t<td>...&nbsp;</td>\r\n",
      "\t\t\t\t\t\t<td>...&nbsp;</td>\r\n",
      "\t\t\t\t\t\t<td>...&nbsp;</td>\r\n",
      "\t\t\t\t\t\t<td>...&nbsp;</td>\r\n",
      "\t\t\t\t\t\t<td>...&nbsp;</td>\r\n",
      "\t\t\t\t\t</tr>\r\n",
      "\t\t\t\t\r\n",
      "\t\t\t\t\t\r\n",
      "\t\t\t\t\t<tr>\r\n",
      "\t\t\t\t\t\t<td nowrap>22</td>\r\n",
      "\t\t\t\t\t\t<td>1000.3&nbsp;</td>\r\n",
      "\t\t\t\t\t\t<td>...&nbsp;</td>\r\n",
      "\t\t\t\t\t\t<td>1002.0&nbsp;</td>\r\n",
      "\t\t\t\t\t\t<td>2021-08-22 08:01&nbsp;</td>\r\n",
      "\t\t\t\t\t\t<td>998.3&nbsp;</td>\r\n",
      "\t\t\t\t\t\t<td>2021-08-22 15:15&nbsp;</td>\r\n",
      "\t\t\t\t\t\t<td>29.6&nbsp;</td>\r\n",
      "\t\t\t\t\t\t<td>34.8&nbsp;</td>\r\n",
      "\t\t\t\t\t\t<td>2021-08-22 12:52&nbsp;</td>\r\n",
      "\t\t\t\t\t\t<td>26.0&nbsp;</td>\r\n",
      "\t\t\t\t\t\t<td>2021-08-22 05:47&nbsp;</td>\r\n",
      "\t\t\t\t\t\t<td>...&nbsp;</td>\r\n",
      "\t\t\t\t\t\t<td>72&nbsp;</td>\r\n",
      "\t\t\t\t\t\t<td>53&nbsp;</td>\r\n",
      "\t\t\t\t\t\t<td>2021-08-22 10:33&nbsp;</td>\r\n",
      "\t\t\t\t\t\t<td>0.7&nbsp;</td>\r\n",
      "\t\t\t\t\t\t<td>85&nbsp;</td>\r\n",
      "\t\t\t\t\t\t<td>8.8&nbsp;</td>\r\n",
      "\t\t\t\t\t\t<td>296&nbsp;</td>\r\n",
      "\t\t\t\t\t\t<td>2021-08-22 13:38&nbsp;</td>\r\n",
      "\t\t\t\t\t\t<td>0.0&nbsp;</td>\r\n",
      "\t\t\t\t\t\t<td>...&nbsp;</td>\r\n",
      "\t\t\t\t\t\t<td>...&nbsp;</td>\r\n",
      "\t\t\t\t\t\t<td>...&nbsp;</td>\r\n",
      "\t\t\t\t\t\t<td>...&nbsp;</td>\r\n",
      "\t\t\t\t\t\t<td>...&nbsp;</td>\r\n",
      "\t\t\t\t\t\t<td>...&nbsp;</td>\r\n",
      "\t\t\t\t\t\t<td>...&nbsp;</td>\r\n",
      "\t\t\t\t\t\t<td>...&nbsp;</td>\r\n",
      "\t\t\t\t\t\t<td>...&nbsp;</td>\r\n",
      "\t\t\t\t\t\t<td>...&nbsp;</td>\r\n",
      "\t\t\t\t\t\t<td>...&nbsp;</td>\r\n",
      "\t\t\t\t\t\t<td>...&nbsp;</td>\r\n",
      "\t\t\t\t\t\t<td>...&nbsp;</td>\r\n",
      "\t\t\t\t\t</tr>\r\n",
      "\t\t\t\t\r\n",
      "\t\t\t\t\t\r\n",
      "\t\t\t\t\t<tr>\r\n",
      "\t\t\t\t\t\t<td nowrap>23</td>\r\n",
      "\t\t\t\t\t\t<td>1000.1&nbsp;</td>\r\n",
      "\t\t\t\t\t\t<td>...&nbsp;</td>\r\n",
      "\t\t\t\t\t\t<td>1001.2&nbsp;</td>\r\n",
      "\t\t\t\t\t\t<td>2021-08-23 21:11&nbsp;</td>\r\n",
      "\t\t\t\t\t\t<td>999.1&nbsp;</td>\r\n",
      "\t\t\t\t\t\t<td>2021-08-23 03:01&nbsp;</td>\r\n",
      "\t\t\t\t\t\t<td>29.9&nbsp;</td>\r\n",
      "\t\t\t\t\t\t<td>34.6&nbsp;</td>\r\n",
      "\t\t\t\t\t\t<td>2021-08-23 12:52&nbsp;</td>\r\n",
      "\t\t\t\t\t\t<td>26.7&nbsp;</td>\r\n",
      "\t\t\t\t\t\t<td>2021-08-23 05:52&nbsp;</td>\r\n",
      "\t\t\t\t\t\t<td>...&nbsp;</td>\r\n",
      "\t\t\t\t\t\t<td>72&nbsp;</td>\r\n",
      "\t\t\t\t\t\t<td>52&nbsp;</td>\r\n",
      "\t\t\t\t\t\t<td>2021-08-23 13:01&nbsp;</td>\r\n",
      "\t\t\t\t\t\t<td>0.5&nbsp;</td>\r\n",
      "\t\t\t\t\t\t<td>80&nbsp;</td>\r\n",
      "\t\t\t\t\t\t<td>7.1&nbsp;</td>\r\n",
      "\t\t\t\t\t\t<td>325&nbsp;</td>\r\n",
      "\t\t\t\t\t\t<td>2021-08-23 11:59&nbsp;</td>\r\n",
      "\t\t\t\t\t\t<td>0.0&nbsp;</td>\r\n",
      "\t\t\t\t\t\t<td>...&nbsp;</td>\r\n",
      "\t\t\t\t\t\t<td>...&nbsp;</td>\r\n",
      "\t\t\t\t\t\t<td>...&nbsp;</td>\r\n",
      "\t\t\t\t\t\t<td>...&nbsp;</td>\r\n",
      "\t\t\t\t\t\t<td>...&nbsp;</td>\r\n",
      "\t\t\t\t\t\t<td>...&nbsp;</td>\r\n",
      "\t\t\t\t\t\t<td>...&nbsp;</td>\r\n",
      "\t\t\t\t\t\t<td>...&nbsp;</td>\r\n",
      "\t\t\t\t\t\t<td>...&nbsp;</td>\r\n",
      "\t\t\t\t\t\t<td>...&nbsp;</td>\r\n",
      "\t\t\t\t\t\t<td>...&nbsp;</td>\r\n",
      "\t\t\t\t\t\t<td>...&nbsp;</td>\r\n",
      "\t\t\t\t\t\t<td>...&nbsp;</td>\r\n",
      "\t\t\t\t\t</tr>\r\n",
      "\t\t\t\t\r\n",
      "\t\t\t\t\t\r\n",
      "\t\t\t\t\t<tr>\r\n",
      "\t\t\t\t\t\t<td nowrap>24</td>\r\n",
      "\t\t\t\t\t\t<td>1001.2&nbsp;</td>\r\n",
      "\t\t\t\t\t\t<td>...&nbsp;</td>\r\n",
      "\t\t\t\t\t\t<td>1002.6&nbsp;</td>\r\n",
      "\t\t\t\t\t\t<td>2021-08-24 22:31&nbsp;</td>\r\n",
      "\t\t\t\t\t\t<td>999.7&nbsp;</td>\r\n",
      "\t\t\t\t\t\t<td>2021-08-24 13:51&nbsp;</td>\r\n",
      "\t\t\t\t\t\t<td>28.6&nbsp;</td>\r\n",
      "\t\t\t\t\t\t<td>35.3&nbsp;</td>\r\n",
      "\t\t\t\t\t\t<td>2021-08-24 12:31&nbsp;</td>\r\n",
      "\t\t\t\t\t\t<td>26.1&nbsp;</td>\r\n",
      "\t\t\t\t\t\t<td>2021-08-24 16:13&nbsp;</td>\r\n",
      "\t\t\t\t\t\t<td>...&nbsp;</td>\r\n",
      "\t\t\t\t\t\t<td>78&nbsp;</td>\r\n",
      "\t\t\t\t\t\t<td>45&nbsp;</td>\r\n",
      "\t\t\t\t\t\t<td>2021-08-24 12:21&nbsp;</td>\r\n",
      "\t\t\t\t\t\t<td>0.1&nbsp;</td>\r\n",
      "\t\t\t\t\t\t<td>198&nbsp;</td>\r\n",
      "\t\t\t\t\t\t<td>7.7&nbsp;</td>\r\n",
      "\t\t\t\t\t\t<td>322&nbsp;</td>\r\n",
      "\t\t\t\t\t\t<td>2021-08-24 13:04&nbsp;</td>\r\n",
      "\t\t\t\t\t\t<td>1.5&nbsp;</td>\r\n",
      "\t\t\t\t\t\t<td>...&nbsp;</td>\r\n",
      "\t\t\t\t\t\t<td>...&nbsp;</td>\r\n",
      "\t\t\t\t\t\t<td>...&nbsp;</td>\r\n",
      "\t\t\t\t\t\t<td>...&nbsp;</td>\r\n",
      "\t\t\t\t\t\t<td>...&nbsp;</td>\r\n",
      "\t\t\t\t\t\t<td>...&nbsp;</td>\r\n",
      "\t\t\t\t\t\t<td>...&nbsp;</td>\r\n",
      "\t\t\t\t\t\t<td>...&nbsp;</td>\r\n",
      "\t\t\t\t\t\t<td>...&nbsp;</td>\r\n",
      "\t\t\t\t\t\t<td>...&nbsp;</td>\r\n",
      "\t\t\t\t\t\t<td>...&nbsp;</td>\r\n",
      "\t\t\t\t\t\t<td>...&nbsp;</td>\r\n",
      "\t\t\t\t\t\t<td>...&nbsp;</td>\r\n",
      "\t\t\t\t\t</tr>\r\n",
      "\t\t\t\t\r\n",
      "\t\t\t\t\t\r\n",
      "\t\t\t\t\t<tr>\r\n",
      "\t\t\t\t\t\t<td nowrap>25</td>\r\n",
      "\t\t\t\t\t\t<td>1002.8&nbsp;</td>\r\n",
      "\t\t\t\t\t\t<td>...&nbsp;</td>\r\n",
      "\t\t\t\t\t\t<td>1005.1&nbsp;</td>\r\n",
      "\t\t\t\t\t\t<td>2021-08-25 22:51&nbsp;</td>\r\n",
      "\t\t\t\t\t\t<td>1001.2&nbsp;</td>\r\n",
      "\t\t\t\t\t\t<td>2021-08-25 03:01&nbsp;</td>\r\n",
      "\t\t\t\t\t\t<td>29.0&nbsp;</td>\r\n",
      "\t\t\t\t\t\t<td>35.1&nbsp;</td>\r\n",
      "\t\t\t\t\t\t<td>2021-08-25 11:54&nbsp;</td>\r\n",
      "\t\t\t\t\t\t<td>25.8&nbsp;</td>\r\n",
      "\t\t\t\t\t\t<td>2021-08-25 05:43&nbsp;</td>\r\n",
      "\t\t\t\t\t\t<td>...&nbsp;</td>\r\n",
      "\t\t\t\t\t\t<td>77&nbsp;</td>\r\n",
      "\t\t\t\t\t\t<td>52&nbsp;</td>\r\n",
      "\t\t\t\t\t\t<td>2021-08-25 12:02&nbsp;</td>\r\n",
      "\t\t\t\t\t\t<td>0.4&nbsp;</td>\r\n",
      "\t\t\t\t\t\t<td>7&nbsp;</td>\r\n",
      "\t\t\t\t\t\t<td>7.1&nbsp;</td>\r\n",
      "\t\t\t\t\t\t<td>273&nbsp;</td>\r\n",
      "\t\t\t\t\t\t<td>2021-08-25 15:27&nbsp;</td>\r\n",
      "\t\t\t\t\t\t<td>1.5&nbsp;</td>\r\n",
      "\t\t\t\t\t\t<td>...&nbsp;</td>\r\n",
      "\t\t\t\t\t\t<td>...&nbsp;</td>\r\n",
      "\t\t\t\t\t\t<td>...&nbsp;</td>\r\n",
      "\t\t\t\t\t\t<td>...&nbsp;</td>\r\n",
      "\t\t\t\t\t\t<td>...&nbsp;</td>\r\n",
      "\t\t\t\t\t\t<td>...&nbsp;</td>\r\n",
      "\t\t\t\t\t\t<td>...&nbsp;</td>\r\n",
      "\t\t\t\t\t\t<td>...&nbsp;</td>\r\n",
      "\t\t\t\t\t\t<td>...&nbsp;</td>\r\n",
      "\t\t\t\t\t\t<td>...&nbsp;</td>\r\n",
      "\t\t\t\t\t\t<td>...&nbsp;</td>\r\n",
      "\t\t\t\t\t\t<td>...&nbsp;</td>\r\n",
      "\t\t\t\t\t\t<td>...&nbsp;</td>\r\n",
      "\t\t\t\t\t</tr>\r\n",
      "\t\t\t\t\r\n",
      "\t\t\t\t\t\r\n",
      "\t\t\t\t\t<tr>\r\n",
      "\t\t\t\t\t\t<td nowrap>26</td>\r\n",
      "\t\t\t\t\t\t<td>1004.7&nbsp;</td>\r\n",
      "\t\t\t\t\t\t<td>...&nbsp;</td>\r\n",
      "\t\t\t\t\t\t<td>1005.8&nbsp;</td>\r\n",
      "\t\t\t\t\t\t<td>2021-08-26 21:54&nbsp;</td>\r\n",
      "\t\t\t\t\t\t<td>1003.0&nbsp;</td>\r\n",
      "\t\t\t\t\t\t<td>2021-08-26 15:01&nbsp;</td>\r\n",
      "\t\t\t\t\t\t<td>29.7&nbsp;</td>\r\n",
      "\t\t\t\t\t\t<td>34.9&nbsp;</td>\r\n",
      "\t\t\t\t\t\t<td>2021-08-26 10:52&nbsp;</td>\r\n",
      "\t\t\t\t\t\t<td>25.6&nbsp;</td>\r\n",
      "\t\t\t\t\t\t<td>2021-08-26 04:11&nbsp;</td>\r\n",
      "\t\t\t\t\t\t<td>...&nbsp;</td>\r\n",
      "\t\t\t\t\t\t<td>69&nbsp;</td>\r\n",
      "\t\t\t\t\t\t<td>47&nbsp;</td>\r\n",
      "\t\t\t\t\t\t<td>2021-08-26 12:30&nbsp;</td>\r\n",
      "\t\t\t\t\t\t<td>0.9&nbsp;</td>\r\n",
      "\t\t\t\t\t\t<td>87&nbsp;</td>\r\n",
      "\t\t\t\t\t\t<td>9.9&nbsp;</td>\r\n",
      "\t\t\t\t\t\t<td>89&nbsp;</td>\r\n",
      "\t\t\t\t\t\t<td>2021-08-26 13:08&nbsp;</td>\r\n",
      "\t\t\t\t\t\t<td>0.0&nbsp;</td>\r\n",
      "\t\t\t\t\t\t<td>...&nbsp;</td>\r\n",
      "\t\t\t\t\t\t<td>...&nbsp;</td>\r\n",
      "\t\t\t\t\t\t<td>...&nbsp;</td>\r\n",
      "\t\t\t\t\t\t<td>...&nbsp;</td>\r\n",
      "\t\t\t\t\t\t<td>...&nbsp;</td>\r\n",
      "\t\t\t\t\t\t<td>...&nbsp;</td>\r\n",
      "\t\t\t\t\t\t<td>...&nbsp;</td>\r\n",
      "\t\t\t\t\t\t<td>...&nbsp;</td>\r\n",
      "\t\t\t\t\t\t<td>...&nbsp;</td>\r\n",
      "\t\t\t\t\t\t<td>...&nbsp;</td>\r\n",
      "\t\t\t\t\t\t<td>...&nbsp;</td>\r\n",
      "\t\t\t\t\t\t<td>...&nbsp;</td>\r\n",
      "\t\t\t\t\t\t<td>...&nbsp;</td>\r\n",
      "\t\t\t\t\t</tr>\r\n",
      "\t\t\t\t\r\n",
      "\t\t\t\t\t\r\n",
      "\t\t\t\t\t<tr>\r\n",
      "\t\t\t\t\t\t<td nowrap>27</td>\r\n",
      "\t\t\t\t\t\t<td>1004.5&nbsp;</td>\r\n",
      "\t\t\t\t\t\t<td>...&nbsp;</td>\r\n",
      "\t\t\t\t\t\t<td>1005.5&nbsp;</td>\r\n",
      "\t\t\t\t\t\t<td>2021-08-27 00:06&nbsp;</td>\r\n",
      "\t\t\t\t\t\t<td>1002.9&nbsp;</td>\r\n",
      "\t\t\t\t\t\t<td>2021-08-27 15:02&nbsp;</td>\r\n",
      "\t\t\t\t\t\t<td>30.4&nbsp;</td>\r\n",
      "\t\t\t\t\t\t<td>36.9&nbsp;</td>\r\n",
      "\t\t\t\t\t\t<td>2021-08-27 11:41&nbsp;</td>\r\n",
      "\t\t\t\t\t\t<td>26.7&nbsp;</td>\r\n",
      "\t\t\t\t\t\t<td>2021-08-27 05:31&nbsp;</td>\r\n",
      "\t\t\t\t\t\t<td>...&nbsp;</td>\r\n",
      "\t\t\t\t\t\t<td>63&nbsp;</td>\r\n",
      "\t\t\t\t\t\t<td>41&nbsp;</td>\r\n",
      "\t\t\t\t\t\t<td>2021-08-27 11:41&nbsp;</td>\r\n",
      "\t\t\t\t\t\t<td>0.4&nbsp;</td>\r\n",
      "\t\t\t\t\t\t<td>33&nbsp;</td>\r\n",
      "\t\t\t\t\t\t<td>6.0&nbsp;</td>\r\n",
      "\t\t\t\t\t\t<td>35&nbsp;</td>\r\n",
      "\t\t\t\t\t\t<td>2021-08-27 19:53&nbsp;</td>\r\n",
      "\t\t\t\t\t\t<td>0.0&nbsp;</td>\r\n",
      "\t\t\t\t\t\t<td>...&nbsp;</td>\r\n",
      "\t\t\t\t\t\t<td>...&nbsp;</td>\r\n",
      "\t\t\t\t\t\t<td>...&nbsp;</td>\r\n",
      "\t\t\t\t\t\t<td>...&nbsp;</td>\r\n",
      "\t\t\t\t\t\t<td>...&nbsp;</td>\r\n",
      "\t\t\t\t\t\t<td>...&nbsp;</td>\r\n",
      "\t\t\t\t\t\t<td>...&nbsp;</td>\r\n",
      "\t\t\t\t\t\t<td>...&nbsp;</td>\r\n",
      "\t\t\t\t\t\t<td>...&nbsp;</td>\r\n",
      "\t\t\t\t\t\t<td>...&nbsp;</td>\r\n",
      "\t\t\t\t\t\t<td>...&nbsp;</td>\r\n",
      "\t\t\t\t\t\t<td>...&nbsp;</td>\r\n",
      "\t\t\t\t\t\t<td>...&nbsp;</td>\r\n",
      "\t\t\t\t\t</tr>\r\n",
      "\t\t\t\t\r\n",
      "\t\t\t\t\t\r\n",
      "\t\t\t\t\t<tr>\r\n",
      "\t\t\t\t\t\t<td nowrap>28</td>\r\n",
      "\t\t\t\t\t\t<td>1003.7&nbsp;</td>\r\n",
      "\t\t\t\t\t\t<td>...&nbsp;</td>\r\n",
      "\t\t\t\t\t\t<td>1005.0&nbsp;</td>\r\n",
      "\t\t\t\t\t\t<td>2021-08-28 22:01&nbsp;</td>\r\n",
      "\t\t\t\t\t\t<td>1001.4&nbsp;</td>\r\n",
      "\t\t\t\t\t\t<td>2021-08-28 14:54&nbsp;</td>\r\n",
      "\t\t\t\t\t\t<td>30.2&nbsp;</td>\r\n",
      "\t\t\t\t\t\t<td>35.0&nbsp;</td>\r\n",
      "\t\t\t\t\t\t<td>2021-08-28 13:16&nbsp;</td>\r\n",
      "\t\t\t\t\t\t<td>26.8&nbsp;</td>\r\n",
      "\t\t\t\t\t\t<td>2021-08-28 05:34&nbsp;</td>\r\n",
      "\t\t\t\t\t\t<td>...&nbsp;</td>\r\n",
      "\t\t\t\t\t\t<td>64&nbsp;</td>\r\n",
      "\t\t\t\t\t\t<td>49&nbsp;</td>\r\n",
      "\t\t\t\t\t\t<td>2021-08-28 13:59&nbsp;</td>\r\n",
      "\t\t\t\t\t\t<td>1.0&nbsp;</td>\r\n",
      "\t\t\t\t\t\t<td>68&nbsp;</td>\r\n",
      "\t\t\t\t\t\t<td>13.2&nbsp;</td>\r\n",
      "\t\t\t\t\t\t<td>106&nbsp;</td>\r\n",
      "\t\t\t\t\t\t<td>2021-08-28 11:02&nbsp;</td>\r\n",
      "\t\t\t\t\t\t<td>0.0&nbsp;</td>\r\n",
      "\t\t\t\t\t\t<td>...&nbsp;</td>\r\n",
      "\t\t\t\t\t\t<td>...&nbsp;</td>\r\n",
      "\t\t\t\t\t\t<td>...&nbsp;</td>\r\n",
      "\t\t\t\t\t\t<td>...&nbsp;</td>\r\n",
      "\t\t\t\t\t\t<td>...&nbsp;</td>\r\n",
      "\t\t\t\t\t\t<td>...&nbsp;</td>\r\n",
      "\t\t\t\t\t\t<td>...&nbsp;</td>\r\n",
      "\t\t\t\t\t\t<td>...&nbsp;</td>\r\n",
      "\t\t\t\t\t\t<td>...&nbsp;</td>\r\n",
      "\t\t\t\t\t\t<td>...&nbsp;</td>\r\n",
      "\t\t\t\t\t\t<td>...&nbsp;</td>\r\n",
      "\t\t\t\t\t\t<td>...&nbsp;</td>\r\n",
      "\t\t\t\t\t\t<td>...&nbsp;</td>\r\n",
      "\t\t\t\t\t</tr>\r\n",
      "\t\t\t\t\r\n",
      "\t\t\t\t\t\r\n",
      "\t\t\t\t\t<tr>\r\n",
      "\t\t\t\t\t\t<td nowrap>29</td>\r\n",
      "\t\t\t\t\t\t<td>1003.8&nbsp;</td>\r\n",
      "\t\t\t\t\t\t<td>...&nbsp;</td>\r\n",
      "\t\t\t\t\t\t<td>1005.6&nbsp;</td>\r\n",
      "\t\t\t\t\t\t<td>2021-08-29 23:08&nbsp;</td>\r\n",
      "\t\t\t\t\t\t<td>1002.2&nbsp;</td>\r\n",
      "\t\t\t\t\t\t<td>2021-08-29 14:55&nbsp;</td>\r\n",
      "\t\t\t\t\t\t<td>30.2&nbsp;</td>\r\n",
      "\t\t\t\t\t\t<td>34.4&nbsp;</td>\r\n",
      "\t\t\t\t\t\t<td>2021-08-29 10:21&nbsp;</td>\r\n",
      "\t\t\t\t\t\t<td>27.6&nbsp;</td>\r\n",
      "\t\t\t\t\t\t<td>2021-08-29 05:02&nbsp;</td>\r\n",
      "\t\t\t\t\t\t<td>...&nbsp;</td>\r\n",
      "\t\t\t\t\t\t<td>64&nbsp;</td>\r\n",
      "\t\t\t\t\t\t<td>47&nbsp;</td>\r\n",
      "\t\t\t\t\t\t<td>2021-08-29 14:33&nbsp;</td>\r\n",
      "\t\t\t\t\t\t<td>1.5&nbsp;</td>\r\n",
      "\t\t\t\t\t\t<td>68&nbsp;</td>\r\n",
      "\t\t\t\t\t\t<td>9.9&nbsp;</td>\r\n",
      "\t\t\t\t\t\t<td>112&nbsp;</td>\r\n",
      "\t\t\t\t\t\t<td>2021-08-29 16:29&nbsp;</td>\r\n",
      "\t\t\t\t\t\t<td>0.0&nbsp;</td>\r\n",
      "\t\t\t\t\t\t<td>...&nbsp;</td>\r\n",
      "\t\t\t\t\t\t<td>...&nbsp;</td>\r\n",
      "\t\t\t\t\t\t<td>...&nbsp;</td>\r\n",
      "\t\t\t\t\t\t<td>...&nbsp;</td>\r\n",
      "\t\t\t\t\t\t<td>...&nbsp;</td>\r\n",
      "\t\t\t\t\t\t<td>...&nbsp;</td>\r\n",
      "\t\t\t\t\t\t<td>...&nbsp;</td>\r\n",
      "\t\t\t\t\t\t<td>...&nbsp;</td>\r\n",
      "\t\t\t\t\t\t<td>...&nbsp;</td>\r\n",
      "\t\t\t\t\t\t<td>...&nbsp;</td>\r\n",
      "\t\t\t\t\t\t<td>...&nbsp;</td>\r\n",
      "\t\t\t\t\t\t<td>...&nbsp;</td>\r\n",
      "\t\t\t\t\t\t<td>...&nbsp;</td>\r\n",
      "\t\t\t\t\t</tr>\r\n",
      "\t\t\t\t\r\n",
      "\t\t\t\t\t\r\n",
      "\t\t\t\t\t<tr>\r\n",
      "\t\t\t\t\t\t<td nowrap>30</td>\r\n",
      "\t\t\t\t\t\t<td>1004.2&nbsp;</td>\r\n",
      "\t\t\t\t\t\t<td>...&nbsp;</td>\r\n",
      "\t\t\t\t\t\t<td>1005.5&nbsp;</td>\r\n",
      "\t\t\t\t\t\t<td>2021-08-30 10:12&nbsp;</td>\r\n",
      "\t\t\t\t\t\t<td>1003.1&nbsp;</td>\r\n",
      "\t\t\t\t\t\t<td>2021-08-30 03:02&nbsp;</td>\r\n",
      "\t\t\t\t\t\t<td>30.3&nbsp;</td>\r\n",
      "\t\t\t\t\t\t<td>34.7&nbsp;</td>\r\n",
      "\t\t\t\t\t\t<td>2021-08-30 15:21&nbsp;</td>\r\n",
      "\t\t\t\t\t\t<td>28.0&nbsp;</td>\r\n",
      "\t\t\t\t\t\t<td>2021-08-30 00:41&nbsp;</td>\r\n",
      "\t\t\t\t\t\t<td>...&nbsp;</td>\r\n",
      "\t\t\t\t\t\t<td>66&nbsp;</td>\r\n",
      "\t\t\t\t\t\t<td>49&nbsp;</td>\r\n",
      "\t\t\t\t\t\t<td>2021-08-30 11:50&nbsp;</td>\r\n",
      "\t\t\t\t\t\t<td>1.4&nbsp;</td>\r\n",
      "\t\t\t\t\t\t<td>73&nbsp;</td>\r\n",
      "\t\t\t\t\t\t<td>8.8&nbsp;</td>\r\n",
      "\t\t\t\t\t\t<td>156&nbsp;</td>\r\n",
      "\t\t\t\t\t\t<td>2021-08-30 12:24&nbsp;</td>\r\n",
      "\t\t\t\t\t\t<td>0.0&nbsp;</td>\r\n",
      "\t\t\t\t\t\t<td>...&nbsp;</td>\r\n",
      "\t\t\t\t\t\t<td>...&nbsp;</td>\r\n",
      "\t\t\t\t\t\t<td>...&nbsp;</td>\r\n",
      "\t\t\t\t\t\t<td>...&nbsp;</td>\r\n",
      "\t\t\t\t\t\t<td>...&nbsp;</td>\r\n",
      "\t\t\t\t\t\t<td>...&nbsp;</td>\r\n",
      "\t\t\t\t\t\t<td>...&nbsp;</td>\r\n",
      "\t\t\t\t\t\t<td>...&nbsp;</td>\r\n",
      "\t\t\t\t\t\t<td>...&nbsp;</td>\r\n",
      "\t\t\t\t\t\t<td>...&nbsp;</td>\r\n",
      "\t\t\t\t\t\t<td>...&nbsp;</td>\r\n",
      "\t\t\t\t\t\t<td>...&nbsp;</td>\r\n",
      "\t\t\t\t\t\t<td>...&nbsp;</td>\r\n",
      "\t\t\t\t\t</tr>\r\n",
      "\t\t\t\t\r\n",
      "\t\t\t\t\t\r\n",
      "\t\t\t\t\t<tr>\r\n",
      "\t\t\t\t\t\t<td nowrap>31</td>\r\n",
      "\t\t\t\t\t\t<td>1003.6&nbsp;</td>\r\n",
      "\t\t\t\t\t\t<td>...&nbsp;</td>\r\n",
      "\t\t\t\t\t\t<td>1004.5&nbsp;</td>\r\n",
      "\t\t\t\t\t\t<td>2021-08-31 21:48&nbsp;</td>\r\n",
      "\t\t\t\t\t\t<td>1002.4&nbsp;</td>\r\n",
      "\t\t\t\t\t\t<td>2021-08-31 03:52&nbsp;</td>\r\n",
      "\t\t\t\t\t\t<td>30.1&nbsp;</td>\r\n",
      "\t\t\t\t\t\t<td>34.0&nbsp;</td>\r\n",
      "\t\t\t\t\t\t<td>2021-08-31 10:21&nbsp;</td>\r\n",
      "\t\t\t\t\t\t<td>27.9&nbsp;</td>\r\n",
      "\t\t\t\t\t\t<td>2021-08-31 23:16&nbsp;</td>\r\n",
      "\t\t\t\t\t\t<td>...&nbsp;</td>\r\n",
      "\t\t\t\t\t\t<td>67&nbsp;</td>\r\n",
      "\t\t\t\t\t\t<td>53&nbsp;</td>\r\n",
      "\t\t\t\t\t\t<td>2021-08-31 12:21&nbsp;</td>\r\n",
      "\t\t\t\t\t\t<td>1.3&nbsp;</td>\r\n",
      "\t\t\t\t\t\t<td>78&nbsp;</td>\r\n",
      "\t\t\t\t\t\t<td>11.0&nbsp;</td>\r\n",
      "\t\t\t\t\t\t<td>117&nbsp;</td>\r\n",
      "\t\t\t\t\t\t<td>2021-08-31 06:21&nbsp;</td>\r\n",
      "\t\t\t\t\t\t<td>0.0&nbsp;</td>\r\n",
      "\t\t\t\t\t\t<td>...&nbsp;</td>\r\n",
      "\t\t\t\t\t\t<td>...&nbsp;</td>\r\n",
      "\t\t\t\t\t\t<td>...&nbsp;</td>\r\n",
      "\t\t\t\t\t\t<td>...&nbsp;</td>\r\n",
      "\t\t\t\t\t\t<td>...&nbsp;</td>\r\n",
      "\t\t\t\t\t\t<td>...&nbsp;</td>\r\n",
      "\t\t\t\t\t\t<td>...&nbsp;</td>\r\n",
      "\t\t\t\t\t\t<td>...&nbsp;</td>\r\n",
      "\t\t\t\t\t\t<td>...&nbsp;</td>\r\n",
      "\t\t\t\t\t\t<td>...&nbsp;</td>\r\n",
      "\t\t\t\t\t\t<td>...&nbsp;</td>\r\n",
      "\t\t\t\t\t\t<td>...&nbsp;</td>\r\n",
      "\t\t\t\t\t\t<td>...&nbsp;</td>\r\n",
      "\t\t\t\t\t</tr>\r\n",
      "\t\t\t\t\r\n",
      "\t\t\t</tbody>\r\n",
      "\t\t</table>\r\n",
      "\t\t<label class=\"imp\"></label>\r\n",
      "\t</div>\r\n",
      "</body>\r\n",
      "</html>\n"
     ]
    }
   ],
   "source": [
    "#將網站資料於jupyter中印出\n",
    "import requests\n",
    "r=requests.get(\"http://e-service.cwb.gov.tw/HistoryDataQuery/MonthDataController.do?command=viewMain&station=C0AC70&stname=%25E4%25BF%25A1%25E7%25BE%25A9&datepicker=2021-08\")\n",
    "print(r.text)"
   ]
  },
  {
   "cell_type": "code",
   "execution_count": 44,
   "metadata": {
    "scrolled": false
   },
   "outputs": [
    {
     "data": {
      "text/html": [
       "<div>\n",
       "<style scoped>\n",
       "    .dataframe tbody tr th:only-of-type {\n",
       "        vertical-align: middle;\n",
       "    }\n",
       "\n",
       "    .dataframe tbody tr th {\n",
       "        vertical-align: top;\n",
       "    }\n",
       "\n",
       "    .dataframe thead th {\n",
       "        text-align: right;\n",
       "    }\n",
       "</style>\n",
       "<table border=\"1\" class=\"dataframe\">\n",
       "  <thead>\n",
       "    <tr style=\"text-align: right;\">\n",
       "      <th></th>\n",
       "      <th>觀測時間(day)</th>\n",
       "      <th>測站氣壓(hPa)</th>\n",
       "      <th>海平面氣壓(hPa)</th>\n",
       "      <th>測站最高氣壓(hPa)</th>\n",
       "      <th>測站最高氣壓時間(LST)</th>\n",
       "      <th>測站最低氣壓(hPa)</th>\n",
       "      <th>測站最低氣壓時間(LST)</th>\n",
       "      <th>氣溫(℃)</th>\n",
       "      <th>最高氣溫(℃)</th>\n",
       "      <th>最高氣溫時間(LST)</th>\n",
       "      <th>...</th>\n",
       "      <th>最大六十分鐘降水量(mm)</th>\n",
       "      <th>最大六十分鐘降水量起始時間(LST)</th>\n",
       "      <th>日照時數(hour)</th>\n",
       "      <th>日照率(%)</th>\n",
       "      <th>全天空日射量(MJ/㎡)</th>\n",
       "      <th>能見度(km)</th>\n",
       "      <th>A型蒸發量(mm)</th>\n",
       "      <th>日最高紫外線指數</th>\n",
       "      <th>日最高紫外線指數時間(LST)</th>\n",
       "      <th>總雲量(0~10)</th>\n",
       "    </tr>\n",
       "  </thead>\n",
       "  <tbody>\n",
       "    <tr>\n",
       "      <td>0</td>\n",
       "      <td>01</td>\n",
       "      <td>991.0</td>\n",
       "      <td>...</td>\n",
       "      <td>992.5</td>\n",
       "      <td>2021-08-01 00:01</td>\n",
       "      <td>989.1</td>\n",
       "      <td>2021-08-01 16:13</td>\n",
       "      <td>27.8</td>\n",
       "      <td>30.8</td>\n",
       "      <td>2021-08-01 13:21</td>\n",
       "      <td>...</td>\n",
       "      <td>...</td>\n",
       "      <td>...</td>\n",
       "      <td>...</td>\n",
       "      <td>...</td>\n",
       "      <td>...</td>\n",
       "      <td>...</td>\n",
       "      <td>...</td>\n",
       "      <td>...</td>\n",
       "      <td>...</td>\n",
       "      <td>...</td>\n",
       "    </tr>\n",
       "    <tr>\n",
       "      <td>1</td>\n",
       "      <td>02</td>\n",
       "      <td>990.9</td>\n",
       "      <td>...</td>\n",
       "      <td>992.3</td>\n",
       "      <td>2021-08-02 21:01</td>\n",
       "      <td>989.9</td>\n",
       "      <td>2021-08-02 01:31</td>\n",
       "      <td>28.2</td>\n",
       "      <td>32.9</td>\n",
       "      <td>2021-08-02 10:41</td>\n",
       "      <td>...</td>\n",
       "      <td>...</td>\n",
       "      <td>...</td>\n",
       "      <td>...</td>\n",
       "      <td>...</td>\n",
       "      <td>...</td>\n",
       "      <td>...</td>\n",
       "      <td>...</td>\n",
       "      <td>...</td>\n",
       "      <td>...</td>\n",
       "      <td>...</td>\n",
       "    </tr>\n",
       "    <tr>\n",
       "      <td>2</td>\n",
       "      <td>03</td>\n",
       "      <td>991.5</td>\n",
       "      <td>...</td>\n",
       "      <td>993.5</td>\n",
       "      <td>2021-08-03 21:51</td>\n",
       "      <td>990.1</td>\n",
       "      <td>2021-08-03 14:37</td>\n",
       "      <td>27.1</td>\n",
       "      <td>30.5</td>\n",
       "      <td>2021-08-03 11:42</td>\n",
       "      <td>...</td>\n",
       "      <td>...</td>\n",
       "      <td>...</td>\n",
       "      <td>...</td>\n",
       "      <td>...</td>\n",
       "      <td>...</td>\n",
       "      <td>...</td>\n",
       "      <td>...</td>\n",
       "      <td>...</td>\n",
       "      <td>...</td>\n",
       "      <td>...</td>\n",
       "    </tr>\n",
       "    <tr>\n",
       "      <td>3</td>\n",
       "      <td>04</td>\n",
       "      <td>992.9</td>\n",
       "      <td>...</td>\n",
       "      <td>994.0</td>\n",
       "      <td>2021-08-04 08:59</td>\n",
       "      <td>991.5</td>\n",
       "      <td>2021-08-04 14:02</td>\n",
       "      <td>28.3</td>\n",
       "      <td>32.6</td>\n",
       "      <td>2021-08-04 12:31</td>\n",
       "      <td>...</td>\n",
       "      <td>...</td>\n",
       "      <td>...</td>\n",
       "      <td>...</td>\n",
       "      <td>...</td>\n",
       "      <td>...</td>\n",
       "      <td>...</td>\n",
       "      <td>...</td>\n",
       "      <td>...</td>\n",
       "      <td>...</td>\n",
       "      <td>...</td>\n",
       "    </tr>\n",
       "    <tr>\n",
       "      <td>4</td>\n",
       "      <td>05</td>\n",
       "      <td>991.7</td>\n",
       "      <td>...</td>\n",
       "      <td>993.2</td>\n",
       "      <td>2021-08-05 21:22</td>\n",
       "      <td>990.9</td>\n",
       "      <td>2021-08-05 03:21</td>\n",
       "      <td>28.4</td>\n",
       "      <td>33.6</td>\n",
       "      <td>2021-08-05 10:54</td>\n",
       "      <td>...</td>\n",
       "      <td>...</td>\n",
       "      <td>...</td>\n",
       "      <td>...</td>\n",
       "      <td>...</td>\n",
       "      <td>...</td>\n",
       "      <td>...</td>\n",
       "      <td>...</td>\n",
       "      <td>...</td>\n",
       "      <td>...</td>\n",
       "      <td>...</td>\n",
       "    </tr>\n",
       "    <tr>\n",
       "      <td>5</td>\n",
       "      <td>06</td>\n",
       "      <td>990.6</td>\n",
       "      <td>...</td>\n",
       "      <td>992.9</td>\n",
       "      <td>2021-08-06 09:43</td>\n",
       "      <td>988.0</td>\n",
       "      <td>2021-08-06 18:08</td>\n",
       "      <td>26.8</td>\n",
       "      <td>28.3</td>\n",
       "      <td>2021-08-06 13:36</td>\n",
       "      <td>...</td>\n",
       "      <td>...</td>\n",
       "      <td>...</td>\n",
       "      <td>...</td>\n",
       "      <td>...</td>\n",
       "      <td>...</td>\n",
       "      <td>...</td>\n",
       "      <td>...</td>\n",
       "      <td>...</td>\n",
       "      <td>...</td>\n",
       "      <td>...</td>\n",
       "    </tr>\n",
       "    <tr>\n",
       "      <td>6</td>\n",
       "      <td>07</td>\n",
       "      <td>990.8</td>\n",
       "      <td>...</td>\n",
       "      <td>996.2</td>\n",
       "      <td>2021-08-07 23:12</td>\n",
       "      <td>987.3</td>\n",
       "      <td>2021-08-07 05:02</td>\n",
       "      <td>25.1</td>\n",
       "      <td>25.9</td>\n",
       "      <td>2021-08-07 23:41</td>\n",
       "      <td>...</td>\n",
       "      <td>...</td>\n",
       "      <td>...</td>\n",
       "      <td>...</td>\n",
       "      <td>...</td>\n",
       "      <td>...</td>\n",
       "      <td>...</td>\n",
       "      <td>...</td>\n",
       "      <td>...</td>\n",
       "      <td>...</td>\n",
       "      <td>...</td>\n",
       "    </tr>\n",
       "    <tr>\n",
       "      <td>7</td>\n",
       "      <td>08</td>\n",
       "      <td>997.3</td>\n",
       "      <td>...</td>\n",
       "      <td>1000.2</td>\n",
       "      <td>2021-08-08 22:31</td>\n",
       "      <td>995.0</td>\n",
       "      <td>2021-08-08 01:01</td>\n",
       "      <td>29.3</td>\n",
       "      <td>35.2</td>\n",
       "      <td>2021-08-08 13:23</td>\n",
       "      <td>...</td>\n",
       "      <td>...</td>\n",
       "      <td>...</td>\n",
       "      <td>...</td>\n",
       "      <td>...</td>\n",
       "      <td>...</td>\n",
       "      <td>...</td>\n",
       "      <td>...</td>\n",
       "      <td>...</td>\n",
       "      <td>...</td>\n",
       "      <td>...</td>\n",
       "    </tr>\n",
       "    <tr>\n",
       "      <td>8</td>\n",
       "      <td>09</td>\n",
       "      <td>999.6</td>\n",
       "      <td>...</td>\n",
       "      <td>1000.9</td>\n",
       "      <td>2021-08-09 22:31</td>\n",
       "      <td>997.9</td>\n",
       "      <td>2021-08-09 17:59</td>\n",
       "      <td>28.9</td>\n",
       "      <td>34.3</td>\n",
       "      <td>2021-08-09 10:34</td>\n",
       "      <td>...</td>\n",
       "      <td>...</td>\n",
       "      <td>...</td>\n",
       "      <td>...</td>\n",
       "      <td>...</td>\n",
       "      <td>...</td>\n",
       "      <td>...</td>\n",
       "      <td>...</td>\n",
       "      <td>...</td>\n",
       "      <td>...</td>\n",
       "      <td>...</td>\n",
       "    </tr>\n",
       "    <tr>\n",
       "      <td>9</td>\n",
       "      <td>10</td>\n",
       "      <td>1000.5</td>\n",
       "      <td>...</td>\n",
       "      <td>1001.8</td>\n",
       "      <td>2021-08-10 22:02</td>\n",
       "      <td>999.3</td>\n",
       "      <td>2021-08-10 03:52</td>\n",
       "      <td>29.0</td>\n",
       "      <td>33.6</td>\n",
       "      <td>2021-08-10 10:11</td>\n",
       "      <td>...</td>\n",
       "      <td>...</td>\n",
       "      <td>...</td>\n",
       "      <td>...</td>\n",
       "      <td>...</td>\n",
       "      <td>...</td>\n",
       "      <td>...</td>\n",
       "      <td>...</td>\n",
       "      <td>...</td>\n",
       "      <td>...</td>\n",
       "      <td>...</td>\n",
       "    </tr>\n",
       "    <tr>\n",
       "      <td>10</td>\n",
       "      <td>11</td>\n",
       "      <td>1002.1</td>\n",
       "      <td>...</td>\n",
       "      <td>1003.6</td>\n",
       "      <td>2021-08-11 21:42</td>\n",
       "      <td>1000.7</td>\n",
       "      <td>2021-08-11 16:14</td>\n",
       "      <td>29.0</td>\n",
       "      <td>34.6</td>\n",
       "      <td>2021-08-11 12:32</td>\n",
       "      <td>...</td>\n",
       "      <td>...</td>\n",
       "      <td>...</td>\n",
       "      <td>...</td>\n",
       "      <td>...</td>\n",
       "      <td>...</td>\n",
       "      <td>...</td>\n",
       "      <td>...</td>\n",
       "      <td>...</td>\n",
       "      <td>...</td>\n",
       "      <td>...</td>\n",
       "    </tr>\n",
       "    <tr>\n",
       "      <td>11</td>\n",
       "      <td>12</td>\n",
       "      <td>1001.8</td>\n",
       "      <td>...</td>\n",
       "      <td>1003.6</td>\n",
       "      <td>2021-08-12 08:33</td>\n",
       "      <td>999.7</td>\n",
       "      <td>2021-08-12 15:45</td>\n",
       "      <td>28.7</td>\n",
       "      <td>35.9</td>\n",
       "      <td>2021-08-12 13:24</td>\n",
       "      <td>...</td>\n",
       "      <td>...</td>\n",
       "      <td>...</td>\n",
       "      <td>...</td>\n",
       "      <td>...</td>\n",
       "      <td>...</td>\n",
       "      <td>...</td>\n",
       "      <td>...</td>\n",
       "      <td>...</td>\n",
       "      <td>...</td>\n",
       "      <td>...</td>\n",
       "    </tr>\n",
       "    <tr>\n",
       "      <td>12</td>\n",
       "      <td>13</td>\n",
       "      <td>999.6</td>\n",
       "      <td>...</td>\n",
       "      <td>1000.8</td>\n",
       "      <td>2021-08-13 00:01</td>\n",
       "      <td>998.1</td>\n",
       "      <td>2021-08-13 13:36</td>\n",
       "      <td>28.2</td>\n",
       "      <td>36.1</td>\n",
       "      <td>2021-08-13 11:22</td>\n",
       "      <td>...</td>\n",
       "      <td>...</td>\n",
       "      <td>...</td>\n",
       "      <td>...</td>\n",
       "      <td>...</td>\n",
       "      <td>...</td>\n",
       "      <td>...</td>\n",
       "      <td>...</td>\n",
       "      <td>...</td>\n",
       "      <td>...</td>\n",
       "      <td>...</td>\n",
       "    </tr>\n",
       "    <tr>\n",
       "      <td>13</td>\n",
       "      <td>14</td>\n",
       "      <td>1000.1</td>\n",
       "      <td>...</td>\n",
       "      <td>1002.9</td>\n",
       "      <td>2021-08-14 21:44</td>\n",
       "      <td>998.4</td>\n",
       "      <td>2021-08-14 03:32</td>\n",
       "      <td>27.9</td>\n",
       "      <td>33.2</td>\n",
       "      <td>2021-08-14 12:01</td>\n",
       "      <td>...</td>\n",
       "      <td>...</td>\n",
       "      <td>...</td>\n",
       "      <td>...</td>\n",
       "      <td>...</td>\n",
       "      <td>...</td>\n",
       "      <td>...</td>\n",
       "      <td>...</td>\n",
       "      <td>...</td>\n",
       "      <td>...</td>\n",
       "      <td>...</td>\n",
       "    </tr>\n",
       "    <tr>\n",
       "      <td>14</td>\n",
       "      <td>15</td>\n",
       "      <td>1003.9</td>\n",
       "      <td>...</td>\n",
       "      <td>1005.9</td>\n",
       "      <td>2021-08-15 21:41</td>\n",
       "      <td>1001.5</td>\n",
       "      <td>2021-08-15 02:11</td>\n",
       "      <td>29.1</td>\n",
       "      <td>32.2</td>\n",
       "      <td>2021-08-15 15:21</td>\n",
       "      <td>...</td>\n",
       "      <td>...</td>\n",
       "      <td>...</td>\n",
       "      <td>...</td>\n",
       "      <td>...</td>\n",
       "      <td>...</td>\n",
       "      <td>...</td>\n",
       "      <td>...</td>\n",
       "      <td>...</td>\n",
       "      <td>...</td>\n",
       "      <td>...</td>\n",
       "    </tr>\n",
       "    <tr>\n",
       "      <td>15</td>\n",
       "      <td>16</td>\n",
       "      <td>1005.2</td>\n",
       "      <td>...</td>\n",
       "      <td>1006.8</td>\n",
       "      <td>2021-08-16 09:11</td>\n",
       "      <td>1003.5</td>\n",
       "      <td>2021-08-16 17:11</td>\n",
       "      <td>29.5</td>\n",
       "      <td>34.8</td>\n",
       "      <td>2021-08-16 10:22</td>\n",
       "      <td>...</td>\n",
       "      <td>...</td>\n",
       "      <td>...</td>\n",
       "      <td>...</td>\n",
       "      <td>...</td>\n",
       "      <td>...</td>\n",
       "      <td>...</td>\n",
       "      <td>...</td>\n",
       "      <td>...</td>\n",
       "      <td>...</td>\n",
       "      <td>...</td>\n",
       "    </tr>\n",
       "    <tr>\n",
       "      <td>16</td>\n",
       "      <td>17</td>\n",
       "      <td>1003.1</td>\n",
       "      <td>...</td>\n",
       "      <td>1005.2</td>\n",
       "      <td>2021-08-17 00:01</td>\n",
       "      <td>1000.3</td>\n",
       "      <td>2021-08-17 15:41</td>\n",
       "      <td>29.9</td>\n",
       "      <td>35.3</td>\n",
       "      <td>2021-08-17 13:12</td>\n",
       "      <td>...</td>\n",
       "      <td>...</td>\n",
       "      <td>...</td>\n",
       "      <td>...</td>\n",
       "      <td>...</td>\n",
       "      <td>...</td>\n",
       "      <td>...</td>\n",
       "      <td>...</td>\n",
       "      <td>...</td>\n",
       "      <td>...</td>\n",
       "      <td>...</td>\n",
       "    </tr>\n",
       "    <tr>\n",
       "      <td>17</td>\n",
       "      <td>18</td>\n",
       "      <td>1001.6</td>\n",
       "      <td>...</td>\n",
       "      <td>1002.9</td>\n",
       "      <td>2021-08-18 00:01</td>\n",
       "      <td>1000.6</td>\n",
       "      <td>2021-08-18 17:11</td>\n",
       "      <td>27.7</td>\n",
       "      <td>31.9</td>\n",
       "      <td>2021-08-18 11:23</td>\n",
       "      <td>...</td>\n",
       "      <td>...</td>\n",
       "      <td>...</td>\n",
       "      <td>...</td>\n",
       "      <td>...</td>\n",
       "      <td>...</td>\n",
       "      <td>...</td>\n",
       "      <td>...</td>\n",
       "      <td>...</td>\n",
       "      <td>...</td>\n",
       "      <td>...</td>\n",
       "    </tr>\n",
       "    <tr>\n",
       "      <td>18</td>\n",
       "      <td>19</td>\n",
       "      <td>1002.0</td>\n",
       "      <td>...</td>\n",
       "      <td>1003.4</td>\n",
       "      <td>2021-08-19 20:51</td>\n",
       "      <td>1000.2</td>\n",
       "      <td>2021-08-19 03:35</td>\n",
       "      <td>27.7</td>\n",
       "      <td>34.4</td>\n",
       "      <td>2021-08-19 11:55</td>\n",
       "      <td>...</td>\n",
       "      <td>...</td>\n",
       "      <td>...</td>\n",
       "      <td>...</td>\n",
       "      <td>...</td>\n",
       "      <td>...</td>\n",
       "      <td>...</td>\n",
       "      <td>...</td>\n",
       "      <td>...</td>\n",
       "      <td>...</td>\n",
       "      <td>...</td>\n",
       "    </tr>\n",
       "    <tr>\n",
       "      <td>19</td>\n",
       "      <td>20</td>\n",
       "      <td>1002.6</td>\n",
       "      <td>...</td>\n",
       "      <td>1004.0</td>\n",
       "      <td>2021-08-20 08:41</td>\n",
       "      <td>1000.9</td>\n",
       "      <td>2021-08-20 16:31</td>\n",
       "      <td>28.5</td>\n",
       "      <td>34.3</td>\n",
       "      <td>2021-08-20 14:31</td>\n",
       "      <td>...</td>\n",
       "      <td>...</td>\n",
       "      <td>...</td>\n",
       "      <td>...</td>\n",
       "      <td>...</td>\n",
       "      <td>...</td>\n",
       "      <td>...</td>\n",
       "      <td>...</td>\n",
       "      <td>...</td>\n",
       "      <td>...</td>\n",
       "      <td>...</td>\n",
       "    </tr>\n",
       "    <tr>\n",
       "      <td>20</td>\n",
       "      <td>21</td>\n",
       "      <td>1001.6</td>\n",
       "      <td>...</td>\n",
       "      <td>1003.0</td>\n",
       "      <td>2021-08-21 08:41</td>\n",
       "      <td>999.6</td>\n",
       "      <td>2021-08-21 15:54</td>\n",
       "      <td>29.2</td>\n",
       "      <td>35.2</td>\n",
       "      <td>2021-08-21 13:02</td>\n",
       "      <td>...</td>\n",
       "      <td>...</td>\n",
       "      <td>...</td>\n",
       "      <td>...</td>\n",
       "      <td>...</td>\n",
       "      <td>...</td>\n",
       "      <td>...</td>\n",
       "      <td>...</td>\n",
       "      <td>...</td>\n",
       "      <td>...</td>\n",
       "      <td>...</td>\n",
       "    </tr>\n",
       "    <tr>\n",
       "      <td>21</td>\n",
       "      <td>22</td>\n",
       "      <td>1000.3</td>\n",
       "      <td>...</td>\n",
       "      <td>1002.0</td>\n",
       "      <td>2021-08-22 08:01</td>\n",
       "      <td>998.3</td>\n",
       "      <td>2021-08-22 15:15</td>\n",
       "      <td>29.6</td>\n",
       "      <td>34.8</td>\n",
       "      <td>2021-08-22 12:52</td>\n",
       "      <td>...</td>\n",
       "      <td>...</td>\n",
       "      <td>...</td>\n",
       "      <td>...</td>\n",
       "      <td>...</td>\n",
       "      <td>...</td>\n",
       "      <td>...</td>\n",
       "      <td>...</td>\n",
       "      <td>...</td>\n",
       "      <td>...</td>\n",
       "      <td>...</td>\n",
       "    </tr>\n",
       "    <tr>\n",
       "      <td>22</td>\n",
       "      <td>23</td>\n",
       "      <td>1000.1</td>\n",
       "      <td>...</td>\n",
       "      <td>1001.2</td>\n",
       "      <td>2021-08-23 21:11</td>\n",
       "      <td>999.1</td>\n",
       "      <td>2021-08-23 03:01</td>\n",
       "      <td>29.9</td>\n",
       "      <td>34.6</td>\n",
       "      <td>2021-08-23 12:52</td>\n",
       "      <td>...</td>\n",
       "      <td>...</td>\n",
       "      <td>...</td>\n",
       "      <td>...</td>\n",
       "      <td>...</td>\n",
       "      <td>...</td>\n",
       "      <td>...</td>\n",
       "      <td>...</td>\n",
       "      <td>...</td>\n",
       "      <td>...</td>\n",
       "      <td>...</td>\n",
       "    </tr>\n",
       "    <tr>\n",
       "      <td>23</td>\n",
       "      <td>24</td>\n",
       "      <td>1001.2</td>\n",
       "      <td>...</td>\n",
       "      <td>1002.6</td>\n",
       "      <td>2021-08-24 22:31</td>\n",
       "      <td>999.7</td>\n",
       "      <td>2021-08-24 13:51</td>\n",
       "      <td>28.6</td>\n",
       "      <td>35.3</td>\n",
       "      <td>2021-08-24 12:31</td>\n",
       "      <td>...</td>\n",
       "      <td>...</td>\n",
       "      <td>...</td>\n",
       "      <td>...</td>\n",
       "      <td>...</td>\n",
       "      <td>...</td>\n",
       "      <td>...</td>\n",
       "      <td>...</td>\n",
       "      <td>...</td>\n",
       "      <td>...</td>\n",
       "      <td>...</td>\n",
       "    </tr>\n",
       "    <tr>\n",
       "      <td>24</td>\n",
       "      <td>25</td>\n",
       "      <td>1002.8</td>\n",
       "      <td>...</td>\n",
       "      <td>1005.1</td>\n",
       "      <td>2021-08-25 22:51</td>\n",
       "      <td>1001.2</td>\n",
       "      <td>2021-08-25 03:01</td>\n",
       "      <td>29.0</td>\n",
       "      <td>35.1</td>\n",
       "      <td>2021-08-25 11:54</td>\n",
       "      <td>...</td>\n",
       "      <td>...</td>\n",
       "      <td>...</td>\n",
       "      <td>...</td>\n",
       "      <td>...</td>\n",
       "      <td>...</td>\n",
       "      <td>...</td>\n",
       "      <td>...</td>\n",
       "      <td>...</td>\n",
       "      <td>...</td>\n",
       "      <td>...</td>\n",
       "    </tr>\n",
       "    <tr>\n",
       "      <td>25</td>\n",
       "      <td>26</td>\n",
       "      <td>1004.7</td>\n",
       "      <td>...</td>\n",
       "      <td>1005.8</td>\n",
       "      <td>2021-08-26 21:54</td>\n",
       "      <td>1003.0</td>\n",
       "      <td>2021-08-26 15:01</td>\n",
       "      <td>29.7</td>\n",
       "      <td>34.9</td>\n",
       "      <td>2021-08-26 10:52</td>\n",
       "      <td>...</td>\n",
       "      <td>...</td>\n",
       "      <td>...</td>\n",
       "      <td>...</td>\n",
       "      <td>...</td>\n",
       "      <td>...</td>\n",
       "      <td>...</td>\n",
       "      <td>...</td>\n",
       "      <td>...</td>\n",
       "      <td>...</td>\n",
       "      <td>...</td>\n",
       "    </tr>\n",
       "    <tr>\n",
       "      <td>26</td>\n",
       "      <td>27</td>\n",
       "      <td>1004.5</td>\n",
       "      <td>...</td>\n",
       "      <td>1005.5</td>\n",
       "      <td>2021-08-27 00:06</td>\n",
       "      <td>1002.9</td>\n",
       "      <td>2021-08-27 15:02</td>\n",
       "      <td>30.4</td>\n",
       "      <td>36.9</td>\n",
       "      <td>2021-08-27 11:41</td>\n",
       "      <td>...</td>\n",
       "      <td>...</td>\n",
       "      <td>...</td>\n",
       "      <td>...</td>\n",
       "      <td>...</td>\n",
       "      <td>...</td>\n",
       "      <td>...</td>\n",
       "      <td>...</td>\n",
       "      <td>...</td>\n",
       "      <td>...</td>\n",
       "      <td>...</td>\n",
       "    </tr>\n",
       "    <tr>\n",
       "      <td>27</td>\n",
       "      <td>28</td>\n",
       "      <td>1003.7</td>\n",
       "      <td>...</td>\n",
       "      <td>1005.0</td>\n",
       "      <td>2021-08-28 22:01</td>\n",
       "      <td>1001.4</td>\n",
       "      <td>2021-08-28 14:54</td>\n",
       "      <td>30.2</td>\n",
       "      <td>35.0</td>\n",
       "      <td>2021-08-28 13:16</td>\n",
       "      <td>...</td>\n",
       "      <td>...</td>\n",
       "      <td>...</td>\n",
       "      <td>...</td>\n",
       "      <td>...</td>\n",
       "      <td>...</td>\n",
       "      <td>...</td>\n",
       "      <td>...</td>\n",
       "      <td>...</td>\n",
       "      <td>...</td>\n",
       "      <td>...</td>\n",
       "    </tr>\n",
       "    <tr>\n",
       "      <td>28</td>\n",
       "      <td>29</td>\n",
       "      <td>1003.8</td>\n",
       "      <td>...</td>\n",
       "      <td>1005.6</td>\n",
       "      <td>2021-08-29 23:08</td>\n",
       "      <td>1002.2</td>\n",
       "      <td>2021-08-29 14:55</td>\n",
       "      <td>30.2</td>\n",
       "      <td>34.4</td>\n",
       "      <td>2021-08-29 10:21</td>\n",
       "      <td>...</td>\n",
       "      <td>...</td>\n",
       "      <td>...</td>\n",
       "      <td>...</td>\n",
       "      <td>...</td>\n",
       "      <td>...</td>\n",
       "      <td>...</td>\n",
       "      <td>...</td>\n",
       "      <td>...</td>\n",
       "      <td>...</td>\n",
       "      <td>...</td>\n",
       "    </tr>\n",
       "    <tr>\n",
       "      <td>29</td>\n",
       "      <td>30</td>\n",
       "      <td>1004.2</td>\n",
       "      <td>...</td>\n",
       "      <td>1005.5</td>\n",
       "      <td>2021-08-30 10:12</td>\n",
       "      <td>1003.1</td>\n",
       "      <td>2021-08-30 03:02</td>\n",
       "      <td>30.3</td>\n",
       "      <td>34.7</td>\n",
       "      <td>2021-08-30 15:21</td>\n",
       "      <td>...</td>\n",
       "      <td>...</td>\n",
       "      <td>...</td>\n",
       "      <td>...</td>\n",
       "      <td>...</td>\n",
       "      <td>...</td>\n",
       "      <td>...</td>\n",
       "      <td>...</td>\n",
       "      <td>...</td>\n",
       "      <td>...</td>\n",
       "      <td>...</td>\n",
       "    </tr>\n",
       "    <tr>\n",
       "      <td>30</td>\n",
       "      <td>31</td>\n",
       "      <td>1003.6</td>\n",
       "      <td>...</td>\n",
       "      <td>1004.5</td>\n",
       "      <td>2021-08-31 21:48</td>\n",
       "      <td>1002.4</td>\n",
       "      <td>2021-08-31 03:52</td>\n",
       "      <td>30.1</td>\n",
       "      <td>34.0</td>\n",
       "      <td>2021-08-31 10:21</td>\n",
       "      <td>...</td>\n",
       "      <td>...</td>\n",
       "      <td>...</td>\n",
       "      <td>...</td>\n",
       "      <td>...</td>\n",
       "      <td>...</td>\n",
       "      <td>...</td>\n",
       "      <td>...</td>\n",
       "      <td>...</td>\n",
       "      <td>...</td>\n",
       "      <td>...</td>\n",
       "    </tr>\n",
       "  </tbody>\n",
       "</table>\n",
       "<p>31 rows × 35 columns</p>\n",
       "</div>"
      ],
      "text/plain": [
       "   觀測時間(day) 測站氣壓(hPa) 海平面氣壓(hPa) 測站最高氣壓(hPa)      測站最高氣壓時間(LST) 測站最低氣壓(hPa)  \\\n",
       "0         01    991.0        ...       992.5   2021-08-01 00:01       989.1    \n",
       "1         02    990.9        ...       992.3   2021-08-02 21:01       989.9    \n",
       "2         03    991.5        ...       993.5   2021-08-03 21:51       990.1    \n",
       "3         04    992.9        ...       994.0   2021-08-04 08:59       991.5    \n",
       "4         05    991.7        ...       993.2   2021-08-05 21:22       990.9    \n",
       "5         06    990.6        ...       992.9   2021-08-06 09:43       988.0    \n",
       "6         07    990.8        ...       996.2   2021-08-07 23:12       987.3    \n",
       "7         08    997.3        ...      1000.2   2021-08-08 22:31       995.0    \n",
       "8         09    999.6        ...      1000.9   2021-08-09 22:31       997.9    \n",
       "9         10   1000.5        ...      1001.8   2021-08-10 22:02       999.3    \n",
       "10        11   1002.1        ...      1003.6   2021-08-11 21:42      1000.7    \n",
       "11        12   1001.8        ...      1003.6   2021-08-12 08:33       999.7    \n",
       "12        13    999.6        ...      1000.8   2021-08-13 00:01       998.1    \n",
       "13        14   1000.1        ...      1002.9   2021-08-14 21:44       998.4    \n",
       "14        15   1003.9        ...      1005.9   2021-08-15 21:41      1001.5    \n",
       "15        16   1005.2        ...      1006.8   2021-08-16 09:11      1003.5    \n",
       "16        17   1003.1        ...      1005.2   2021-08-17 00:01      1000.3    \n",
       "17        18   1001.6        ...      1002.9   2021-08-18 00:01      1000.6    \n",
       "18        19   1002.0        ...      1003.4   2021-08-19 20:51      1000.2    \n",
       "19        20   1002.6        ...      1004.0   2021-08-20 08:41      1000.9    \n",
       "20        21   1001.6        ...      1003.0   2021-08-21 08:41       999.6    \n",
       "21        22   1000.3        ...      1002.0   2021-08-22 08:01       998.3    \n",
       "22        23   1000.1        ...      1001.2   2021-08-23 21:11       999.1    \n",
       "23        24   1001.2        ...      1002.6   2021-08-24 22:31       999.7    \n",
       "24        25   1002.8        ...      1005.1   2021-08-25 22:51      1001.2    \n",
       "25        26   1004.7        ...      1005.8   2021-08-26 21:54      1003.0    \n",
       "26        27   1004.5        ...      1005.5   2021-08-27 00:06      1002.9    \n",
       "27        28   1003.7        ...      1005.0   2021-08-28 22:01      1001.4    \n",
       "28        29   1003.8        ...      1005.6   2021-08-29 23:08      1002.2    \n",
       "29        30   1004.2        ...      1005.5   2021-08-30 10:12      1003.1    \n",
       "30        31   1003.6        ...      1004.5   2021-08-31 21:48      1002.4    \n",
       "\n",
       "        測站最低氣壓時間(LST)  氣溫(℃) 最高氣溫(℃)        最高氣溫時間(LST)  ... 最大六十分鐘降水量(mm)  \\\n",
       "0   2021-08-01 16:13   27.8    30.8   2021-08-01 13:21   ...          ...    \n",
       "1   2021-08-02 01:31   28.2    32.9   2021-08-02 10:41   ...          ...    \n",
       "2   2021-08-03 14:37   27.1    30.5   2021-08-03 11:42   ...          ...    \n",
       "3   2021-08-04 14:02   28.3    32.6   2021-08-04 12:31   ...          ...    \n",
       "4   2021-08-05 03:21   28.4    33.6   2021-08-05 10:54   ...          ...    \n",
       "5   2021-08-06 18:08   26.8    28.3   2021-08-06 13:36   ...          ...    \n",
       "6   2021-08-07 05:02   25.1    25.9   2021-08-07 23:41   ...          ...    \n",
       "7   2021-08-08 01:01   29.3    35.2   2021-08-08 13:23   ...          ...    \n",
       "8   2021-08-09 17:59   28.9    34.3   2021-08-09 10:34   ...          ...    \n",
       "9   2021-08-10 03:52   29.0    33.6   2021-08-10 10:11   ...          ...    \n",
       "10  2021-08-11 16:14   29.0    34.6   2021-08-11 12:32   ...          ...    \n",
       "11  2021-08-12 15:45   28.7    35.9   2021-08-12 13:24   ...          ...    \n",
       "12  2021-08-13 13:36   28.2    36.1   2021-08-13 11:22   ...          ...    \n",
       "13  2021-08-14 03:32   27.9    33.2   2021-08-14 12:01   ...          ...    \n",
       "14  2021-08-15 02:11   29.1    32.2   2021-08-15 15:21   ...          ...    \n",
       "15  2021-08-16 17:11   29.5    34.8   2021-08-16 10:22   ...          ...    \n",
       "16  2021-08-17 15:41   29.9    35.3   2021-08-17 13:12   ...          ...    \n",
       "17  2021-08-18 17:11   27.7    31.9   2021-08-18 11:23   ...          ...    \n",
       "18  2021-08-19 03:35   27.7    34.4   2021-08-19 11:55   ...          ...    \n",
       "19  2021-08-20 16:31   28.5    34.3   2021-08-20 14:31   ...          ...    \n",
       "20  2021-08-21 15:54   29.2    35.2   2021-08-21 13:02   ...          ...    \n",
       "21  2021-08-22 15:15   29.6    34.8   2021-08-22 12:52   ...          ...    \n",
       "22  2021-08-23 03:01   29.9    34.6   2021-08-23 12:52   ...          ...    \n",
       "23  2021-08-24 13:51   28.6    35.3   2021-08-24 12:31   ...          ...    \n",
       "24  2021-08-25 03:01   29.0    35.1   2021-08-25 11:54   ...          ...    \n",
       "25  2021-08-26 15:01   29.7    34.9   2021-08-26 10:52   ...          ...    \n",
       "26  2021-08-27 15:02   30.4    36.9   2021-08-27 11:41   ...          ...    \n",
       "27  2021-08-28 14:54   30.2    35.0   2021-08-28 13:16   ...          ...    \n",
       "28  2021-08-29 14:55   30.2    34.4   2021-08-29 10:21   ...          ...    \n",
       "29  2021-08-30 03:02   30.3    34.7   2021-08-30 15:21   ...          ...    \n",
       "30  2021-08-31 03:52   30.1    34.0   2021-08-31 10:21   ...          ...    \n",
       "\n",
       "   最大六十分鐘降水量起始時間(LST) 日照時數(hour) 日照率(%) 全天空日射量(MJ/㎡) 能見度(km) A型蒸發量(mm)  \\\n",
       "0                ...        ...    ...          ...     ...       ...    \n",
       "1                ...        ...    ...          ...     ...       ...    \n",
       "2                ...        ...    ...          ...     ...       ...    \n",
       "3                ...        ...    ...          ...     ...       ...    \n",
       "4                ...        ...    ...          ...     ...       ...    \n",
       "5                ...        ...    ...          ...     ...       ...    \n",
       "6                ...        ...    ...          ...     ...       ...    \n",
       "7                ...        ...    ...          ...     ...       ...    \n",
       "8                ...        ...    ...          ...     ...       ...    \n",
       "9                ...        ...    ...          ...     ...       ...    \n",
       "10               ...        ...    ...          ...     ...       ...    \n",
       "11               ...        ...    ...          ...     ...       ...    \n",
       "12               ...        ...    ...          ...     ...       ...    \n",
       "13               ...        ...    ...          ...     ...       ...    \n",
       "14               ...        ...    ...          ...     ...       ...    \n",
       "15               ...        ...    ...          ...     ...       ...    \n",
       "16               ...        ...    ...          ...     ...       ...    \n",
       "17               ...        ...    ...          ...     ...       ...    \n",
       "18               ...        ...    ...          ...     ...       ...    \n",
       "19               ...        ...    ...          ...     ...       ...    \n",
       "20               ...        ...    ...          ...     ...       ...    \n",
       "21               ...        ...    ...          ...     ...       ...    \n",
       "22               ...        ...    ...          ...     ...       ...    \n",
       "23               ...        ...    ...          ...     ...       ...    \n",
       "24               ...        ...    ...          ...     ...       ...    \n",
       "25               ...        ...    ...          ...     ...       ...    \n",
       "26               ...        ...    ...          ...     ...       ...    \n",
       "27               ...        ...    ...          ...     ...       ...    \n",
       "28               ...        ...    ...          ...     ...       ...    \n",
       "29               ...        ...    ...          ...     ...       ...    \n",
       "30               ...        ...    ...          ...     ...       ...    \n",
       "\n",
       "   日最高紫外線指數 日最高紫外線指數時間(LST) 總雲量(0~10)  \n",
       "0      ...             ...       ...   \n",
       "1      ...             ...       ...   \n",
       "2      ...             ...       ...   \n",
       "3      ...             ...       ...   \n",
       "4      ...             ...       ...   \n",
       "5      ...             ...       ...   \n",
       "6      ...             ...       ...   \n",
       "7      ...             ...       ...   \n",
       "8      ...             ...       ...   \n",
       "9      ...             ...       ...   \n",
       "10     ...             ...       ...   \n",
       "11     ...             ...       ...   \n",
       "12     ...             ...       ...   \n",
       "13     ...             ...       ...   \n",
       "14     ...             ...       ...   \n",
       "15     ...             ...       ...   \n",
       "16     ...             ...       ...   \n",
       "17     ...             ...       ...   \n",
       "18     ...             ...       ...   \n",
       "19     ...             ...       ...   \n",
       "20     ...             ...       ...   \n",
       "21     ...             ...       ...   \n",
       "22     ...             ...       ...   \n",
       "23     ...             ...       ...   \n",
       "24     ...             ...       ...   \n",
       "25     ...             ...       ...   \n",
       "26     ...             ...       ...   \n",
       "27     ...             ...       ...   \n",
       "28     ...             ...       ...   \n",
       "29     ...             ...       ...   \n",
       "30     ...             ...       ...   \n",
       "\n",
       "[31 rows x 35 columns]"
      ]
     },
     "execution_count": 44,
     "metadata": {},
     "output_type": "execute_result"
    }
   ],
   "source": [
    "weather = pd.read_csv(\"exercise2.csv\", header=0, parse_dates=[\"觀測時間(day)\"])\n",
    "weather"
   ]
  },
  {
   "cell_type": "code",
   "execution_count": 45,
   "metadata": {
    "scrolled": true
   },
   "outputs": [
    {
     "ename": "DataError",
     "evalue": "No numeric types to aggregate",
     "output_type": "error",
     "traceback": [
      "\u001b[1;31m---------------------------------------------------------------------------\u001b[0m",
      "\u001b[1;31mDataError\u001b[0m                                 Traceback (most recent call last)",
      "\u001b[1;32m<ipython-input-45-b514099c3cc4>\u001b[0m in \u001b[0;36m<module>\u001b[1;34m\u001b[0m\n\u001b[0;32m      1\u001b[0m \u001b[0mplt\u001b[0m\u001b[1;33m.\u001b[0m\u001b[0mylim\u001b[0m\u001b[1;33m(\u001b[0m\u001b[1;33m[\u001b[0m\u001b[1;36m0\u001b[0m\u001b[1;33m,\u001b[0m\u001b[1;36m40\u001b[0m\u001b[1;33m]\u001b[0m\u001b[1;33m)\u001b[0m\u001b[1;33m\u001b[0m\u001b[1;33m\u001b[0m\u001b[0m\n\u001b[0;32m      2\u001b[0m \u001b[1;33m\u001b[0m\u001b[0m\n\u001b[1;32m----> 3\u001b[1;33m \u001b[0msns\u001b[0m\u001b[1;33m.\u001b[0m\u001b[0mlineplot\u001b[0m\u001b[1;33m(\u001b[0m\u001b[0mdata\u001b[0m\u001b[1;33m=\u001b[0m\u001b[0mweather\u001b[0m\u001b[1;33m,\u001b[0m \u001b[0mx\u001b[0m\u001b[1;33m=\u001b[0m\u001b[1;34m\"觀測時間(day)\"\u001b[0m\u001b[1;33m,\u001b[0m \u001b[0my\u001b[0m\u001b[1;33m=\u001b[0m\u001b[1;34m\"氣溫(℃)\"\u001b[0m\u001b[1;33m)\u001b[0m\u001b[1;33m\u001b[0m\u001b[1;33m\u001b[0m\u001b[0m\n\u001b[0m",
      "\u001b[1;32m~\\Anaconda3\\lib\\site-packages\\seaborn\\relational.py\u001b[0m in \u001b[0;36mlineplot\u001b[1;34m(x, y, hue, size, style, data, palette, hue_order, hue_norm, sizes, size_order, size_norm, dashes, markers, style_order, units, estimator, ci, n_boot, sort, err_style, err_kws, legend, ax, **kwargs)\u001b[0m\n\u001b[0;32m   1082\u001b[0m         \u001b[0max\u001b[0m \u001b[1;33m=\u001b[0m \u001b[0mplt\u001b[0m\u001b[1;33m.\u001b[0m\u001b[0mgca\u001b[0m\u001b[1;33m(\u001b[0m\u001b[1;33m)\u001b[0m\u001b[1;33m\u001b[0m\u001b[1;33m\u001b[0m\u001b[0m\n\u001b[0;32m   1083\u001b[0m \u001b[1;33m\u001b[0m\u001b[0m\n\u001b[1;32m-> 1084\u001b[1;33m     \u001b[0mp\u001b[0m\u001b[1;33m.\u001b[0m\u001b[0mplot\u001b[0m\u001b[1;33m(\u001b[0m\u001b[0max\u001b[0m\u001b[1;33m,\u001b[0m \u001b[0mkwargs\u001b[0m\u001b[1;33m)\u001b[0m\u001b[1;33m\u001b[0m\u001b[1;33m\u001b[0m\u001b[0m\n\u001b[0m\u001b[0;32m   1085\u001b[0m \u001b[1;33m\u001b[0m\u001b[0m\n\u001b[0;32m   1086\u001b[0m     \u001b[1;32mreturn\u001b[0m \u001b[0max\u001b[0m\u001b[1;33m\u001b[0m\u001b[1;33m\u001b[0m\u001b[0m\n",
      "\u001b[1;32m~\\Anaconda3\\lib\\site-packages\\seaborn\\relational.py\u001b[0m in \u001b[0;36mplot\u001b[1;34m(self, ax, kws)\u001b[0m\n\u001b[0;32m    773\u001b[0m                     \u001b[0merr\u001b[0m \u001b[1;33m=\u001b[0m \u001b[1;34m\"estimator must be None when specifying units\"\u001b[0m\u001b[1;33m\u001b[0m\u001b[1;33m\u001b[0m\u001b[0m\n\u001b[0;32m    774\u001b[0m                     \u001b[1;32mraise\u001b[0m \u001b[0mValueError\u001b[0m\u001b[1;33m(\u001b[0m\u001b[0merr\u001b[0m\u001b[1;33m)\u001b[0m\u001b[1;33m\u001b[0m\u001b[1;33m\u001b[0m\u001b[0m\n\u001b[1;32m--> 775\u001b[1;33m                 \u001b[0mx\u001b[0m\u001b[1;33m,\u001b[0m \u001b[0my\u001b[0m\u001b[1;33m,\u001b[0m \u001b[0my_ci\u001b[0m \u001b[1;33m=\u001b[0m \u001b[0mself\u001b[0m\u001b[1;33m.\u001b[0m\u001b[0maggregate\u001b[0m\u001b[1;33m(\u001b[0m\u001b[0my\u001b[0m\u001b[1;33m,\u001b[0m \u001b[0mx\u001b[0m\u001b[1;33m,\u001b[0m \u001b[0munits\u001b[0m\u001b[1;33m)\u001b[0m\u001b[1;33m\u001b[0m\u001b[1;33m\u001b[0m\u001b[0m\n\u001b[0m\u001b[0;32m    776\u001b[0m             \u001b[1;32melse\u001b[0m\u001b[1;33m:\u001b[0m\u001b[1;33m\u001b[0m\u001b[1;33m\u001b[0m\u001b[0m\n\u001b[0;32m    777\u001b[0m                 \u001b[0my_ci\u001b[0m \u001b[1;33m=\u001b[0m \u001b[1;32mNone\u001b[0m\u001b[1;33m\u001b[0m\u001b[1;33m\u001b[0m\u001b[0m\n",
      "\u001b[1;32m~\\Anaconda3\\lib\\site-packages\\seaborn\\relational.py\u001b[0m in \u001b[0;36maggregate\u001b[1;34m(self, vals, grouper, units)\u001b[0m\n\u001b[0;32m    703\u001b[0m         \u001b[1;31m# Group and get the aggregation estimate\u001b[0m\u001b[1;33m\u001b[0m\u001b[1;33m\u001b[0m\u001b[1;33m\u001b[0m\u001b[0m\n\u001b[0;32m    704\u001b[0m         \u001b[0mgrouped\u001b[0m \u001b[1;33m=\u001b[0m \u001b[0mvals\u001b[0m\u001b[1;33m.\u001b[0m\u001b[0mgroupby\u001b[0m\u001b[1;33m(\u001b[0m\u001b[0mgrouper\u001b[0m\u001b[1;33m,\u001b[0m \u001b[0msort\u001b[0m\u001b[1;33m=\u001b[0m\u001b[0mself\u001b[0m\u001b[1;33m.\u001b[0m\u001b[0msort\u001b[0m\u001b[1;33m)\u001b[0m\u001b[1;33m\u001b[0m\u001b[1;33m\u001b[0m\u001b[0m\n\u001b[1;32m--> 705\u001b[1;33m         \u001b[0mest\u001b[0m \u001b[1;33m=\u001b[0m \u001b[0mgrouped\u001b[0m\u001b[1;33m.\u001b[0m\u001b[0magg\u001b[0m\u001b[1;33m(\u001b[0m\u001b[0mfunc\u001b[0m\u001b[1;33m)\u001b[0m\u001b[1;33m\u001b[0m\u001b[1;33m\u001b[0m\u001b[0m\n\u001b[0m\u001b[0;32m    706\u001b[0m \u001b[1;33m\u001b[0m\u001b[0m\n\u001b[0;32m    707\u001b[0m         \u001b[1;31m# Exit early if we don't want a confidence interval\u001b[0m\u001b[1;33m\u001b[0m\u001b[1;33m\u001b[0m\u001b[1;33m\u001b[0m\u001b[0m\n",
      "\u001b[1;32m~\\Anaconda3\\lib\\site-packages\\pandas\\core\\groupby\\generic.py\u001b[0m in \u001b[0;36maggregate\u001b[1;34m(self, func_or_funcs, *args, **kwargs)\u001b[0m\n\u001b[0;32m    843\u001b[0m \u001b[1;33m\u001b[0m\u001b[0m\n\u001b[0;32m    844\u001b[0m         \u001b[1;32mif\u001b[0m \u001b[0misinstance\u001b[0m\u001b[1;33m(\u001b[0m\u001b[0mfunc_or_funcs\u001b[0m\u001b[1;33m,\u001b[0m \u001b[0mstr\u001b[0m\u001b[1;33m)\u001b[0m\u001b[1;33m:\u001b[0m\u001b[1;33m\u001b[0m\u001b[1;33m\u001b[0m\u001b[0m\n\u001b[1;32m--> 845\u001b[1;33m             \u001b[1;32mreturn\u001b[0m \u001b[0mgetattr\u001b[0m\u001b[1;33m(\u001b[0m\u001b[0mself\u001b[0m\u001b[1;33m,\u001b[0m \u001b[0mfunc_or_funcs\u001b[0m\u001b[1;33m)\u001b[0m\u001b[1;33m(\u001b[0m\u001b[1;33m*\u001b[0m\u001b[0margs\u001b[0m\u001b[1;33m,\u001b[0m \u001b[1;33m**\u001b[0m\u001b[0mkwargs\u001b[0m\u001b[1;33m)\u001b[0m\u001b[1;33m\u001b[0m\u001b[1;33m\u001b[0m\u001b[0m\n\u001b[0m\u001b[0;32m    846\u001b[0m \u001b[1;33m\u001b[0m\u001b[0m\n\u001b[0;32m    847\u001b[0m         \u001b[1;32mif\u001b[0m \u001b[0misinstance\u001b[0m\u001b[1;33m(\u001b[0m\u001b[0mfunc_or_funcs\u001b[0m\u001b[1;33m,\u001b[0m \u001b[0mabc\u001b[0m\u001b[1;33m.\u001b[0m\u001b[0mIterable\u001b[0m\u001b[1;33m)\u001b[0m\u001b[1;33m:\u001b[0m\u001b[1;33m\u001b[0m\u001b[1;33m\u001b[0m\u001b[0m\n",
      "\u001b[1;32m~\\Anaconda3\\lib\\site-packages\\pandas\\core\\groupby\\groupby.py\u001b[0m in \u001b[0;36mmean\u001b[1;34m(self, *args, **kwargs)\u001b[0m\n\u001b[0;32m   1203\u001b[0m         \u001b[1;32mtry\u001b[0m\u001b[1;33m:\u001b[0m\u001b[1;33m\u001b[0m\u001b[1;33m\u001b[0m\u001b[0m\n\u001b[0;32m   1204\u001b[0m             return self._cython_agg_general(\n\u001b[1;32m-> 1205\u001b[1;33m                 \u001b[1;34m\"mean\"\u001b[0m\u001b[1;33m,\u001b[0m \u001b[0malt\u001b[0m\u001b[1;33m=\u001b[0m\u001b[1;32mlambda\u001b[0m \u001b[0mx\u001b[0m\u001b[1;33m,\u001b[0m \u001b[0maxis\u001b[0m\u001b[1;33m:\u001b[0m \u001b[0mSeries\u001b[0m\u001b[1;33m(\u001b[0m\u001b[0mx\u001b[0m\u001b[1;33m)\u001b[0m\u001b[1;33m.\u001b[0m\u001b[0mmean\u001b[0m\u001b[1;33m(\u001b[0m\u001b[1;33m**\u001b[0m\u001b[0mkwargs\u001b[0m\u001b[1;33m)\u001b[0m\u001b[1;33m,\u001b[0m \u001b[1;33m**\u001b[0m\u001b[0mkwargs\u001b[0m\u001b[1;33m\u001b[0m\u001b[1;33m\u001b[0m\u001b[0m\n\u001b[0m\u001b[0;32m   1206\u001b[0m             )\n\u001b[0;32m   1207\u001b[0m         \u001b[1;32mexcept\u001b[0m \u001b[0mGroupByError\u001b[0m\u001b[1;33m:\u001b[0m\u001b[1;33m\u001b[0m\u001b[1;33m\u001b[0m\u001b[0m\n",
      "\u001b[1;32m~\\Anaconda3\\lib\\site-packages\\pandas\\core\\groupby\\groupby.py\u001b[0m in \u001b[0;36m_cython_agg_general\u001b[1;34m(self, how, alt, numeric_only, min_count)\u001b[0m\n\u001b[0;32m    886\u001b[0m \u001b[1;33m\u001b[0m\u001b[0m\n\u001b[0;32m    887\u001b[0m         \u001b[1;32mif\u001b[0m \u001b[0mlen\u001b[0m\u001b[1;33m(\u001b[0m\u001b[0moutput\u001b[0m\u001b[1;33m)\u001b[0m \u001b[1;33m==\u001b[0m \u001b[1;36m0\u001b[0m\u001b[1;33m:\u001b[0m\u001b[1;33m\u001b[0m\u001b[1;33m\u001b[0m\u001b[0m\n\u001b[1;32m--> 888\u001b[1;33m             \u001b[1;32mraise\u001b[0m \u001b[0mDataError\u001b[0m\u001b[1;33m(\u001b[0m\u001b[1;34m\"No numeric types to aggregate\"\u001b[0m\u001b[1;33m)\u001b[0m\u001b[1;33m\u001b[0m\u001b[1;33m\u001b[0m\u001b[0m\n\u001b[0m\u001b[0;32m    889\u001b[0m \u001b[1;33m\u001b[0m\u001b[0m\n\u001b[0;32m    890\u001b[0m         \u001b[1;32mreturn\u001b[0m \u001b[0mself\u001b[0m\u001b[1;33m.\u001b[0m\u001b[0m_wrap_aggregated_output\u001b[0m\u001b[1;33m(\u001b[0m\u001b[0moutput\u001b[0m\u001b[1;33m,\u001b[0m \u001b[0mnames\u001b[0m\u001b[1;33m)\u001b[0m\u001b[1;33m\u001b[0m\u001b[1;33m\u001b[0m\u001b[0m\n",
      "\u001b[1;31mDataError\u001b[0m: No numeric types to aggregate"
     ]
    },
    {
     "data": {
      "image/png": "[encoded data removed]",
      "text/plain": [
       "<Figure size 432x288 with 1 Axes>"
      ]
     },
     "metadata": {
      "needs_background": "light"
     },
     "output_type": "display_data"
    }
   ],
   "source": [
    "plt.ylim([0,40])\n",
    "\n",
    "sns.lineplot(data=weather, x=\"觀測時間(day)\", y=\"氣溫(℃)\")"
   ]
  },
  {
   "cell_type": "code",
   "execution_count": 46,
   "metadata": {},
   "outputs": [
    {
     "data": {
      "text/plain": [
       "觀測時間(day)             object\n",
       "測站氣壓(hPa)             object\n",
       "海平面氣壓(hPa)            object\n",
       "測站最高氣壓(hPa)           object\n",
       "測站最高氣壓時間(LST)         object\n",
       "測站最低氣壓(hPa)           object\n",
       "測站最低氣壓時間(LST)         object\n",
       "氣溫(℃)                 object\n",
       "最高氣溫(℃)               object\n",
       "最高氣溫時間(LST)           object\n",
       "最低氣溫(℃)               object\n",
       "最低氣溫時間(LST)           object\n",
       "露點溫度(℃)               object\n",
       "相對溼度(%)               object\n",
       "最小相對溼度(%)             object\n",
       "最小相對溼度時間(LST)         object\n",
       "風速(m/s)               object\n",
       "風向(360degree)         object\n",
       "最大陣風(m/s)             object\n",
       "最大陣風風向(360degree)     object\n",
       "最大陣風風速時間(LST)         object\n",
       "降水量(mm)               object\n",
       "降水時數(hour)            object\n",
       "最大十分鐘降水量(mm)          object\n",
       "最大十分鐘降水量起始時間(LST)     object\n",
       "最大六十分鐘降水量(mm)         object\n",
       "最大六十分鐘降水量起始時間(LST)    object\n",
       "日照時數(hour)            object\n",
       "日照率(%)                object\n",
       "全天空日射量(MJ/㎡)          object\n",
       "能見度(km)               object\n",
       "A型蒸發量(mm)             object\n",
       "日最高紫外線指數              object\n",
       "日最高紫外線指數時間(LST)       object\n",
       "總雲量(0~10)             object\n",
       "dtype: object"
      ]
     },
     "execution_count": 46,
     "metadata": {},
     "output_type": "execute_result"
    }
   ],
   "source": [
    "weather.dtypes"
   ]
  },
  {
   "cell_type": "code",
   "execution_count": 47,
   "metadata": {},
   "outputs": [
    {
     "name": "stdout",
     "output_type": "stream",
     "text": [
      "<class 'pandas.core.frame.DataFrame'>\n",
      "RangeIndex: 31 entries, 0 to 30\n",
      "Data columns (total 35 columns):\n",
      "觀測時間(day)             31 non-null object\n",
      "測站氣壓(hPa)             31 non-null object\n",
      "海平面氣壓(hPa)            31 non-null object\n",
      "測站最高氣壓(hPa)           31 non-null object\n",
      "測站最高氣壓時間(LST)         31 non-null object\n",
      "測站最低氣壓(hPa)           31 non-null object\n",
      "測站最低氣壓時間(LST)         31 non-null object\n",
      "氣溫(℃)                 31 non-null object\n",
      "最高氣溫(℃)               31 non-null object\n",
      "最高氣溫時間(LST)           31 non-null object\n",
      "最低氣溫(℃)               31 non-null object\n",
      "最低氣溫時間(LST)           31 non-null object\n",
      "露點溫度(℃)               31 non-null object\n",
      "相對溼度(%)               31 non-null object\n",
      "最小相對溼度(%)             31 non-null object\n",
      "最小相對溼度時間(LST)         31 non-null object\n",
      "風速(m/s)               31 non-null object\n",
      "風向(360degree)         31 non-null object\n",
      "最大陣風(m/s)             31 non-null object\n",
      "最大陣風風向(360degree)     31 non-null object\n",
      "最大陣風風速時間(LST)         31 non-null object\n",
      "降水量(mm)               31 non-null object\n",
      "降水時數(hour)            31 non-null object\n",
      "最大十分鐘降水量(mm)          31 non-null object\n",
      "最大十分鐘降水量起始時間(LST)     31 non-null object\n",
      "最大六十分鐘降水量(mm)         31 non-null object\n",
      "最大六十分鐘降水量起始時間(LST)    31 non-null object\n",
      "日照時數(hour)            31 non-null object\n",
      "日照率(%)                31 non-null object\n",
      "全天空日射量(MJ/㎡)          31 non-null object\n",
      "能見度(km)               31 non-null object\n",
      "A型蒸發量(mm)             31 non-null object\n",
      "日最高紫外線指數              31 non-null object\n",
      "日最高紫外線指數時間(LST)       31 non-null object\n",
      "總雲量(0~10)             31 non-null object\n",
      "dtypes: object(35)\n",
      "memory usage: 8.6+ KB\n"
     ]
    }
   ],
   "source": [
    "weather.info()"
   ]
  },
  {
   "cell_type": "code",
   "execution_count": 48,
   "metadata": {},
   "outputs": [
    {
     "data": {
      "text/plain": [
       "0      1\n",
       "1      2\n",
       "2      3\n",
       "3      4\n",
       "4      5\n",
       "5      6\n",
       "6      7\n",
       "7      8\n",
       "8      9\n",
       "9     10\n",
       "10    11\n",
       "11    12\n",
       "12    13\n",
       "13    14\n",
       "14    15\n",
       "15    16\n",
       "16    17\n",
       "17    18\n",
       "18    19\n",
       "19    20\n",
       "20    21\n",
       "21    22\n",
       "22    23\n",
       "23    24\n",
       "24    25\n",
       "25    26\n",
       "26    27\n",
       "27    28\n",
       "28    29\n",
       "29    30\n",
       "30    31\n",
       "Name: 觀測時間(day), dtype: int32"
      ]
     },
     "execution_count": 48,
     "metadata": {},
     "output_type": "execute_result"
    }
   ],
   "source": [
    "weather['觀測時間(day)'].astype('int')"
   ]
  },
  {
   "cell_type": "code",
   "execution_count": 49,
   "metadata": {},
   "outputs": [
    {
     "data": {
      "text/plain": [
       "0     27.8\n",
       "1     28.2\n",
       "2     27.1\n",
       "3     28.3\n",
       "4     28.4\n",
       "5     26.8\n",
       "6     25.1\n",
       "7     29.3\n",
       "8     28.9\n",
       "9     29.0\n",
       "10    29.0\n",
       "11    28.7\n",
       "12    28.2\n",
       "13    27.9\n",
       "14    29.1\n",
       "15    29.5\n",
       "16    29.9\n",
       "17    27.7\n",
       "18    27.7\n",
       "19    28.5\n",
       "20    29.2\n",
       "21    29.6\n",
       "22    29.9\n",
       "23    28.6\n",
       "24    29.0\n",
       "25    29.7\n",
       "26    30.4\n",
       "27    30.2\n",
       "28    30.2\n",
       "29    30.3\n",
       "30    30.1\n",
       "Name: 氣溫(℃), dtype: float64"
      ]
     },
     "execution_count": 49,
     "metadata": {},
     "output_type": "execute_result"
    }
   ],
   "source": [
    "weather['氣溫(℃)'].astype('float')"
   ]
  },
  {
   "cell_type": "code",
   "execution_count": 50,
   "metadata": {
    "scrolled": false
   },
   "outputs": [
    {
     "data": {
      "text/plain": [
       "觀測時間(day)             object\n",
       "測站氣壓(hPa)             object\n",
       "海平面氣壓(hPa)            object\n",
       "測站最高氣壓(hPa)           object\n",
       "測站最高氣壓時間(LST)         object\n",
       "測站最低氣壓(hPa)           object\n",
       "測站最低氣壓時間(LST)         object\n",
       "氣溫(℃)                 object\n",
       "最高氣溫(℃)               object\n",
       "最高氣溫時間(LST)           object\n",
       "最低氣溫(℃)               object\n",
       "最低氣溫時間(LST)           object\n",
       "露點溫度(℃)               object\n",
       "相對溼度(%)               object\n",
       "最小相對溼度(%)             object\n",
       "最小相對溼度時間(LST)         object\n",
       "風速(m/s)               object\n",
       "風向(360degree)         object\n",
       "最大陣風(m/s)             object\n",
       "最大陣風風向(360degree)     object\n",
       "最大陣風風速時間(LST)         object\n",
       "降水量(mm)               object\n",
       "降水時數(hour)            object\n",
       "最大十分鐘降水量(mm)          object\n",
       "最大十分鐘降水量起始時間(LST)     object\n",
       "最大六十分鐘降水量(mm)         object\n",
       "最大六十分鐘降水量起始時間(LST)    object\n",
       "日照時數(hour)            object\n",
       "日照率(%)                object\n",
       "全天空日射量(MJ/㎡)          object\n",
       "能見度(km)               object\n",
       "A型蒸發量(mm)             object\n",
       "日最高紫外線指數              object\n",
       "日最高紫外線指數時間(LST)       object\n",
       "總雲量(0~10)             object\n",
       "dtype: object"
      ]
     },
     "execution_count": 50,
     "metadata": {},
     "output_type": "execute_result"
    }
   ],
   "source": [
    "weather.dtypes"
   ]
  },
  {
   "cell_type": "code",
   "execution_count": 51,
   "metadata": {
    "scrolled": false
   },
   "outputs": [
    {
     "name": "stdout",
     "output_type": "stream",
     "text": [
      "<class 'pandas.core.frame.DataFrame'>\n",
      "RangeIndex: 31 entries, 0 to 30\n",
      "Data columns (total 35 columns):\n",
      "觀測時間(day)             31 non-null object\n",
      "測站氣壓(hPa)             31 non-null object\n",
      "海平面氣壓(hPa)            31 non-null object\n",
      "測站最高氣壓(hPa)           31 non-null object\n",
      "測站最高氣壓時間(LST)         31 non-null object\n",
      "測站最低氣壓(hPa)           31 non-null object\n",
      "測站最低氣壓時間(LST)         31 non-null object\n",
      "氣溫(℃)                 31 non-null object\n",
      "最高氣溫(℃)               31 non-null object\n",
      "最高氣溫時間(LST)           31 non-null object\n",
      "最低氣溫(℃)               31 non-null object\n",
      "最低氣溫時間(LST)           31 non-null object\n",
      "露點溫度(℃)               31 non-null object\n",
      "相對溼度(%)               31 non-null object\n",
      "最小相對溼度(%)             31 non-null object\n",
      "最小相對溼度時間(LST)         31 non-null object\n",
      "風速(m/s)               31 non-null object\n",
      "風向(360degree)         31 non-null object\n",
      "最大陣風(m/s)             31 non-null object\n",
      "最大陣風風向(360degree)     31 non-null object\n",
      "最大陣風風速時間(LST)         31 non-null object\n",
      "降水量(mm)               31 non-null object\n",
      "降水時數(hour)            31 non-null object\n",
      "最大十分鐘降水量(mm)          31 non-null object\n",
      "最大十分鐘降水量起始時間(LST)     31 non-null object\n",
      "最大六十分鐘降水量(mm)         31 non-null object\n",
      "最大六十分鐘降水量起始時間(LST)    31 non-null object\n",
      "日照時數(hour)            31 non-null object\n",
      "日照率(%)                31 non-null object\n",
      "全天空日射量(MJ/㎡)          31 non-null object\n",
      "能見度(km)               31 non-null object\n",
      "A型蒸發量(mm)             31 non-null object\n",
      "日最高紫外線指數              31 non-null object\n",
      "日最高紫外線指數時間(LST)       31 non-null object\n",
      "總雲量(0~10)             31 non-null object\n",
      "dtypes: object(35)\n",
      "memory usage: 8.6+ KB\n"
     ]
    }
   ],
   "source": [
    "weather.info()"
   ]
  },
  {
   "cell_type": "code",
   "execution_count": 52,
   "metadata": {
    "scrolled": false
   },
   "outputs": [
    {
     "name": "stdout",
     "output_type": "stream",
     "text": [
      "    觀測時間(day) 測站氣壓(hPa) 海平面氣壓(hPa) 測站最高氣壓(hPa)      測站最高氣壓時間(LST) 測站最低氣壓(hPa)  \\\n",
      "0           1    991.0        ...       992.5   2021-08-01 00:01       989.1    \n",
      "1           2    990.9        ...       992.3   2021-08-02 21:01       989.9    \n",
      "2           3    991.5        ...       993.5   2021-08-03 21:51       990.1    \n",
      "3           4    992.9        ...       994.0   2021-08-04 08:59       991.5    \n",
      "4           5    991.7        ...       993.2   2021-08-05 21:22       990.9    \n",
      "5           6    990.6        ...       992.9   2021-08-06 09:43       988.0    \n",
      "6           7    990.8        ...       996.2   2021-08-07 23:12       987.3    \n",
      "7           8    997.3        ...      1000.2   2021-08-08 22:31       995.0    \n",
      "8           9    999.6        ...      1000.9   2021-08-09 22:31       997.9    \n",
      "9          10   1000.5        ...      1001.8   2021-08-10 22:02       999.3    \n",
      "10         11   1002.1        ...      1003.6   2021-08-11 21:42      1000.7    \n",
      "11         12   1001.8        ...      1003.6   2021-08-12 08:33       999.7    \n",
      "12         13    999.6        ...      1000.8   2021-08-13 00:01       998.1    \n",
      "13         14   1000.1        ...      1002.9   2021-08-14 21:44       998.4    \n",
      "14         15   1003.9        ...      1005.9   2021-08-15 21:41      1001.5    \n",
      "15         16   1005.2        ...      1006.8   2021-08-16 09:11      1003.5    \n",
      "16         17   1003.1        ...      1005.2   2021-08-17 00:01      1000.3    \n",
      "17         18   1001.6        ...      1002.9   2021-08-18 00:01      1000.6    \n",
      "18         19   1002.0        ...      1003.4   2021-08-19 20:51      1000.2    \n",
      "19         20   1002.6        ...      1004.0   2021-08-20 08:41      1000.9    \n",
      "20         21   1001.6        ...      1003.0   2021-08-21 08:41       999.6    \n",
      "21         22   1000.3        ...      1002.0   2021-08-22 08:01       998.3    \n",
      "22         23   1000.1        ...      1001.2   2021-08-23 21:11       999.1    \n",
      "23         24   1001.2        ...      1002.6   2021-08-24 22:31       999.7    \n",
      "24         25   1002.8        ...      1005.1   2021-08-25 22:51      1001.2    \n",
      "25         26   1004.7        ...      1005.8   2021-08-26 21:54      1003.0    \n",
      "26         27   1004.5        ...      1005.5   2021-08-27 00:06      1002.9    \n",
      "27         28   1003.7        ...      1005.0   2021-08-28 22:01      1001.4    \n",
      "28         29   1003.8        ...      1005.6   2021-08-29 23:08      1002.2    \n",
      "29         30   1004.2        ...      1005.5   2021-08-30 10:12      1003.1    \n",
      "30         31   1003.6        ...      1004.5   2021-08-31 21:48      1002.4    \n",
      "\n",
      "        測站最低氣壓時間(LST)  氣溫(℃) 最高氣溫(℃)        最高氣溫時間(LST)  ... 最大六十分鐘降水量(mm)  \\\n",
      "0   2021-08-01 16:13    27.8   30.8   2021-08-01 13:21   ...          ...    \n",
      "1   2021-08-02 01:31    28.2   32.9   2021-08-02 10:41   ...          ...    \n",
      "2   2021-08-03 14:37    27.1   30.5   2021-08-03 11:42   ...          ...    \n",
      "3   2021-08-04 14:02    28.3   32.6   2021-08-04 12:31   ...          ...    \n",
      "4   2021-08-05 03:21    28.4   33.6   2021-08-05 10:54   ...          ...    \n",
      "5   2021-08-06 18:08    26.8   28.3   2021-08-06 13:36   ...          ...    \n",
      "6   2021-08-07 05:02    25.1   25.9   2021-08-07 23:41   ...          ...    \n",
      "7   2021-08-08 01:01    29.3   35.2   2021-08-08 13:23   ...          ...    \n",
      "8   2021-08-09 17:59    28.9   34.3   2021-08-09 10:34   ...          ...    \n",
      "9   2021-08-10 03:52    29.0   33.6   2021-08-10 10:11   ...          ...    \n",
      "10  2021-08-11 16:14    29.0   34.6   2021-08-11 12:32   ...          ...    \n",
      "11  2021-08-12 15:45    28.7   35.9   2021-08-12 13:24   ...          ...    \n",
      "12  2021-08-13 13:36    28.2   36.1   2021-08-13 11:22   ...          ...    \n",
      "13  2021-08-14 03:32    27.9   33.2   2021-08-14 12:01   ...          ...    \n",
      "14  2021-08-15 02:11    29.1   32.2   2021-08-15 15:21   ...          ...    \n",
      "15  2021-08-16 17:11    29.5   34.8   2021-08-16 10:22   ...          ...    \n",
      "16  2021-08-17 15:41    29.9   35.3   2021-08-17 13:12   ...          ...    \n",
      "17  2021-08-18 17:11    27.7   31.9   2021-08-18 11:23   ...          ...    \n",
      "18  2021-08-19 03:35    27.7   34.4   2021-08-19 11:55   ...          ...    \n",
      "19  2021-08-20 16:31    28.5   34.3   2021-08-20 14:31   ...          ...    \n",
      "20  2021-08-21 15:54    29.2   35.2   2021-08-21 13:02   ...          ...    \n",
      "21  2021-08-22 15:15    29.6   34.8   2021-08-22 12:52   ...          ...    \n",
      "22  2021-08-23 03:01    29.9   34.6   2021-08-23 12:52   ...          ...    \n",
      "23  2021-08-24 13:51    28.6   35.3   2021-08-24 12:31   ...          ...    \n",
      "24  2021-08-25 03:01    29.0   35.1   2021-08-25 11:54   ...          ...    \n",
      "25  2021-08-26 15:01    29.7   34.9   2021-08-26 10:52   ...          ...    \n",
      "26  2021-08-27 15:02    30.4   36.9   2021-08-27 11:41   ...          ...    \n",
      "27  2021-08-28 14:54    30.2   35.0   2021-08-28 13:16   ...          ...    \n",
      "28  2021-08-29 14:55    30.2   34.4   2021-08-29 10:21   ...          ...    \n",
      "29  2021-08-30 03:02    30.3   34.7   2021-08-30 15:21   ...          ...    \n",
      "30  2021-08-31 03:52    30.1   34.0   2021-08-31 10:21   ...          ...    \n",
      "\n",
      "   最大六十分鐘降水量起始時間(LST) 日照時數(hour) 日照率(%) 全天空日射量(MJ/㎡) 能見度(km) A型蒸發量(mm)  \\\n",
      "0                ...        ...    ...          ...     ...       ...    \n",
      "1                ...        ...    ...          ...     ...       ...    \n",
      "2                ...        ...    ...          ...     ...       ...    \n",
      "3                ...        ...    ...          ...     ...       ...    \n",
      "4                ...        ...    ...          ...     ...       ...    \n",
      "5                ...        ...    ...          ...     ...       ...    \n",
      "6                ...        ...    ...          ...     ...       ...    \n",
      "7                ...        ...    ...          ...     ...       ...    \n",
      "8                ...        ...    ...          ...     ...       ...    \n",
      "9                ...        ...    ...          ...     ...       ...    \n",
      "10               ...        ...    ...          ...     ...       ...    \n",
      "11               ...        ...    ...          ...     ...       ...    \n",
      "12               ...        ...    ...          ...     ...       ...    \n",
      "13               ...        ...    ...          ...     ...       ...    \n",
      "14               ...        ...    ...          ...     ...       ...    \n",
      "15               ...        ...    ...          ...     ...       ...    \n",
      "16               ...        ...    ...          ...     ...       ...    \n",
      "17               ...        ...    ...          ...     ...       ...    \n",
      "18               ...        ...    ...          ...     ...       ...    \n",
      "19               ...        ...    ...          ...     ...       ...    \n",
      "20               ...        ...    ...          ...     ...       ...    \n",
      "21               ...        ...    ...          ...     ...       ...    \n",
      "22               ...        ...    ...          ...     ...       ...    \n",
      "23               ...        ...    ...          ...     ...       ...    \n",
      "24               ...        ...    ...          ...     ...       ...    \n",
      "25               ...        ...    ...          ...     ...       ...    \n",
      "26               ...        ...    ...          ...     ...       ...    \n",
      "27               ...        ...    ...          ...     ...       ...    \n",
      "28               ...        ...    ...          ...     ...       ...    \n",
      "29               ...        ...    ...          ...     ...       ...    \n",
      "30               ...        ...    ...          ...     ...       ...    \n",
      "\n",
      "   日最高紫外線指數 日最高紫外線指數時間(LST) 總雲量(0~10)  \n",
      "0      ...             ...       ...   \n",
      "1      ...             ...       ...   \n",
      "2      ...             ...       ...   \n",
      "3      ...             ...       ...   \n",
      "4      ...             ...       ...   \n",
      "5      ...             ...       ...   \n",
      "6      ...             ...       ...   \n",
      "7      ...             ...       ...   \n",
      "8      ...             ...       ...   \n",
      "9      ...             ...       ...   \n",
      "10     ...             ...       ...   \n",
      "11     ...             ...       ...   \n",
      "12     ...             ...       ...   \n",
      "13     ...             ...       ...   \n",
      "14     ...             ...       ...   \n",
      "15     ...             ...       ...   \n",
      "16     ...             ...       ...   \n",
      "17     ...             ...       ...   \n",
      "18     ...             ...       ...   \n",
      "19     ...             ...       ...   \n",
      "20     ...             ...       ...   \n",
      "21     ...             ...       ...   \n",
      "22     ...             ...       ...   \n",
      "23     ...             ...       ...   \n",
      "24     ...             ...       ...   \n",
      "25     ...             ...       ...   \n",
      "26     ...             ...       ...   \n",
      "27     ...             ...       ...   \n",
      "28     ...             ...       ...   \n",
      "29     ...             ...       ...   \n",
      "30     ...             ...       ...   \n",
      "\n",
      "[31 rows x 35 columns]\n"
     ]
    }
   ],
   "source": [
    "#將觀測時間(day)由 object 轉型為 int\n",
    "weather['觀測時間(day)'] = weather['觀測時間(day)'].astype(\"int\")\n",
    "weather['氣溫(℃)'] = weather['氣溫(℃)'].astype(\"float\")\n",
    "print(weather)"
   ]
  },
  {
   "cell_type": "code",
   "execution_count": 53,
   "metadata": {},
   "outputs": [
    {
     "data": {
      "text/plain": [
       "觀測時間(day)               int32\n",
       "測站氣壓(hPa)              object\n",
       "海平面氣壓(hPa)             object\n",
       "測站最高氣壓(hPa)            object\n",
       "測站最高氣壓時間(LST)          object\n",
       "測站最低氣壓(hPa)            object\n",
       "測站最低氣壓時間(LST)          object\n",
       "氣溫(℃)                 float64\n",
       "最高氣溫(℃)                object\n",
       "最高氣溫時間(LST)            object\n",
       "最低氣溫(℃)                object\n",
       "最低氣溫時間(LST)            object\n",
       "露點溫度(℃)                object\n",
       "相對溼度(%)                object\n",
       "最小相對溼度(%)              object\n",
       "最小相對溼度時間(LST)          object\n",
       "風速(m/s)                object\n",
       "風向(360degree)          object\n",
       "最大陣風(m/s)              object\n",
       "最大陣風風向(360degree)      object\n",
       "最大陣風風速時間(LST)          object\n",
       "降水量(mm)                object\n",
       "降水時數(hour)             object\n",
       "最大十分鐘降水量(mm)           object\n",
       "最大十分鐘降水量起始時間(LST)      object\n",
       "最大六十分鐘降水量(mm)          object\n",
       "最大六十分鐘降水量起始時間(LST)     object\n",
       "日照時數(hour)             object\n",
       "日照率(%)                 object\n",
       "全天空日射量(MJ/㎡)           object\n",
       "能見度(km)                object\n",
       "A型蒸發量(mm)              object\n",
       "日最高紫外線指數               object\n",
       "日最高紫外線指數時間(LST)        object\n",
       "總雲量(0~10)              object\n",
       "dtype: object"
      ]
     },
     "execution_count": 53,
     "metadata": {},
     "output_type": "execute_result"
    }
   ],
   "source": [
    "weather.dtypes"
   ]
  },
  {
   "cell_type": "code",
   "execution_count": 54,
   "metadata": {},
   "outputs": [
    {
     "data": {
      "text/plain": [
       "<matplotlib.axes._subplots.AxesSubplot at 0x2ae0a869888>"
      ]
     },
     "execution_count": 54,
     "metadata": {},
     "output_type": "execute_result"
    },
    {
     "data": {
      "image/png": "[encoded data removed]",
      "text/plain": [
       "<Figure size 432x288 with 1 Axes>"
      ]
     },
     "metadata": {
      "needs_background": "light"
     },
     "output_type": "display_data"
    }
   ],
   "source": [
    "#由於坐標軸的最小值不能為0，所以指定y軸的值\n",
    "plt.ylim([0,40])\n",
    "\n",
    "sns.lineplot(data=weather, x=\"觀測時間(day)\", y=\"氣溫(℃)\")"
   ]
  },
  {
   "cell_type": "code",
   "execution_count": 55,
   "metadata": {
    "scrolled": true
   },
   "outputs": [
    {
     "data": {
      "text/plain": [
       "(array([-5.,  0.,  5., 10., 15., 20., 25., 30., 35.]),\n",
       " <a list of 9 Text xticklabel objects>)"
      ]
     },
     "execution_count": 55,
     "metadata": {},
     "output_type": "execute_result"
    },
    {
     "data": {
      "image/png": "[encoded data removed]",
      "text/plain": [
       "<Figure size 432x288 with 1 Axes>"
      ]
     },
     "metadata": {
      "needs_background": "light"
     },
     "output_type": "display_data"
    }
   ],
   "source": [
    "plt.ylim([0,40])\n",
    "\n",
    "sns.lineplot(data=weather, x=\"觀測時間(day)\", y=\"氣溫(℃)\")\n",
    "\n",
    "#將x軸翻轉90度\n",
    "plt.xticks(rotation=90)"
   ]
  },
  {
   "cell_type": "code",
   "execution_count": 56,
   "metadata": {},
   "outputs": [
    {
     "data": {
      "text/plain": [
       "'C:\\\\Users\\\\Administrator\\\\Anaconda3\\\\lib\\\\site-packages\\\\matplotlib\\\\mpl-data\\\\matplotlibrc'"
      ]
     },
     "execution_count": 56,
     "metadata": {},
     "output_type": "execute_result"
    }
   ],
   "source": [
    "import matplotlib.pyplot as plt\n",
    "plt.rcParams['font.sans-serif']=['SimHei']\n",
    "plt.rcParams['axes.unicode_minus']=False\n",
    "\n",
    "import matplotlib\n",
    "matplotlib.matplotlib_fname()"
   ]
  },
  {
   "cell_type": "code",
   "execution_count": 57,
   "metadata": {},
   "outputs": [
    {
     "data": {
      "text/plain": [
       "(array([-5.,  0.,  5., 10., 15., 20., 25., 30., 35.]),\n",
       " <a list of 9 Text xticklabel objects>)"
      ]
     },
     "execution_count": 57,
     "metadata": {},
     "output_type": "execute_result"
    },
    {
     "data": {
      "image/png": "[encoded data removed]",
      "text/plain": [
       "<Figure size 432x288 with 1 Axes>"
      ]
     },
     "metadata": {
      "needs_background": "light"
     },
     "output_type": "display_data"
    }
   ],
   "source": [
    "plt.ylim([0,40])\n",
    "\n",
    "sns.lineplot(data=weather, x=\"觀測時間(day)\", y=\"氣溫(℃)\")\n",
    "plt.xticks(rotation=90)"
   ]
  },
  {
   "cell_type": "code",
   "execution_count": 58,
   "metadata": {},
   "outputs": [
    {
     "data": {
      "text/plain": [
       "觀測時間(day)               int32\n",
       "測站氣壓(hPa)              object\n",
       "海平面氣壓(hPa)             object\n",
       "測站最高氣壓(hPa)            object\n",
       "測站最高氣壓時間(LST)          object\n",
       "測站最低氣壓(hPa)            object\n",
       "測站最低氣壓時間(LST)          object\n",
       "氣溫(℃)                 float64\n",
       "最高氣溫(℃)               float64\n",
       "最高氣溫時間(LST)            object\n",
       "最低氣溫(℃)               float64\n",
       "最低氣溫時間(LST)            object\n",
       "露點溫度(℃)                object\n",
       "相對溼度(%)                object\n",
       "最小相對溼度(%)              object\n",
       "最小相對溼度時間(LST)          object\n",
       "風速(m/s)                object\n",
       "風向(360degree)          object\n",
       "最大陣風(m/s)              object\n",
       "最大陣風風向(360degree)      object\n",
       "最大陣風風速時間(LST)          object\n",
       "降水量(mm)                object\n",
       "降水時數(hour)             object\n",
       "最大十分鐘降水量(mm)           object\n",
       "最大十分鐘降水量起始時間(LST)      object\n",
       "最大六十分鐘降水量(mm)          object\n",
       "最大六十分鐘降水量起始時間(LST)     object\n",
       "日照時數(hour)             object\n",
       "日照率(%)                 object\n",
       "全天空日射量(MJ/㎡)           object\n",
       "能見度(km)                object\n",
       "A型蒸發量(mm)              object\n",
       "日最高紫外線指數               object\n",
       "日最高紫外線指數時間(LST)        object\n",
       "總雲量(0~10)              object\n",
       "dtype: object"
      ]
     },
     "execution_count": 58,
     "metadata": {},
     "output_type": "execute_result"
    }
   ],
   "source": [
    "#將 object 轉型成 float\n",
    "weather['最高氣溫(℃)'] = weather['最高氣溫(℃)'].astype(\"float\")\n",
    "weather['最低氣溫(℃)'] = weather['最低氣溫(℃)'].astype(\"float\")\n",
    "weather.dtypes"
   ]
  },
  {
   "cell_type": "code",
   "execution_count": 59,
   "metadata": {},
   "outputs": [
    {
     "data": {
      "text/html": [
       "<div>\n",
       "<style scoped>\n",
       "    .dataframe tbody tr th:only-of-type {\n",
       "        vertical-align: middle;\n",
       "    }\n",
       "\n",
       "    .dataframe tbody tr th {\n",
       "        vertical-align: top;\n",
       "    }\n",
       "\n",
       "    .dataframe thead th {\n",
       "        text-align: right;\n",
       "    }\n",
       "</style>\n",
       "<table border=\"1\" class=\"dataframe\">\n",
       "  <thead>\n",
       "    <tr style=\"text-align: right;\">\n",
       "      <th></th>\n",
       "      <th>氣溫(℃)</th>\n",
       "      <th>最高氣溫(℃)</th>\n",
       "      <th>最低氣溫(℃)</th>\n",
       "    </tr>\n",
       "    <tr>\n",
       "      <th>觀測時間(day)</th>\n",
       "      <th></th>\n",
       "      <th></th>\n",
       "      <th></th>\n",
       "    </tr>\n",
       "  </thead>\n",
       "  <tbody>\n",
       "    <tr>\n",
       "      <td>1</td>\n",
       "      <td>26.5</td>\n",
       "      <td>33.4</td>\n",
       "      <td>23.4</td>\n",
       "    </tr>\n",
       "    <tr>\n",
       "      <td>2</td>\n",
       "      <td>28.0</td>\n",
       "      <td>35.0</td>\n",
       "      <td>24.2</td>\n",
       "    </tr>\n",
       "    <tr>\n",
       "      <td>3</td>\n",
       "      <td>29.7</td>\n",
       "      <td>37.0</td>\n",
       "      <td>25.6</td>\n",
       "    </tr>\n",
       "    <tr>\n",
       "      <td>4</td>\n",
       "      <td>27.5</td>\n",
       "      <td>33.9</td>\n",
       "      <td>24.1</td>\n",
       "    </tr>\n",
       "    <tr>\n",
       "      <td>5</td>\n",
       "      <td>24.4</td>\n",
       "      <td>26.6</td>\n",
       "      <td>21.2</td>\n",
       "    </tr>\n",
       "    <tr>\n",
       "      <td>6</td>\n",
       "      <td>23.2</td>\n",
       "      <td>24.5</td>\n",
       "      <td>21.6</td>\n",
       "    </tr>\n",
       "    <tr>\n",
       "      <td>7</td>\n",
       "      <td>26.0</td>\n",
       "      <td>30.1</td>\n",
       "      <td>23.2</td>\n",
       "    </tr>\n",
       "    <tr>\n",
       "      <td>8</td>\n",
       "      <td>28.4</td>\n",
       "      <td>34.2</td>\n",
       "      <td>24.4</td>\n",
       "    </tr>\n",
       "    <tr>\n",
       "      <td>9</td>\n",
       "      <td>28.6</td>\n",
       "      <td>33.1</td>\n",
       "      <td>25.1</td>\n",
       "    </tr>\n",
       "    <tr>\n",
       "      <td>10</td>\n",
       "      <td>29.1</td>\n",
       "      <td>35.3</td>\n",
       "      <td>25.1</td>\n",
       "    </tr>\n",
       "    <tr>\n",
       "      <td>11</td>\n",
       "      <td>29.5</td>\n",
       "      <td>34.3</td>\n",
       "      <td>25.2</td>\n",
       "    </tr>\n",
       "    <tr>\n",
       "      <td>12</td>\n",
       "      <td>29.4</td>\n",
       "      <td>35.9</td>\n",
       "      <td>26.3</td>\n",
       "    </tr>\n",
       "    <tr>\n",
       "      <td>13</td>\n",
       "      <td>29.3</td>\n",
       "      <td>34.2</td>\n",
       "      <td>26.0</td>\n",
       "    </tr>\n",
       "    <tr>\n",
       "      <td>14</td>\n",
       "      <td>30.8</td>\n",
       "      <td>35.7</td>\n",
       "      <td>26.3</td>\n",
       "    </tr>\n",
       "    <tr>\n",
       "      <td>15</td>\n",
       "      <td>31.1</td>\n",
       "      <td>34.5</td>\n",
       "      <td>27.9</td>\n",
       "    </tr>\n",
       "    <tr>\n",
       "      <td>16</td>\n",
       "      <td>31.7</td>\n",
       "      <td>35.8</td>\n",
       "      <td>28.0</td>\n",
       "    </tr>\n",
       "    <tr>\n",
       "      <td>17</td>\n",
       "      <td>32.1</td>\n",
       "      <td>36.4</td>\n",
       "      <td>27.5</td>\n",
       "    </tr>\n",
       "    <tr>\n",
       "      <td>18</td>\n",
       "      <td>32.4</td>\n",
       "      <td>36.8</td>\n",
       "      <td>28.8</td>\n",
       "    </tr>\n",
       "    <tr>\n",
       "      <td>19</td>\n",
       "      <td>32.5</td>\n",
       "      <td>36.7</td>\n",
       "      <td>28.1</td>\n",
       "    </tr>\n",
       "    <tr>\n",
       "      <td>20</td>\n",
       "      <td>31.8</td>\n",
       "      <td>36.1</td>\n",
       "      <td>27.0</td>\n",
       "    </tr>\n",
       "    <tr>\n",
       "      <td>21</td>\n",
       "      <td>31.1</td>\n",
       "      <td>35.5</td>\n",
       "      <td>27.2</td>\n",
       "    </tr>\n",
       "    <tr>\n",
       "      <td>22</td>\n",
       "      <td>27.0</td>\n",
       "      <td>30.1</td>\n",
       "      <td>23.0</td>\n",
       "    </tr>\n",
       "    <tr>\n",
       "      <td>23</td>\n",
       "      <td>25.1</td>\n",
       "      <td>28.3</td>\n",
       "      <td>22.5</td>\n",
       "    </tr>\n",
       "    <tr>\n",
       "      <td>24</td>\n",
       "      <td>26.0</td>\n",
       "      <td>30.2</td>\n",
       "      <td>22.8</td>\n",
       "    </tr>\n",
       "    <tr>\n",
       "      <td>25</td>\n",
       "      <td>26.5</td>\n",
       "      <td>30.3</td>\n",
       "      <td>24.3</td>\n",
       "    </tr>\n",
       "    <tr>\n",
       "      <td>26</td>\n",
       "      <td>28.9</td>\n",
       "      <td>33.9</td>\n",
       "      <td>24.0</td>\n",
       "    </tr>\n",
       "    <tr>\n",
       "      <td>27</td>\n",
       "      <td>30.2</td>\n",
       "      <td>35.1</td>\n",
       "      <td>25.2</td>\n",
       "    </tr>\n",
       "    <tr>\n",
       "      <td>28</td>\n",
       "      <td>30.1</td>\n",
       "      <td>34.7</td>\n",
       "      <td>26.2</td>\n",
       "    </tr>\n",
       "    <tr>\n",
       "      <td>29</td>\n",
       "      <td>31.0</td>\n",
       "      <td>35.3</td>\n",
       "      <td>27.3</td>\n",
       "    </tr>\n",
       "    <tr>\n",
       "      <td>30</td>\n",
       "      <td>30.7</td>\n",
       "      <td>34.9</td>\n",
       "      <td>26.3</td>\n",
       "    </tr>\n",
       "  </tbody>\n",
       "</table>\n",
       "</div>"
      ],
      "text/plain": [
       "           氣溫(℃) 最高氣溫(℃) 最低氣溫(℃)\n",
       "觀測時間(day)                       \n",
       "1          26.5    33.4    23.4 \n",
       "2          28.0    35.0    24.2 \n",
       "3          29.7    37.0    25.6 \n",
       "4          27.5    33.9    24.1 \n",
       "5          24.4    26.6    21.2 \n",
       "6          23.2    24.5    21.6 \n",
       "7          26.0    30.1    23.2 \n",
       "8          28.4    34.2    24.4 \n",
       "9          28.6    33.1    25.1 \n",
       "10         29.1    35.3    25.1 \n",
       "11         29.5    34.3    25.2 \n",
       "12         29.4    35.9    26.3 \n",
       "13         29.3    34.2    26.0 \n",
       "14         30.8    35.7    26.3 \n",
       "15         31.1    34.5    27.9 \n",
       "16         31.7    35.8    28.0 \n",
       "17         32.1    36.4    27.5 \n",
       "18         32.4    36.8    28.8 \n",
       "19         32.5    36.7    28.1 \n",
       "20         31.8    36.1    27.0 \n",
       "21         31.1    35.5    27.2 \n",
       "22         27.0    30.1    23.0 \n",
       "23         25.1    28.3    22.5 \n",
       "24         26.0    30.2    22.8 \n",
       "25         26.5    30.3    24.3 \n",
       "26         28.9    33.9    24.0 \n",
       "27         30.2    35.1    25.2 \n",
       "28         30.1    34.7    26.2 \n",
       "29         31.0    35.3    27.3 \n",
       "30         30.7    34.9    26.3 "
      ]
     },
     "execution_count": 59,
     "metadata": {},
     "output_type": "execute_result"
    }
   ],
   "source": [
    "#建立資料框架，以觀測時間作(day)為第一個欄位\n",
    "weather_index = pd.read_csv(\"weather1.csv\", header=0, parse_dates=[\"觀測時間(day)\"], index_col=0)\n",
    "\n",
    "#讀取\"氣溫(℃)\", \"最高氣溫(℃)\", \"最低氣溫(℃)\"數值資料\n",
    "tmp_day = weather_index[[\"氣溫(℃)\", \"最高氣溫(℃)\", \"最低氣溫(℃)\"]]\n",
    "tmp_day"
   ]
  },
  {
   "cell_type": "code",
   "execution_count": 60,
   "metadata": {},
   "outputs": [
    {
     "ename": "DataError",
     "evalue": "No numeric types to aggregate",
     "output_type": "error",
     "traceback": [
      "\u001b[1;31m---------------------------------------------------------------------------\u001b[0m",
      "\u001b[1;31mDataError\u001b[0m                                 Traceback (most recent call last)",
      "\u001b[1;32m<ipython-input-60-dc17286ca346>\u001b[0m in \u001b[0;36m<module>\u001b[1;34m\u001b[0m\n\u001b[1;32m----> 1\u001b[1;33m \u001b[0max\u001b[0m \u001b[1;33m=\u001b[0m \u001b[0msns\u001b[0m\u001b[1;33m.\u001b[0m\u001b[0mlineplot\u001b[0m\u001b[1;33m(\u001b[0m\u001b[0mdata\u001b[0m\u001b[1;33m=\u001b[0m\u001b[0mtmp_day\u001b[0m\u001b[1;33m)\u001b[0m\u001b[1;33m\u001b[0m\u001b[1;33m\u001b[0m\u001b[0m\n\u001b[0m\u001b[0;32m      2\u001b[0m \u001b[1;33m\u001b[0m\u001b[0m\n\u001b[0;32m      3\u001b[0m \u001b[0mplt\u001b[0m\u001b[1;33m.\u001b[0m\u001b[0mxticks\u001b[0m\u001b[1;33m(\u001b[0m\u001b[0mrotation\u001b[0m\u001b[1;33m=\u001b[0m\u001b[1;36m90\u001b[0m\u001b[1;33m)\u001b[0m\u001b[1;33m\u001b[0m\u001b[1;33m\u001b[0m\u001b[0m\n\u001b[0;32m      4\u001b[0m \u001b[0max\u001b[0m\u001b[1;33m.\u001b[0m\u001b[0mlegend\u001b[0m\u001b[1;33m(\u001b[0m\u001b[0mloc\u001b[0m\u001b[1;33m=\u001b[0m\u001b[1;34m\"lower left\"\u001b[0m\u001b[1;33m,\u001b[0m \u001b[0mbbox_to_anchor\u001b[0m\u001b[1;33m=\u001b[0m\u001b[1;33m(\u001b[0m\u001b[1;36m1\u001b[0m\u001b[1;33m,\u001b[0m\u001b[1;36m0\u001b[0m\u001b[1;33m)\u001b[0m\u001b[1;33m)\u001b[0m\u001b[1;33m\u001b[0m\u001b[1;33m\u001b[0m\u001b[0m\n",
      "\u001b[1;32m~\\Anaconda3\\lib\\site-packages\\seaborn\\relational.py\u001b[0m in \u001b[0;36mlineplot\u001b[1;34m(x, y, hue, size, style, data, palette, hue_order, hue_norm, sizes, size_order, size_norm, dashes, markers, style_order, units, estimator, ci, n_boot, sort, err_style, err_kws, legend, ax, **kwargs)\u001b[0m\n\u001b[0;32m   1082\u001b[0m         \u001b[0max\u001b[0m \u001b[1;33m=\u001b[0m \u001b[0mplt\u001b[0m\u001b[1;33m.\u001b[0m\u001b[0mgca\u001b[0m\u001b[1;33m(\u001b[0m\u001b[1;33m)\u001b[0m\u001b[1;33m\u001b[0m\u001b[1;33m\u001b[0m\u001b[0m\n\u001b[0;32m   1083\u001b[0m \u001b[1;33m\u001b[0m\u001b[0m\n\u001b[1;32m-> 1084\u001b[1;33m     \u001b[0mp\u001b[0m\u001b[1;33m.\u001b[0m\u001b[0mplot\u001b[0m\u001b[1;33m(\u001b[0m\u001b[0max\u001b[0m\u001b[1;33m,\u001b[0m \u001b[0mkwargs\u001b[0m\u001b[1;33m)\u001b[0m\u001b[1;33m\u001b[0m\u001b[1;33m\u001b[0m\u001b[0m\n\u001b[0m\u001b[0;32m   1085\u001b[0m \u001b[1;33m\u001b[0m\u001b[0m\n\u001b[0;32m   1086\u001b[0m     \u001b[1;32mreturn\u001b[0m \u001b[0max\u001b[0m\u001b[1;33m\u001b[0m\u001b[1;33m\u001b[0m\u001b[0m\n",
      "\u001b[1;32m~\\Anaconda3\\lib\\site-packages\\seaborn\\relational.py\u001b[0m in \u001b[0;36mplot\u001b[1;34m(self, ax, kws)\u001b[0m\n\u001b[0;32m    773\u001b[0m                     \u001b[0merr\u001b[0m \u001b[1;33m=\u001b[0m \u001b[1;34m\"estimator must be None when specifying units\"\u001b[0m\u001b[1;33m\u001b[0m\u001b[1;33m\u001b[0m\u001b[0m\n\u001b[0;32m    774\u001b[0m                     \u001b[1;32mraise\u001b[0m \u001b[0mValueError\u001b[0m\u001b[1;33m(\u001b[0m\u001b[0merr\u001b[0m\u001b[1;33m)\u001b[0m\u001b[1;33m\u001b[0m\u001b[1;33m\u001b[0m\u001b[0m\n\u001b[1;32m--> 775\u001b[1;33m                 \u001b[0mx\u001b[0m\u001b[1;33m,\u001b[0m \u001b[0my\u001b[0m\u001b[1;33m,\u001b[0m \u001b[0my_ci\u001b[0m \u001b[1;33m=\u001b[0m \u001b[0mself\u001b[0m\u001b[1;33m.\u001b[0m\u001b[0maggregate\u001b[0m\u001b[1;33m(\u001b[0m\u001b[0my\u001b[0m\u001b[1;33m,\u001b[0m \u001b[0mx\u001b[0m\u001b[1;33m,\u001b[0m \u001b[0munits\u001b[0m\u001b[1;33m)\u001b[0m\u001b[1;33m\u001b[0m\u001b[1;33m\u001b[0m\u001b[0m\n\u001b[0m\u001b[0;32m    776\u001b[0m             \u001b[1;32melse\u001b[0m\u001b[1;33m:\u001b[0m\u001b[1;33m\u001b[0m\u001b[1;33m\u001b[0m\u001b[0m\n\u001b[0;32m    777\u001b[0m                 \u001b[0my_ci\u001b[0m \u001b[1;33m=\u001b[0m \u001b[1;32mNone\u001b[0m\u001b[1;33m\u001b[0m\u001b[1;33m\u001b[0m\u001b[0m\n",
      "\u001b[1;32m~\\Anaconda3\\lib\\site-packages\\seaborn\\relational.py\u001b[0m in \u001b[0;36maggregate\u001b[1;34m(self, vals, grouper, units)\u001b[0m\n\u001b[0;32m    703\u001b[0m         \u001b[1;31m# Group and get the aggregation estimate\u001b[0m\u001b[1;33m\u001b[0m\u001b[1;33m\u001b[0m\u001b[1;33m\u001b[0m\u001b[0m\n\u001b[0;32m    704\u001b[0m         \u001b[0mgrouped\u001b[0m \u001b[1;33m=\u001b[0m \u001b[0mvals\u001b[0m\u001b[1;33m.\u001b[0m\u001b[0mgroupby\u001b[0m\u001b[1;33m(\u001b[0m\u001b[0mgrouper\u001b[0m\u001b[1;33m,\u001b[0m \u001b[0msort\u001b[0m\u001b[1;33m=\u001b[0m\u001b[0mself\u001b[0m\u001b[1;33m.\u001b[0m\u001b[0msort\u001b[0m\u001b[1;33m)\u001b[0m\u001b[1;33m\u001b[0m\u001b[1;33m\u001b[0m\u001b[0m\n\u001b[1;32m--> 705\u001b[1;33m         \u001b[0mest\u001b[0m \u001b[1;33m=\u001b[0m \u001b[0mgrouped\u001b[0m\u001b[1;33m.\u001b[0m\u001b[0magg\u001b[0m\u001b[1;33m(\u001b[0m\u001b[0mfunc\u001b[0m\u001b[1;33m)\u001b[0m\u001b[1;33m\u001b[0m\u001b[1;33m\u001b[0m\u001b[0m\n\u001b[0m\u001b[0;32m    706\u001b[0m \u001b[1;33m\u001b[0m\u001b[0m\n\u001b[0;32m    707\u001b[0m         \u001b[1;31m# Exit early if we don't want a confidence interval\u001b[0m\u001b[1;33m\u001b[0m\u001b[1;33m\u001b[0m\u001b[1;33m\u001b[0m\u001b[0m\n",
      "\u001b[1;32m~\\Anaconda3\\lib\\site-packages\\pandas\\core\\groupby\\generic.py\u001b[0m in \u001b[0;36maggregate\u001b[1;34m(self, func_or_funcs, *args, **kwargs)\u001b[0m\n\u001b[0;32m    843\u001b[0m \u001b[1;33m\u001b[0m\u001b[0m\n\u001b[0;32m    844\u001b[0m         \u001b[1;32mif\u001b[0m \u001b[0misinstance\u001b[0m\u001b[1;33m(\u001b[0m\u001b[0mfunc_or_funcs\u001b[0m\u001b[1;33m,\u001b[0m \u001b[0mstr\u001b[0m\u001b[1;33m)\u001b[0m\u001b[1;33m:\u001b[0m\u001b[1;33m\u001b[0m\u001b[1;33m\u001b[0m\u001b[0m\n\u001b[1;32m--> 845\u001b[1;33m             \u001b[1;32mreturn\u001b[0m \u001b[0mgetattr\u001b[0m\u001b[1;33m(\u001b[0m\u001b[0mself\u001b[0m\u001b[1;33m,\u001b[0m \u001b[0mfunc_or_funcs\u001b[0m\u001b[1;33m)\u001b[0m\u001b[1;33m(\u001b[0m\u001b[1;33m*\u001b[0m\u001b[0margs\u001b[0m\u001b[1;33m,\u001b[0m \u001b[1;33m**\u001b[0m\u001b[0mkwargs\u001b[0m\u001b[1;33m)\u001b[0m\u001b[1;33m\u001b[0m\u001b[1;33m\u001b[0m\u001b[0m\n\u001b[0m\u001b[0;32m    846\u001b[0m \u001b[1;33m\u001b[0m\u001b[0m\n\u001b[0;32m    847\u001b[0m         \u001b[1;32mif\u001b[0m \u001b[0misinstance\u001b[0m\u001b[1;33m(\u001b[0m\u001b[0mfunc_or_funcs\u001b[0m\u001b[1;33m,\u001b[0m \u001b[0mabc\u001b[0m\u001b[1;33m.\u001b[0m\u001b[0mIterable\u001b[0m\u001b[1;33m)\u001b[0m\u001b[1;33m:\u001b[0m\u001b[1;33m\u001b[0m\u001b[1;33m\u001b[0m\u001b[0m\n",
      "\u001b[1;32m~\\Anaconda3\\lib\\site-packages\\pandas\\core\\groupby\\groupby.py\u001b[0m in \u001b[0;36mmean\u001b[1;34m(self, *args, **kwargs)\u001b[0m\n\u001b[0;32m   1203\u001b[0m         \u001b[1;32mtry\u001b[0m\u001b[1;33m:\u001b[0m\u001b[1;33m\u001b[0m\u001b[1;33m\u001b[0m\u001b[0m\n\u001b[0;32m   1204\u001b[0m             return self._cython_agg_general(\n\u001b[1;32m-> 1205\u001b[1;33m                 \u001b[1;34m\"mean\"\u001b[0m\u001b[1;33m,\u001b[0m \u001b[0malt\u001b[0m\u001b[1;33m=\u001b[0m\u001b[1;32mlambda\u001b[0m \u001b[0mx\u001b[0m\u001b[1;33m,\u001b[0m \u001b[0maxis\u001b[0m\u001b[1;33m:\u001b[0m \u001b[0mSeries\u001b[0m\u001b[1;33m(\u001b[0m\u001b[0mx\u001b[0m\u001b[1;33m)\u001b[0m\u001b[1;33m.\u001b[0m\u001b[0mmean\u001b[0m\u001b[1;33m(\u001b[0m\u001b[1;33m**\u001b[0m\u001b[0mkwargs\u001b[0m\u001b[1;33m)\u001b[0m\u001b[1;33m,\u001b[0m \u001b[1;33m**\u001b[0m\u001b[0mkwargs\u001b[0m\u001b[1;33m\u001b[0m\u001b[1;33m\u001b[0m\u001b[0m\n\u001b[0m\u001b[0;32m   1206\u001b[0m             )\n\u001b[0;32m   1207\u001b[0m         \u001b[1;32mexcept\u001b[0m \u001b[0mGroupByError\u001b[0m\u001b[1;33m:\u001b[0m\u001b[1;33m\u001b[0m\u001b[1;33m\u001b[0m\u001b[0m\n",
      "\u001b[1;32m~\\Anaconda3\\lib\\site-packages\\pandas\\core\\groupby\\groupby.py\u001b[0m in \u001b[0;36m_cython_agg_general\u001b[1;34m(self, how, alt, numeric_only, min_count)\u001b[0m\n\u001b[0;32m    886\u001b[0m \u001b[1;33m\u001b[0m\u001b[0m\n\u001b[0;32m    887\u001b[0m         \u001b[1;32mif\u001b[0m \u001b[0mlen\u001b[0m\u001b[1;33m(\u001b[0m\u001b[0moutput\u001b[0m\u001b[1;33m)\u001b[0m \u001b[1;33m==\u001b[0m \u001b[1;36m0\u001b[0m\u001b[1;33m:\u001b[0m\u001b[1;33m\u001b[0m\u001b[1;33m\u001b[0m\u001b[0m\n\u001b[1;32m--> 888\u001b[1;33m             \u001b[1;32mraise\u001b[0m \u001b[0mDataError\u001b[0m\u001b[1;33m(\u001b[0m\u001b[1;34m\"No numeric types to aggregate\"\u001b[0m\u001b[1;33m)\u001b[0m\u001b[1;33m\u001b[0m\u001b[1;33m\u001b[0m\u001b[0m\n\u001b[0m\u001b[0;32m    889\u001b[0m \u001b[1;33m\u001b[0m\u001b[0m\n\u001b[0;32m    890\u001b[0m         \u001b[1;32mreturn\u001b[0m \u001b[0mself\u001b[0m\u001b[1;33m.\u001b[0m\u001b[0m_wrap_aggregated_output\u001b[0m\u001b[1;33m(\u001b[0m\u001b[0moutput\u001b[0m\u001b[1;33m,\u001b[0m \u001b[0mnames\u001b[0m\u001b[1;33m)\u001b[0m\u001b[1;33m\u001b[0m\u001b[1;33m\u001b[0m\u001b[0m\n",
      "\u001b[1;31mDataError\u001b[0m: No numeric types to aggregate"
     ]
    },
    {
     "data": {
      "image/png": "[encoded data removed]",
      "text/plain": [
       "<Figure size 432x288 with 1 Axes>"
      ]
     },
     "metadata": {
      "needs_background": "light"
     },
     "output_type": "display_data"
    }
   ],
   "source": [
    "ax = sns.lineplot(data=tmp_day)\n",
    "\n",
    "plt.xticks(rotation=90)\n",
    "ax.legend(loc=\"lower left\", bbox_to_anchor=(1,0))"
   ]
  },
  {
   "cell_type": "code",
   "execution_count": 61,
   "metadata": {},
   "outputs": [
    {
     "data": {
      "text/plain": [
       "氣溫(℃)      object\n",
       "最高氣溫(℃)    object\n",
       "最低氣溫(℃)    object\n",
       "dtype: object"
      ]
     },
     "execution_count": 61,
     "metadata": {},
     "output_type": "execute_result"
    }
   ],
   "source": [
    "tmp_day.dtypes"
   ]
  },
  {
   "cell_type": "code",
   "execution_count": 62,
   "metadata": {},
   "outputs": [
    {
     "name": "stderr",
     "output_type": "stream",
     "text": [
      "C:\\Users\\Administrator\\Anaconda3\\lib\\site-packages\\ipykernel_launcher.py:2: SettingWithCopyWarning:\n",
      "\n",
      "\n",
      "A value is trying to be set on a copy of a slice from a DataFrame.\n",
      "Try using .loc[row_indexer,col_indexer] = value instead\n",
      "\n",
      "See the caveats in the documentation: http://pandas.pydata.org/pandas-docs/stable/user_guide/indexing.html#returning-a-view-versus-a-copy\n",
      "\n",
      "C:\\Users\\Administrator\\Anaconda3\\lib\\site-packages\\ipykernel_launcher.py:3: SettingWithCopyWarning:\n",
      "\n",
      "\n",
      "A value is trying to be set on a copy of a slice from a DataFrame.\n",
      "Try using .loc[row_indexer,col_indexer] = value instead\n",
      "\n",
      "See the caveats in the documentation: http://pandas.pydata.org/pandas-docs/stable/user_guide/indexing.html#returning-a-view-versus-a-copy\n",
      "\n",
      "C:\\Users\\Administrator\\Anaconda3\\lib\\site-packages\\ipykernel_launcher.py:4: SettingWithCopyWarning:\n",
      "\n",
      "\n",
      "A value is trying to be set on a copy of a slice from a DataFrame.\n",
      "Try using .loc[row_indexer,col_indexer] = value instead\n",
      "\n",
      "See the caveats in the documentation: http://pandas.pydata.org/pandas-docs/stable/user_guide/indexing.html#returning-a-view-versus-a-copy\n",
      "\n"
     ]
    },
    {
     "data": {
      "text/plain": [
       "<matplotlib.legend.Legend at 0x2ae091952c8>"
      ]
     },
     "execution_count": 62,
     "metadata": {},
     "output_type": "execute_result"
    },
    {
     "data": {
      "image/png": "[encoded data removed]",
      "text/plain": [
       "<Figure size 432x288 with 1 Axes>"
      ]
     },
     "metadata": {
      "needs_background": "light"
     },
     "output_type": "display_data"
    }
   ],
   "source": [
    "#將 object 轉型成 float\n",
    "tmp_day['氣溫(℃)'] = tmp_day['氣溫(℃)'].astype(\"float\")\n",
    "tmp_day['最高氣溫(℃)'] = tmp_day['最高氣溫(℃)'].astype(\"float\")\n",
    "tmp_day['最低氣溫(℃)'] = tmp_day['最低氣溫(℃)'].astype(\"float\")\n",
    "\n",
    "#繪製折線圖\n",
    "ax = sns.lineplot(data=tmp_day)\n",
    "\n",
    "plt.xticks(rotation=90)\n",
    "\n",
    "#指定圖例位置\n",
    "ax.legend(loc=\"lower left\", bbox_to_anchor=(1,0))"
   ]
  },
  {
   "cell_type": "code",
   "execution_count": 63,
   "metadata": {},
   "outputs": [
    {
     "name": "stdout",
     "output_type": "stream",
     "text": [
      "    觀測時間(day)     氣溫種類  溫度(℃)\n",
      "0           1    氣溫(℃)   26.5\n",
      "1           1  最高氣溫(℃)   33.4\n",
      "2           1  最低氣溫(℃)   23.4\n",
      "3           2    氣溫(℃)   28.0\n",
      "4           2  最高氣溫(℃)   35.0\n",
      "..        ...      ...    ...\n",
      "85         29  最高氣溫(℃)   35.3\n",
      "86         29  最低氣溫(℃)   27.3\n",
      "87         30    氣溫(℃)   30.7\n",
      "88         30  最高氣溫(℃)   34.9\n",
      "89         30  最低氣溫(℃)   26.3\n",
      "\n",
      "[90 rows x 3 columns]\n"
     ]
    }
   ],
   "source": [
    "#調整資料的格式\n",
    "tmp_stack = tmp_day.stack().rename_axis([\"觀測時間(day)\", \"氣溫種類\"]).reset_index().rename(columns={0:\"溫度(℃)\"})\n",
    "print(tmp_stack)"
   ]
  },
  {
   "cell_type": "code",
   "execution_count": 64,
   "metadata": {},
   "outputs": [
    {
     "data": {
      "text/plain": [
       "<matplotlib.legend.Legend at 0x2ae0bc00208>"
      ]
     },
     "execution_count": 64,
     "metadata": {},
     "output_type": "execute_result"
    },
    {
     "data": {
      "image/png": "[encoded data removed]",
      "text/plain": [
       "<Figure size 432x288 with 1 Axes>"
      ]
     },
     "metadata": {
      "needs_background": "light"
     },
     "output_type": "display_data"
    }
   ],
   "source": [
    "#繪製折線圖\n",
    "ax = sns.lineplot(data=tmp_stack, x=\"觀測時間(day)\", y=\"溫度(℃)\", hue=\"氣溫種類\", palette=\"pastel\")\n",
    "\n",
    "#適度調整標籤以及圖例\n",
    "plt.xticks(rotation=90)\n",
    "ax.legend(loc=\"lower left\", bbox_to_anchor=(1,0))"
   ]
  },
  {
   "cell_type": "code",
   "execution_count": 65,
   "metadata": {},
   "outputs": [
    {
     "name": "stdout",
     "output_type": "stream",
     "text": [
      "    觀測時間(day)     氣溫種類  溫度(℃)\n",
      "0           1    氣溫(℃)   26.5\n",
      "1           1  最高氣溫(℃)   33.4\n",
      "2           1  最低氣溫(℃)   23.4\n",
      "3           2    氣溫(℃)   28.0\n",
      "4           2  最高氣溫(℃)   35.0\n",
      "..        ...      ...    ...\n",
      "85         29  最高氣溫(℃)   35.3\n",
      "86         29  最低氣溫(℃)   27.3\n",
      "87         30    氣溫(℃)   30.7\n",
      "88         30  最高氣溫(℃)   34.9\n",
      "89         30  最低氣溫(℃)   26.3\n",
      "\n",
      "[90 rows x 3 columns]\n"
     ]
    },
    {
     "data": {
      "text/plain": [
       "<matplotlib.legend.Legend at 0x2ae0bb28388>"
      ]
     },
     "execution_count": 65,
     "metadata": {},
     "output_type": "execute_result"
    },
    {
     "data": {
      "image/png": "[encoded data removed]",
      "text/plain": [
       "<Figure size 432x288 with 1 Axes>"
      ]
     },
     "metadata": {
      "needs_background": "light"
     },
     "output_type": "display_data"
    }
   ],
   "source": [
    "tmp_stack = tmp_day.stack().rename_axis([\"觀測時間(day)\", \"氣溫種類\"]).reset_index().rename(columns={0:\"溫度(℃)\"})\n",
    "print(tmp_stack)\n",
    "\n",
    "#計算分類數量\n",
    "num_category = len(tmp_stack[\"氣溫種類\"].unique())\n",
    "\n",
    "#設定顏色\n",
    "point_color = \"#CC0000\"\n",
    "\n",
    "#要變更的分類編號(0, 1, 2)\n",
    "point_number = 0\n",
    "\n",
    "#建立原始的調色盤\n",
    "palette = sns.color_palette(\"binary\", num_category)\n",
    "\n",
    "#變更調色盤的部分顏色\n",
    "palette[point_number] = point_color\n",
    "\n",
    "#繪製折線圖\n",
    "ax = sns.lineplot(data=tmp_stack, x=\"觀測時間(day)\", y=\"溫度(℃)\", hue=\"氣溫種類\", palette=palette)\n",
    "#適度調整標籤以及圖例\n",
    "plt.xticks(rotation=90)\n",
    "ax.legend(loc=\"lower left\", bbox_to_anchor=(1,0))"
   ]
  },
  {
   "cell_type": "code",
   "execution_count": 66,
   "metadata": {
    "scrolled": false
   },
   "outputs": [
    {
     "name": "stdout",
     "output_type": "stream",
     "text": [
      "    觀測時間(day)     氣溫種類  溫度(℃)\n",
      "0           1    氣溫(℃)   26.5\n",
      "1           1  最高氣溫(℃)   33.4\n",
      "2           1  最低氣溫(℃)   23.4\n",
      "3           2    氣溫(℃)   28.0\n",
      "4           2  最高氣溫(℃)   35.0\n",
      "..        ...      ...    ...\n",
      "85         29  最高氣溫(℃)   35.3\n",
      "86         29  最低氣溫(℃)   27.3\n",
      "87         30    氣溫(℃)   30.7\n",
      "88         30  最高氣溫(℃)   34.9\n",
      "89         30  最低氣溫(℃)   26.3\n",
      "\n",
      "[90 rows x 3 columns]\n"
     ]
    },
    {
     "data": {
      "text/plain": [
       "<matplotlib.legend.Legend at 0x2ae0bc22cc8>"
      ]
     },
     "execution_count": 66,
     "metadata": {},
     "output_type": "execute_result"
    },
    {
     "data": {
      "image/png": "[encoded data removed]",
      "text/plain": [
       "<Figure size 432x288 with 1 Axes>"
      ]
     },
     "metadata": {
      "needs_background": "light"
     },
     "output_type": "display_data"
    }
   ],
   "source": [
    "tmp_stack = tmp_day.stack().rename_axis([\"觀測時間(day)\", \"氣溫種類\"]).reset_index().rename(columns={0:\"溫度(℃)\"})\n",
    "print(tmp_stack)\n",
    "\n",
    "num_category = len(tmp_stack[\"氣溫種類\"].unique())\n",
    "point_color = \"#CC0000\"\n",
    "\n",
    "point_number = 1\n",
    "palette = sns.color_palette(\"binary\", num_category)\n",
    "palette[point_number] = point_color\n",
    "\n",
    "ax = sns.lineplot(data=tmp_stack, x=\"觀測時間(day)\", y=\"溫度(℃)\", hue=\"氣溫種類\", palette=palette)\n",
    "plt.xticks(rotation=90)\n",
    "ax.legend(loc=\"lower left\", bbox_to_anchor=(1,0))"
   ]
  },
  {
   "cell_type": "code",
   "execution_count": 67,
   "metadata": {},
   "outputs": [
    {
     "data": {
      "application/vnd.plotly.v1+json": {
       "config": {
        "plotlyServerURL": "https://plot.ly"
       },
       "data": [
        {
         "mode": "lines",
         "name": "氣溫(℃)",
         "type": "scatter",
         "x": [
          1,
          2,
          3,
          4,
          5,
          6,
          7,
          8,
          9,
          10,
          11,
          12,
          13,
          14,
          15,
          16,
          17,
          18,
          19,
          20,
          21,
          22,
          23,
          24,
          25,
          26,
          27,
          28,
          29,
          30,
          31
         ],
         "y": [
          27.8,
          28.2,
          27.1,
          28.3,
          28.4,
          26.8,
          25.1,
          29.3,
          28.9,
          29,
          29,
          28.7,
          28.2,
          27.9,
          29.1,
          29.5,
          29.9,
          27.7,
          27.7,
          28.5,
          29.2,
          29.6,
          29.9,
          28.6,
          29,
          29.7,
          30.4,
          30.2,
          30.2,
          30.3,
          30.1
         ]
        },
        {
         "mode": "lines",
         "name": "最高氣溫(℃)",
         "type": "scatter",
         "x": [
          1,
          2,
          3,
          4,
          5,
          6,
          7,
          8,
          9,
          10,
          11,
          12,
          13,
          14,
          15,
          16,
          17,
          18,
          19,
          20,
          21,
          22,
          23,
          24,
          25,
          26,
          27,
          28,
          29,
          30,
          31
         ],
         "y": [
          30.8,
          32.9,
          30.5,
          32.6,
          33.6,
          28.3,
          25.9,
          35.2,
          34.3,
          33.6,
          34.6,
          35.9,
          36.1,
          33.2,
          32.2,
          34.8,
          35.3,
          31.9,
          34.4,
          34.3,
          35.2,
          34.8,
          34.6,
          35.3,
          35.1,
          34.9,
          36.9,
          35,
          34.4,
          34.7,
          34
         ]
        },
        {
         "mode": "lines",
         "name": "最低氣溫(℃)",
         "type": "scatter",
         "x": [
          1,
          2,
          3,
          4,
          5,
          6,
          7,
          8,
          9,
          10,
          11,
          12,
          13,
          14,
          15,
          16,
          17,
          18,
          19,
          20,
          21,
          22,
          23,
          24,
          25,
          26,
          27,
          28,
          29,
          30,
          31
         ],
         "y": [
          25.6,
          25.9,
          25.6,
          25.6,
          25.9,
          25.1,
          24.3,
          24.8,
          26.9,
          26,
          26.1,
          25.6,
          25.6,
          25.3,
          26.2,
          26.3,
          26.6,
          25.5,
          23.2,
          24.3,
          25.2,
          26,
          26.7,
          26.1,
          25.8,
          25.6,
          26.7,
          26.8,
          27.6,
          28,
          27.9
         ]
        }
       ],
       "layout": {
        "template": {
         "data": {
          "bar": [
           {
            "error_x": {
             "color": "#2a3f5f"
            },
            "error_y": {
             "color": "#2a3f5f"
            },
            "marker": {
             "line": {
              "color": "#E5ECF6",
              "width": 0.5
             },
             "pattern": {
              "fillmode": "overlay",
              "size": 10,
              "solidity": 0.2
             }
            },
            "type": "bar"
           }
          ],
          "barpolar": [
           {
            "marker": {
             "line": {
              "color": "#E5ECF6",
              "width": 0.5
             },
             "pattern": {
              "fillmode": "overlay",
              "size": 10,
              "solidity": 0.2
             }
            },
            "type": "barpolar"
           }
          ],
          "carpet": [
           {
            "aaxis": {
             "endlinecolor": "#2a3f5f",
             "gridcolor": "white",
             "linecolor": "white",
             "minorgridcolor": "white",
             "startlinecolor": "#2a3f5f"
            },
            "baxis": {
             "endlinecolor": "#2a3f5f",
             "gridcolor": "white",
             "linecolor": "white",
             "minorgridcolor": "white",
             "startlinecolor": "#2a3f5f"
            },
            "type": "carpet"
           }
          ],
          "choropleth": [
           {
            "colorbar": {
             "outlinewidth": 0,
             "ticks": ""
            },
            "type": "choropleth"
           }
          ],
          "contour": [
           {
            "colorbar": {
             "outlinewidth": 0,
             "ticks": ""
            },
            "colorscale": [
             [
              0,
              "#0d0887"
             ],
             [
              0.1111111111111111,
              "#46039f"
             ],
             [
              0.2222222222222222,
              "#7201a8"
             ],
             [
              0.3333333333333333,
              "#9c179e"
             ],
             [
              0.4444444444444444,
              "#bd3786"
             ],
             [
              0.5555555555555556,
              "#d8576b"
             ],
             [
              0.6666666666666666,
              "#ed7953"
             ],
             [
              0.7777777777777778,
              "#fb9f3a"
             ],
             [
              0.8888888888888888,
              "#fdca26"
             ],
             [
              1,
              "#f0f921"
             ]
            ],
            "type": "contour"
           }
          ],
          "contourcarpet": [
           {
            "colorbar": {
             "outlinewidth": 0,
             "ticks": ""
            },
            "type": "contourcarpet"
           }
          ],
          "heatmap": [
           {
            "colorbar": {
             "outlinewidth": 0,
             "ticks": ""
            },
            "colorscale": [
             [
              0,
              "#0d0887"
             ],
             [
              0.1111111111111111,
              "#46039f"
             ],
             [
              0.2222222222222222,
              "#7201a8"
             ],
             [
              0.3333333333333333,
              "#9c179e"
             ],
             [
              0.4444444444444444,
              "#bd3786"
             ],
             [
              0.5555555555555556,
              "#d8576b"
             ],
             [
              0.6666666666666666,
              "#ed7953"
             ],
             [
              0.7777777777777778,
              "#fb9f3a"
             ],
             [
              0.8888888888888888,
              "#fdca26"
             ],
             [
              1,
              "#f0f921"
             ]
            ],
            "type": "heatmap"
           }
          ],
          "heatmapgl": [
           {
            "colorbar": {
             "outlinewidth": 0,
             "ticks": ""
            },
            "colorscale": [
             [
              0,
              "#0d0887"
             ],
             [
              0.1111111111111111,
              "#46039f"
             ],
             [
              0.2222222222222222,
              "#7201a8"
             ],
             [
              0.3333333333333333,
              "#9c179e"
             ],
             [
              0.4444444444444444,
              "#bd3786"
             ],
             [
              0.5555555555555556,
              "#d8576b"
             ],
             [
              0.6666666666666666,
              "#ed7953"
             ],
             [
              0.7777777777777778,
              "#fb9f3a"
             ],
             [
              0.8888888888888888,
              "#fdca26"
             ],
             [
              1,
              "#f0f921"
             ]
            ],
            "type": "heatmapgl"
           }
          ],
          "histogram": [
           {
            "marker": {
             "pattern": {
              "fillmode": "overlay",
              "size": 10,
              "solidity": 0.2
             }
            },
            "type": "histogram"
           }
          ],
          "histogram2d": [
           {
            "colorbar": {
             "outlinewidth": 0,
             "ticks": ""
            },
            "colorscale": [
             [
              0,
              "#0d0887"
             ],
             [
              0.1111111111111111,
              "#46039f"
             ],
             [
              0.2222222222222222,
              "#7201a8"
             ],
             [
              0.3333333333333333,
              "#9c179e"
             ],
             [
              0.4444444444444444,
              "#bd3786"
             ],
             [
              0.5555555555555556,
              "#d8576b"
             ],
             [
              0.6666666666666666,
              "#ed7953"
             ],
             [
              0.7777777777777778,
              "#fb9f3a"
             ],
             [
              0.8888888888888888,
              "#fdca26"
             ],
             [
              1,
              "#f0f921"
             ]
            ],
            "type": "histogram2d"
           }
          ],
          "histogram2dcontour": [
           {
            "colorbar": {
             "outlinewidth": 0,
             "ticks": ""
            },
            "colorscale": [
             [
              0,
              "#0d0887"
             ],
             [
              0.1111111111111111,
              "#46039f"
             ],
             [
              0.2222222222222222,
              "#7201a8"
             ],
             [
              0.3333333333333333,
              "#9c179e"
             ],
             [
              0.4444444444444444,
              "#bd3786"
             ],
             [
              0.5555555555555556,
              "#d8576b"
             ],
             [
              0.6666666666666666,
              "#ed7953"
             ],
             [
              0.7777777777777778,
              "#fb9f3a"
             ],
             [
              0.8888888888888888,
              "#fdca26"
             ],
             [
              1,
              "#f0f921"
             ]
            ],
            "type": "histogram2dcontour"
           }
          ],
          "mesh3d": [
           {
            "colorbar": {
             "outlinewidth": 0,
             "ticks": ""
            },
            "type": "mesh3d"
           }
          ],
          "parcoords": [
           {
            "line": {
             "colorbar": {
              "outlinewidth": 0,
              "ticks": ""
             }
            },
            "type": "parcoords"
           }
          ],
          "pie": [
           {
            "automargin": true,
            "type": "pie"
           }
          ],
          "scatter": [
           {
            "marker": {
             "colorbar": {
              "outlinewidth": 0,
              "ticks": ""
             }
            },
            "type": "scatter"
           }
          ],
          "scatter3d": [
           {
            "line": {
             "colorbar": {
              "outlinewidth": 0,
              "ticks": ""
             }
            },
            "marker": {
             "colorbar": {
              "outlinewidth": 0,
              "ticks": ""
             }
            },
            "type": "scatter3d"
           }
          ],
          "scattercarpet": [
           {
            "marker": {
             "colorbar": {
              "outlinewidth": 0,
              "ticks": ""
             }
            },
            "type": "scattercarpet"
           }
          ],
          "scattergeo": [
           {
            "marker": {
             "colorbar": {
              "outlinewidth": 0,
              "ticks": ""
             }
            },
            "type": "scattergeo"
           }
          ],
          "scattergl": [
           {
            "marker": {
             "colorbar": {
              "outlinewidth": 0,
              "ticks": ""
             }
            },
            "type": "scattergl"
           }
          ],
          "scattermapbox": [
           {
            "marker": {
             "colorbar": {
              "outlinewidth": 0,
              "ticks": ""
             }
            },
            "type": "scattermapbox"
           }
          ],
          "scatterpolar": [
           {
            "marker": {
             "colorbar": {
              "outlinewidth": 0,
              "ticks": ""
             }
            },
            "type": "scatterpolar"
           }
          ],
          "scatterpolargl": [
           {
            "marker": {
             "colorbar": {
              "outlinewidth": 0,
              "ticks": ""
             }
            },
            "type": "scatterpolargl"
           }
          ],
          "scatterternary": [
           {
            "marker": {
             "colorbar": {
              "outlinewidth": 0,
              "ticks": ""
             }
            },
            "type": "scatterternary"
           }
          ],
          "surface": [
           {
            "colorbar": {
             "outlinewidth": 0,
             "ticks": ""
            },
            "colorscale": [
             [
              0,
              "#0d0887"
             ],
             [
              0.1111111111111111,
              "#46039f"
             ],
             [
              0.2222222222222222,
              "#7201a8"
             ],
             [
              0.3333333333333333,
              "#9c179e"
             ],
             [
              0.4444444444444444,
              "#bd3786"
             ],
             [
              0.5555555555555556,
              "#d8576b"
             ],
             [
              0.6666666666666666,
              "#ed7953"
             ],
             [
              0.7777777777777778,
              "#fb9f3a"
             ],
             [
              0.8888888888888888,
              "#fdca26"
             ],
             [
              1,
              "#f0f921"
             ]
            ],
            "type": "surface"
           }
          ],
          "table": [
           {
            "cells": {
             "fill": {
              "color": "#EBF0F8"
             },
             "line": {
              "color": "white"
             }
            },
            "header": {
             "fill": {
              "color": "#C8D4E3"
             },
             "line": {
              "color": "white"
             }
            },
            "type": "table"
           }
          ]
         },
         "layout": {
          "annotationdefaults": {
           "arrowcolor": "#2a3f5f",
           "arrowhead": 0,
           "arrowwidth": 1
          },
          "autotypenumbers": "strict",
          "coloraxis": {
           "colorbar": {
            "outlinewidth": 0,
            "ticks": ""
           }
          },
          "colorscale": {
           "diverging": [
            [
             0,
             "#8e0152"
            ],
            [
             0.1,
             "#c51b7d"
            ],
            [
             0.2,
             "#de77ae"
            ],
            [
             0.3,
             "#f1b6da"
            ],
            [
             0.4,
             "#fde0ef"
            ],
            [
             0.5,
             "#f7f7f7"
            ],
            [
             0.6,
             "#e6f5d0"
            ],
            [
             0.7,
             "#b8e186"
            ],
            [
             0.8,
             "#7fbc41"
            ],
            [
             0.9,
             "#4d9221"
            ],
            [
             1,
             "#276419"
            ]
           ],
           "sequential": [
            [
             0,
             "#0d0887"
            ],
            [
             0.1111111111111111,
             "#46039f"
            ],
            [
             0.2222222222222222,
             "#7201a8"
            ],
            [
             0.3333333333333333,
             "#9c179e"
            ],
            [
             0.4444444444444444,
             "#bd3786"
            ],
            [
             0.5555555555555556,
             "#d8576b"
            ],
            [
             0.6666666666666666,
             "#ed7953"
            ],
            [
             0.7777777777777778,
             "#fb9f3a"
            ],
            [
             0.8888888888888888,
             "#fdca26"
            ],
            [
             1,
             "#f0f921"
            ]
           ],
           "sequentialminus": [
            [
             0,
             "#0d0887"
            ],
            [
             0.1111111111111111,
             "#46039f"
            ],
            [
             0.2222222222222222,
             "#7201a8"
            ],
            [
             0.3333333333333333,
             "#9c179e"
            ],
            [
             0.4444444444444444,
             "#bd3786"
            ],
            [
             0.5555555555555556,
             "#d8576b"
            ],
            [
             0.6666666666666666,
             "#ed7953"
            ],
            [
             0.7777777777777778,
             "#fb9f3a"
            ],
            [
             0.8888888888888888,
             "#fdca26"
            ],
            [
             1,
             "#f0f921"
            ]
           ]
          },
          "colorway": [
           "#636efa",
           "#EF553B",
           "#00cc96",
           "#ab63fa",
           "#FFA15A",
           "#19d3f3",
           "#FF6692",
           "#B6E880",
           "#FF97FF",
           "#FECB52"
          ],
          "font": {
           "color": "#2a3f5f"
          },
          "geo": {
           "bgcolor": "white",
           "lakecolor": "white",
           "landcolor": "#E5ECF6",
           "showlakes": true,
           "showland": true,
           "subunitcolor": "white"
          },
          "hoverlabel": {
           "align": "left"
          },
          "hovermode": "closest",
          "mapbox": {
           "style": "light"
          },
          "paper_bgcolor": "white",
          "plot_bgcolor": "#E5ECF6",
          "polar": {
           "angularaxis": {
            "gridcolor": "white",
            "linecolor": "white",
            "ticks": ""
           },
           "bgcolor": "#E5ECF6",
           "radialaxis": {
            "gridcolor": "white",
            "linecolor": "white",
            "ticks": ""
           }
          },
          "scene": {
           "xaxis": {
            "backgroundcolor": "#E5ECF6",
            "gridcolor": "white",
            "gridwidth": 2,
            "linecolor": "white",
            "showbackground": true,
            "ticks": "",
            "zerolinecolor": "white"
           },
           "yaxis": {
            "backgroundcolor": "#E5ECF6",
            "gridcolor": "white",
            "gridwidth": 2,
            "linecolor": "white",
            "showbackground": true,
            "ticks": "",
            "zerolinecolor": "white"
           },
           "zaxis": {
            "backgroundcolor": "#E5ECF6",
            "gridcolor": "white",
            "gridwidth": 2,
            "linecolor": "white",
            "showbackground": true,
            "ticks": "",
            "zerolinecolor": "white"
           }
          },
          "shapedefaults": {
           "line": {
            "color": "#2a3f5f"
           }
          },
          "ternary": {
           "aaxis": {
            "gridcolor": "white",
            "linecolor": "white",
            "ticks": ""
           },
           "baxis": {
            "gridcolor": "white",
            "linecolor": "white",
            "ticks": ""
           },
           "bgcolor": "#E5ECF6",
           "caxis": {
            "gridcolor": "white",
            "linecolor": "white",
            "ticks": ""
           }
          },
          "title": {
           "x": 0.05
          },
          "xaxis": {
           "automargin": true,
           "gridcolor": "white",
           "linecolor": "white",
           "ticks": "",
           "title": {
            "standoff": 15
           },
           "zerolinecolor": "white",
           "zerolinewidth": 2
          },
          "yaxis": {
           "automargin": true,
           "gridcolor": "white",
           "linecolor": "white",
           "ticks": "",
           "title": {
            "standoff": 15
           },
           "zerolinecolor": "white",
           "zerolinewidth": 2
          }
         }
        },
        "xaxis": {
         "title": {
          "text": "觀測時間(day)"
         }
        },
        "yaxis": {
         "title": {
          "text": "溫度(℃)"
         }
        }
       }
      },
      "text/html": [
       "<div>                            <div id=\"de219088-e72b-4bca-96e3-39a5cc16b1bc\" class=\"plotly-graph-div\" style=\"height:525px; width:100%;\"></div>            <script type=\"text/javascript\">                require([\"plotly\"], function(Plotly) {                    window.PLOTLYENV=window.PLOTLYENV || {};                                    if (document.getElementById(\"de219088-e72b-4bca-96e3-39a5cc16b1bc\")) {                    Plotly.newPlot(                        \"de219088-e72b-4bca-96e3-39a5cc16b1bc\",                        [{\"mode\":\"lines\",\"name\":\"\\u6c23\\u6eab(\\u2103)\",\"type\":\"scatter\",\"x\":[1,2,3,4,5,6,7,8,9,10,11,12,13,14,15,16,17,18,19,20,21,22,23,24,25,26,27,28,29,30,31],\"y\":[27.8,28.2,27.1,28.3,28.4,26.8,25.1,29.3,28.9,29.0,29.0,28.7,28.2,27.9,29.1,29.5,29.9,27.7,27.7,28.5,29.2,29.6,29.9,28.6,29.0,29.7,30.4,30.2,30.2,30.3,30.1]},{\"mode\":\"lines\",\"name\":\"\\u6700\\u9ad8\\u6c23\\u6eab(\\u2103)\",\"type\":\"scatter\",\"x\":[1,2,3,4,5,6,7,8,9,10,11,12,13,14,15,16,17,18,19,20,21,22,23,24,25,26,27,28,29,30,31],\"y\":[30.8,32.9,30.5,32.6,33.6,28.3,25.9,35.2,34.3,33.6,34.6,35.9,36.1,33.2,32.2,34.8,35.3,31.9,34.4,34.3,35.2,34.8,34.6,35.3,35.1,34.9,36.9,35.0,34.4,34.7,34.0]},{\"mode\":\"lines\",\"name\":\"\\u6700\\u4f4e\\u6c23\\u6eab(\\u2103)\",\"type\":\"scatter\",\"x\":[1,2,3,4,5,6,7,8,9,10,11,12,13,14,15,16,17,18,19,20,21,22,23,24,25,26,27,28,29,30,31],\"y\":[25.6,25.9,25.6,25.6,25.9,25.1,24.3,24.8,26.9,26.0,26.1,25.6,25.6,25.3,26.2,26.3,26.6,25.5,23.2,24.3,25.2,26.0,26.7,26.1,25.8,25.6,26.7,26.8,27.6,28.0,27.9]}],                        {\"template\":{\"data\":{\"bar\":[{\"error_x\":{\"color\":\"#2a3f5f\"},\"error_y\":{\"color\":\"#2a3f5f\"},\"marker\":{\"line\":{\"color\":\"#E5ECF6\",\"width\":0.5},\"pattern\":{\"fillmode\":\"overlay\",\"size\":10,\"solidity\":0.2}},\"type\":\"bar\"}],\"barpolar\":[{\"marker\":{\"line\":{\"color\":\"#E5ECF6\",\"width\":0.5},\"pattern\":{\"fillmode\":\"overlay\",\"size\":10,\"solidity\":0.2}},\"type\":\"barpolar\"}],\"carpet\":[{\"aaxis\":{\"endlinecolor\":\"#2a3f5f\",\"gridcolor\":\"white\",\"linecolor\":\"white\",\"minorgridcolor\":\"white\",\"startlinecolor\":\"#2a3f5f\"},\"baxis\":{\"endlinecolor\":\"#2a3f5f\",\"gridcolor\":\"white\",\"linecolor\":\"white\",\"minorgridcolor\":\"white\",\"startlinecolor\":\"#2a3f5f\"},\"type\":\"carpet\"}],\"choropleth\":[{\"colorbar\":{\"outlinewidth\":0,\"ticks\":\"\"},\"type\":\"choropleth\"}],\"contour\":[{\"colorbar\":{\"outlinewidth\":0,\"ticks\":\"\"},\"colorscale\":[[0.0,\"#0d0887\"],[0.1111111111111111,\"#46039f\"],[0.2222222222222222,\"#7201a8\"],[0.3333333333333333,\"#9c179e\"],[0.4444444444444444,\"#bd3786\"],[0.5555555555555556,\"#d8576b\"],[0.6666666666666666,\"#ed7953\"],[0.7777777777777778,\"#fb9f3a\"],[0.8888888888888888,\"#fdca26\"],[1.0,\"#f0f921\"]],\"type\":\"contour\"}],\"contourcarpet\":[{\"colorbar\":{\"outlinewidth\":0,\"ticks\":\"\"},\"type\":\"contourcarpet\"}],\"heatmap\":[{\"colorbar\":{\"outlinewidth\":0,\"ticks\":\"\"},\"colorscale\":[[0.0,\"#0d0887\"],[0.1111111111111111,\"#46039f\"],[0.2222222222222222,\"#7201a8\"],[0.3333333333333333,\"#9c179e\"],[0.4444444444444444,\"#bd3786\"],[0.5555555555555556,\"#d8576b\"],[0.6666666666666666,\"#ed7953\"],[0.7777777777777778,\"#fb9f3a\"],[0.8888888888888888,\"#fdca26\"],[1.0,\"#f0f921\"]],\"type\":\"heatmap\"}],\"heatmapgl\":[{\"colorbar\":{\"outlinewidth\":0,\"ticks\":\"\"},\"colorscale\":[[0.0,\"#0d0887\"],[0.1111111111111111,\"#46039f\"],[0.2222222222222222,\"#7201a8\"],[0.3333333333333333,\"#9c179e\"],[0.4444444444444444,\"#bd3786\"],[0.5555555555555556,\"#d8576b\"],[0.6666666666666666,\"#ed7953\"],[0.7777777777777778,\"#fb9f3a\"],[0.8888888888888888,\"#fdca26\"],[1.0,\"#f0f921\"]],\"type\":\"heatmapgl\"}],\"histogram\":[{\"marker\":{\"pattern\":{\"fillmode\":\"overlay\",\"size\":10,\"solidity\":0.2}},\"type\":\"histogram\"}],\"histogram2d\":[{\"colorbar\":{\"outlinewidth\":0,\"ticks\":\"\"},\"colorscale\":[[0.0,\"#0d0887\"],[0.1111111111111111,\"#46039f\"],[0.2222222222222222,\"#7201a8\"],[0.3333333333333333,\"#9c179e\"],[0.4444444444444444,\"#bd3786\"],[0.5555555555555556,\"#d8576b\"],[0.6666666666666666,\"#ed7953\"],[0.7777777777777778,\"#fb9f3a\"],[0.8888888888888888,\"#fdca26\"],[1.0,\"#f0f921\"]],\"type\":\"histogram2d\"}],\"histogram2dcontour\":[{\"colorbar\":{\"outlinewidth\":0,\"ticks\":\"\"},\"colorscale\":[[0.0,\"#0d0887\"],[0.1111111111111111,\"#46039f\"],[0.2222222222222222,\"#7201a8\"],[0.3333333333333333,\"#9c179e\"],[0.4444444444444444,\"#bd3786\"],[0.5555555555555556,\"#d8576b\"],[0.6666666666666666,\"#ed7953\"],[0.7777777777777778,\"#fb9f3a\"],[0.8888888888888888,\"#fdca26\"],[1.0,\"#f0f921\"]],\"type\":\"histogram2dcontour\"}],\"mesh3d\":[{\"colorbar\":{\"outlinewidth\":0,\"ticks\":\"\"},\"type\":\"mesh3d\"}],\"parcoords\":[{\"line\":{\"colorbar\":{\"outlinewidth\":0,\"ticks\":\"\"}},\"type\":\"parcoords\"}],\"pie\":[{\"automargin\":true,\"type\":\"pie\"}],\"scatter\":[{\"marker\":{\"colorbar\":{\"outlinewidth\":0,\"ticks\":\"\"}},\"type\":\"scatter\"}],\"scatter3d\":[{\"line\":{\"colorbar\":{\"outlinewidth\":0,\"ticks\":\"\"}},\"marker\":{\"colorbar\":{\"outlinewidth\":0,\"ticks\":\"\"}},\"type\":\"scatter3d\"}],\"scattercarpet\":[{\"marker\":{\"colorbar\":{\"outlinewidth\":0,\"ticks\":\"\"}},\"type\":\"scattercarpet\"}],\"scattergeo\":[{\"marker\":{\"colorbar\":{\"outlinewidth\":0,\"ticks\":\"\"}},\"type\":\"scattergeo\"}],\"scattergl\":[{\"marker\":{\"colorbar\":{\"outlinewidth\":0,\"ticks\":\"\"}},\"type\":\"scattergl\"}],\"scattermapbox\":[{\"marker\":{\"colorbar\":{\"outlinewidth\":0,\"ticks\":\"\"}},\"type\":\"scattermapbox\"}],\"scatterpolar\":[{\"marker\":{\"colorbar\":{\"outlinewidth\":0,\"ticks\":\"\"}},\"type\":\"scatterpolar\"}],\"scatterpolargl\":[{\"marker\":{\"colorbar\":{\"outlinewidth\":0,\"ticks\":\"\"}},\"type\":\"scatterpolargl\"}],\"scatterternary\":[{\"marker\":{\"colorbar\":{\"outlinewidth\":0,\"ticks\":\"\"}},\"type\":\"scatterternary\"}],\"surface\":[{\"colorbar\":{\"outlinewidth\":0,\"ticks\":\"\"},\"colorscale\":[[0.0,\"#0d0887\"],[0.1111111111111111,\"#46039f\"],[0.2222222222222222,\"#7201a8\"],[0.3333333333333333,\"#9c179e\"],[0.4444444444444444,\"#bd3786\"],[0.5555555555555556,\"#d8576b\"],[0.6666666666666666,\"#ed7953\"],[0.7777777777777778,\"#fb9f3a\"],[0.8888888888888888,\"#fdca26\"],[1.0,\"#f0f921\"]],\"type\":\"surface\"}],\"table\":[{\"cells\":{\"fill\":{\"color\":\"#EBF0F8\"},\"line\":{\"color\":\"white\"}},\"header\":{\"fill\":{\"color\":\"#C8D4E3\"},\"line\":{\"color\":\"white\"}},\"type\":\"table\"}]},\"layout\":{\"annotationdefaults\":{\"arrowcolor\":\"#2a3f5f\",\"arrowhead\":0,\"arrowwidth\":1},\"autotypenumbers\":\"strict\",\"coloraxis\":{\"colorbar\":{\"outlinewidth\":0,\"ticks\":\"\"}},\"colorscale\":{\"diverging\":[[0,\"#8e0152\"],[0.1,\"#c51b7d\"],[0.2,\"#de77ae\"],[0.3,\"#f1b6da\"],[0.4,\"#fde0ef\"],[0.5,\"#f7f7f7\"],[0.6,\"#e6f5d0\"],[0.7,\"#b8e186\"],[0.8,\"#7fbc41\"],[0.9,\"#4d9221\"],[1,\"#276419\"]],\"sequential\":[[0.0,\"#0d0887\"],[0.1111111111111111,\"#46039f\"],[0.2222222222222222,\"#7201a8\"],[0.3333333333333333,\"#9c179e\"],[0.4444444444444444,\"#bd3786\"],[0.5555555555555556,\"#d8576b\"],[0.6666666666666666,\"#ed7953\"],[0.7777777777777778,\"#fb9f3a\"],[0.8888888888888888,\"#fdca26\"],[1.0,\"#f0f921\"]],\"sequentialminus\":[[0.0,\"#0d0887\"],[0.1111111111111111,\"#46039f\"],[0.2222222222222222,\"#7201a8\"],[0.3333333333333333,\"#9c179e\"],[0.4444444444444444,\"#bd3786\"],[0.5555555555555556,\"#d8576b\"],[0.6666666666666666,\"#ed7953\"],[0.7777777777777778,\"#fb9f3a\"],[0.8888888888888888,\"#fdca26\"],[1.0,\"#f0f921\"]]},\"colorway\":[\"#636efa\",\"#EF553B\",\"#00cc96\",\"#ab63fa\",\"#FFA15A\",\"#19d3f3\",\"#FF6692\",\"#B6E880\",\"#FF97FF\",\"#FECB52\"],\"font\":{\"color\":\"#2a3f5f\"},\"geo\":{\"bgcolor\":\"white\",\"lakecolor\":\"white\",\"landcolor\":\"#E5ECF6\",\"showlakes\":true,\"showland\":true,\"subunitcolor\":\"white\"},\"hoverlabel\":{\"align\":\"left\"},\"hovermode\":\"closest\",\"mapbox\":{\"style\":\"light\"},\"paper_bgcolor\":\"white\",\"plot_bgcolor\":\"#E5ECF6\",\"polar\":{\"angularaxis\":{\"gridcolor\":\"white\",\"linecolor\":\"white\",\"ticks\":\"\"},\"bgcolor\":\"#E5ECF6\",\"radialaxis\":{\"gridcolor\":\"white\",\"linecolor\":\"white\",\"ticks\":\"\"}},\"scene\":{\"xaxis\":{\"backgroundcolor\":\"#E5ECF6\",\"gridcolor\":\"white\",\"gridwidth\":2,\"linecolor\":\"white\",\"showbackground\":true,\"ticks\":\"\",\"zerolinecolor\":\"white\"},\"yaxis\":{\"backgroundcolor\":\"#E5ECF6\",\"gridcolor\":\"white\",\"gridwidth\":2,\"linecolor\":\"white\",\"showbackground\":true,\"ticks\":\"\",\"zerolinecolor\":\"white\"},\"zaxis\":{\"backgroundcolor\":\"#E5ECF6\",\"gridcolor\":\"white\",\"gridwidth\":2,\"linecolor\":\"white\",\"showbackground\":true,\"ticks\":\"\",\"zerolinecolor\":\"white\"}},\"shapedefaults\":{\"line\":{\"color\":\"#2a3f5f\"}},\"ternary\":{\"aaxis\":{\"gridcolor\":\"white\",\"linecolor\":\"white\",\"ticks\":\"\"},\"baxis\":{\"gridcolor\":\"white\",\"linecolor\":\"white\",\"ticks\":\"\"},\"bgcolor\":\"#E5ECF6\",\"caxis\":{\"gridcolor\":\"white\",\"linecolor\":\"white\",\"ticks\":\"\"}},\"title\":{\"x\":0.05},\"xaxis\":{\"automargin\":true,\"gridcolor\":\"white\",\"linecolor\":\"white\",\"ticks\":\"\",\"title\":{\"standoff\":15},\"zerolinecolor\":\"white\",\"zerolinewidth\":2},\"yaxis\":{\"automargin\":true,\"gridcolor\":\"white\",\"linecolor\":\"white\",\"ticks\":\"\",\"title\":{\"standoff\":15},\"zerolinecolor\":\"white\",\"zerolinewidth\":2}}},\"xaxis\":{\"title\":{\"text\":\"\\u89c0\\u6e2c\\u6642\\u9593(day)\"}},\"yaxis\":{\"title\":{\"text\":\"\\u6eab\\u5ea6(\\u2103)\"}}},                        {\"responsive\": true}                    ).then(function(){\n",
       "                            \n",
       "var gd = document.getElementById('de219088-e72b-4bca-96e3-39a5cc16b1bc');\n",
       "var x = new MutationObserver(function (mutations, observer) {{\n",
       "        var display = window.getComputedStyle(gd).display;\n",
       "        if (!display || display === 'none') {{\n",
       "            console.log([gd, 'removed!']);\n",
       "            Plotly.purge(gd);\n",
       "            observer.disconnect();\n",
       "        }}\n",
       "}});\n",
       "\n",
       "// Listen for the removal of the full notebook cells\n",
       "var notebookContainer = gd.closest('#notebook-container');\n",
       "if (notebookContainer) {{\n",
       "    x.observe(notebookContainer, {childList: true});\n",
       "}}\n",
       "\n",
       "// Listen for the clearing of the current output cell\n",
       "var outputEl = gd.closest('.output');\n",
       "if (outputEl) {{\n",
       "    x.observe(outputEl, {childList: true});\n",
       "}}\n",
       "\n",
       "                        })                };                });            </script>        </div>"
      ]
     },
     "metadata": {},
     "output_type": "display_data"
    },
    {
     "data": {
      "text/plain": [
       "<bound method BaseFigure.show of Figure({\n",
       "    'data': [{'mode': 'lines',\n",
       "              'name': '氣溫(℃)',\n",
       "              'type': 'scatter',\n",
       "              'x': array([ 1,  2,  3,  4,  5,  6,  7,  8,  9, 10, 11, 12, 13, 14, 15, 16, 17, 18,\n",
       "                          19, 20, 21, 22, 23, 24, 25, 26, 27, 28, 29, 30, 31]),\n",
       "              'y': array([27.8, 28.2, 27.1, 28.3, 28.4, 26.8, 25.1, 29.3, 28.9, 29. , 29. , 28.7,\n",
       "                          28.2, 27.9, 29.1, 29.5, 29.9, 27.7, 27.7, 28.5, 29.2, 29.6, 29.9, 28.6,\n",
       "                          29. , 29.7, 30.4, 30.2, 30.2, 30.3, 30.1])},\n",
       "             {'mode': 'lines',\n",
       "              'name': '最高氣溫(℃)',\n",
       "              'type': 'scatter',\n",
       "              'x': array([ 1,  2,  3,  4,  5,  6,  7,  8,  9, 10, 11, 12, 13, 14, 15, 16, 17, 18,\n",
       "                          19, 20, 21, 22, 23, 24, 25, 26, 27, 28, 29, 30, 31]),\n",
       "              'y': array([30.8, 32.9, 30.5, 32.6, 33.6, 28.3, 25.9, 35.2, 34.3, 33.6, 34.6, 35.9,\n",
       "                          36.1, 33.2, 32.2, 34.8, 35.3, 31.9, 34.4, 34.3, 35.2, 34.8, 34.6, 35.3,\n",
       "                          35.1, 34.9, 36.9, 35. , 34.4, 34.7, 34. ])},\n",
       "             {'mode': 'lines',\n",
       "              'name': '最低氣溫(℃)',\n",
       "              'type': 'scatter',\n",
       "              'x': array([ 1,  2,  3,  4,  5,  6,  7,  8,  9, 10, 11, 12, 13, 14, 15, 16, 17, 18,\n",
       "                          19, 20, 21, 22, 23, 24, 25, 26, 27, 28, 29, 30, 31]),\n",
       "              'y': array([25.6, 25.9, 25.6, 25.6, 25.9, 25.1, 24.3, 24.8, 26.9, 26. , 26.1, 25.6,\n",
       "                          25.6, 25.3, 26.2, 26.3, 26.6, 25.5, 23.2, 24.3, 25.2, 26. , 26.7, 26.1,\n",
       "                          25.8, 25.6, 26.7, 26.8, 27.6, 28. , 27.9])}],\n",
       "    'layout': {'template': '...', 'xaxis': {'title': {'text': '觀測時間(day)'}}, 'yaxis': {'title': {'text': '溫度(℃)'}}}\n",
       "})>"
      ]
     },
     "execution_count": 67,
     "metadata": {},
     "output_type": "execute_result"
    }
   ],
   "source": [
    "#取得分布圖資料\n",
    "tmp_ave = go.Scatter(x=weather[\"觀測時間(day)\"], y=weather[\"氣溫(℃)\"], mode=\"lines\", name=\"氣溫(℃)\")\n",
    "tmp_high = go.Scatter(x=weather[\"觀測時間(day)\"], y=weather[\"最高氣溫(℃)\"], mode=\"lines\", name=\"最高氣溫(℃)\")\n",
    "tmp_low = go.Scatter(x=weather[\"觀測時間(day)\"], y=weather[\"最低氣溫(℃)\"], mode=\"lines\", name=\"最低氣溫(℃)\")\n",
    "\n",
    "#指定版面排版方式\n",
    "layout = go.Layout(xaxis=dict(title=\"觀測時間(day)\"),\n",
    "                   yaxis=dict(title=\"溫度(℃)\"))\n",
    "\n",
    "fig = go.Figure(data=[tmp_ave, tmp_high, tmp_low], layout=layout)\n",
    "fig.show()\n",
    "fig.show"
   ]
  },
  {
   "cell_type": "code",
   "execution_count": 68,
   "metadata": {},
   "outputs": [
    {
     "data": {
      "application/vnd.plotly.v1+json": {
       "config": {
        "plotlyServerURL": "https://plot.ly"
       },
       "data": [
        {
         "hovertemplate": "觀測時間(day)=%{x}<br>氣溫(℃)=%{y}<extra></extra>",
         "legendgroup": "",
         "line": {
          "color": "#636efa",
          "dash": "solid"
         },
         "mode": "lines",
         "name": "",
         "orientation": "v",
         "showlegend": false,
         "type": "scatter",
         "x": [
          1,
          2,
          3,
          4,
          5,
          6,
          7,
          8,
          9,
          10,
          11,
          12,
          13,
          14,
          15,
          16,
          17,
          18,
          19,
          20,
          21,
          22,
          23,
          24,
          25,
          26,
          27,
          28,
          29,
          30,
          31
         ],
         "xaxis": "x",
         "y": [
          27.8,
          28.2,
          27.1,
          28.3,
          28.4,
          26.8,
          25.1,
          29.3,
          28.9,
          29,
          29,
          28.7,
          28.2,
          27.9,
          29.1,
          29.5,
          29.9,
          27.7,
          27.7,
          28.5,
          29.2,
          29.6,
          29.9,
          28.6,
          29,
          29.7,
          30.4,
          30.2,
          30.2,
          30.3,
          30.1
         ],
         "yaxis": "y"
        }
       ],
       "layout": {
        "legend": {
         "tracegroupgap": 0
        },
        "margin": {
         "t": 60
        },
        "template": {
         "data": {
          "bar": [
           {
            "error_x": {
             "color": "#2a3f5f"
            },
            "error_y": {
             "color": "#2a3f5f"
            },
            "marker": {
             "line": {
              "color": "#E5ECF6",
              "width": 0.5
             },
             "pattern": {
              "fillmode": "overlay",
              "size": 10,
              "solidity": 0.2
             }
            },
            "type": "bar"
           }
          ],
          "barpolar": [
           {
            "marker": {
             "line": {
              "color": "#E5ECF6",
              "width": 0.5
             },
             "pattern": {
              "fillmode": "overlay",
              "size": 10,
              "solidity": 0.2
             }
            },
            "type": "barpolar"
           }
          ],
          "carpet": [
           {
            "aaxis": {
             "endlinecolor": "#2a3f5f",
             "gridcolor": "white",
             "linecolor": "white",
             "minorgridcolor": "white",
             "startlinecolor": "#2a3f5f"
            },
            "baxis": {
             "endlinecolor": "#2a3f5f",
             "gridcolor": "white",
             "linecolor": "white",
             "minorgridcolor": "white",
             "startlinecolor": "#2a3f5f"
            },
            "type": "carpet"
           }
          ],
          "choropleth": [
           {
            "colorbar": {
             "outlinewidth": 0,
             "ticks": ""
            },
            "type": "choropleth"
           }
          ],
          "contour": [
           {
            "colorbar": {
             "outlinewidth": 0,
             "ticks": ""
            },
            "colorscale": [
             [
              0,
              "#0d0887"
             ],
             [
              0.1111111111111111,
              "#46039f"
             ],
             [
              0.2222222222222222,
              "#7201a8"
             ],
             [
              0.3333333333333333,
              "#9c179e"
             ],
             [
              0.4444444444444444,
              "#bd3786"
             ],
             [
              0.5555555555555556,
              "#d8576b"
             ],
             [
              0.6666666666666666,
              "#ed7953"
             ],
             [
              0.7777777777777778,
              "#fb9f3a"
             ],
             [
              0.8888888888888888,
              "#fdca26"
             ],
             [
              1,
              "#f0f921"
             ]
            ],
            "type": "contour"
           }
          ],
          "contourcarpet": [
           {
            "colorbar": {
             "outlinewidth": 0,
             "ticks": ""
            },
            "type": "contourcarpet"
           }
          ],
          "heatmap": [
           {
            "colorbar": {
             "outlinewidth": 0,
             "ticks": ""
            },
            "colorscale": [
             [
              0,
              "#0d0887"
             ],
             [
              0.1111111111111111,
              "#46039f"
             ],
             [
              0.2222222222222222,
              "#7201a8"
             ],
             [
              0.3333333333333333,
              "#9c179e"
             ],
             [
              0.4444444444444444,
              "#bd3786"
             ],
             [
              0.5555555555555556,
              "#d8576b"
             ],
             [
              0.6666666666666666,
              "#ed7953"
             ],
             [
              0.7777777777777778,
              "#fb9f3a"
             ],
             [
              0.8888888888888888,
              "#fdca26"
             ],
             [
              1,
              "#f0f921"
             ]
            ],
            "type": "heatmap"
           }
          ],
          "heatmapgl": [
           {
            "colorbar": {
             "outlinewidth": 0,
             "ticks": ""
            },
            "colorscale": [
             [
              0,
              "#0d0887"
             ],
             [
              0.1111111111111111,
              "#46039f"
             ],
             [
              0.2222222222222222,
              "#7201a8"
             ],
             [
              0.3333333333333333,
              "#9c179e"
             ],
             [
              0.4444444444444444,
              "#bd3786"
             ],
             [
              0.5555555555555556,
              "#d8576b"
             ],
             [
              0.6666666666666666,
              "#ed7953"
             ],
             [
              0.7777777777777778,
              "#fb9f3a"
             ],
             [
              0.8888888888888888,
              "#fdca26"
             ],
             [
              1,
              "#f0f921"
             ]
            ],
            "type": "heatmapgl"
           }
          ],
          "histogram": [
           {
            "marker": {
             "pattern": {
              "fillmode": "overlay",
              "size": 10,
              "solidity": 0.2
             }
            },
            "type": "histogram"
           }
          ],
          "histogram2d": [
           {
            "colorbar": {
             "outlinewidth": 0,
             "ticks": ""
            },
            "colorscale": [
             [
              0,
              "#0d0887"
             ],
             [
              0.1111111111111111,
              "#46039f"
             ],
             [
              0.2222222222222222,
              "#7201a8"
             ],
             [
              0.3333333333333333,
              "#9c179e"
             ],
             [
              0.4444444444444444,
              "#bd3786"
             ],
             [
              0.5555555555555556,
              "#d8576b"
             ],
             [
              0.6666666666666666,
              "#ed7953"
             ],
             [
              0.7777777777777778,
              "#fb9f3a"
             ],
             [
              0.8888888888888888,
              "#fdca26"
             ],
             [
              1,
              "#f0f921"
             ]
            ],
            "type": "histogram2d"
           }
          ],
          "histogram2dcontour": [
           {
            "colorbar": {
             "outlinewidth": 0,
             "ticks": ""
            },
            "colorscale": [
             [
              0,
              "#0d0887"
             ],
             [
              0.1111111111111111,
              "#46039f"
             ],
             [
              0.2222222222222222,
              "#7201a8"
             ],
             [
              0.3333333333333333,
              "#9c179e"
             ],
             [
              0.4444444444444444,
              "#bd3786"
             ],
             [
              0.5555555555555556,
              "#d8576b"
             ],
             [
              0.6666666666666666,
              "#ed7953"
             ],
             [
              0.7777777777777778,
              "#fb9f3a"
             ],
             [
              0.8888888888888888,
              "#fdca26"
             ],
             [
              1,
              "#f0f921"
             ]
            ],
            "type": "histogram2dcontour"
           }
          ],
          "mesh3d": [
           {
            "colorbar": {
             "outlinewidth": 0,
             "ticks": ""
            },
            "type": "mesh3d"
           }
          ],
          "parcoords": [
           {
            "line": {
             "colorbar": {
              "outlinewidth": 0,
              "ticks": ""
             }
            },
            "type": "parcoords"
           }
          ],
          "pie": [
           {
            "automargin": true,
            "type": "pie"
           }
          ],
          "scatter": [
           {
            "marker": {
             "colorbar": {
              "outlinewidth": 0,
              "ticks": ""
             }
            },
            "type": "scatter"
           }
          ],
          "scatter3d": [
           {
            "line": {
             "colorbar": {
              "outlinewidth": 0,
              "ticks": ""
             }
            },
            "marker": {
             "colorbar": {
              "outlinewidth": 0,
              "ticks": ""
             }
            },
            "type": "scatter3d"
           }
          ],
          "scattercarpet": [
           {
            "marker": {
             "colorbar": {
              "outlinewidth": 0,
              "ticks": ""
             }
            },
            "type": "scattercarpet"
           }
          ],
          "scattergeo": [
           {
            "marker": {
             "colorbar": {
              "outlinewidth": 0,
              "ticks": ""
             }
            },
            "type": "scattergeo"
           }
          ],
          "scattergl": [
           {
            "marker": {
             "colorbar": {
              "outlinewidth": 0,
              "ticks": ""
             }
            },
            "type": "scattergl"
           }
          ],
          "scattermapbox": [
           {
            "marker": {
             "colorbar": {
              "outlinewidth": 0,
              "ticks": ""
             }
            },
            "type": "scattermapbox"
           }
          ],
          "scatterpolar": [
           {
            "marker": {
             "colorbar": {
              "outlinewidth": 0,
              "ticks": ""
             }
            },
            "type": "scatterpolar"
           }
          ],
          "scatterpolargl": [
           {
            "marker": {
             "colorbar": {
              "outlinewidth": 0,
              "ticks": ""
             }
            },
            "type": "scatterpolargl"
           }
          ],
          "scatterternary": [
           {
            "marker": {
             "colorbar": {
              "outlinewidth": 0,
              "ticks": ""
             }
            },
            "type": "scatterternary"
           }
          ],
          "surface": [
           {
            "colorbar": {
             "outlinewidth": 0,
             "ticks": ""
            },
            "colorscale": [
             [
              0,
              "#0d0887"
             ],
             [
              0.1111111111111111,
              "#46039f"
             ],
             [
              0.2222222222222222,
              "#7201a8"
             ],
             [
              0.3333333333333333,
              "#9c179e"
             ],
             [
              0.4444444444444444,
              "#bd3786"
             ],
             [
              0.5555555555555556,
              "#d8576b"
             ],
             [
              0.6666666666666666,
              "#ed7953"
             ],
             [
              0.7777777777777778,
              "#fb9f3a"
             ],
             [
              0.8888888888888888,
              "#fdca26"
             ],
             [
              1,
              "#f0f921"
             ]
            ],
            "type": "surface"
           }
          ],
          "table": [
           {
            "cells": {
             "fill": {
              "color": "#EBF0F8"
             },
             "line": {
              "color": "white"
             }
            },
            "header": {
             "fill": {
              "color": "#C8D4E3"
             },
             "line": {
              "color": "white"
             }
            },
            "type": "table"
           }
          ]
         },
         "layout": {
          "annotationdefaults": {
           "arrowcolor": "#2a3f5f",
           "arrowhead": 0,
           "arrowwidth": 1
          },
          "autotypenumbers": "strict",
          "coloraxis": {
           "colorbar": {
            "outlinewidth": 0,
            "ticks": ""
           }
          },
          "colorscale": {
           "diverging": [
            [
             0,
             "#8e0152"
            ],
            [
             0.1,
             "#c51b7d"
            ],
            [
             0.2,
             "#de77ae"
            ],
            [
             0.3,
             "#f1b6da"
            ],
            [
             0.4,
             "#fde0ef"
            ],
            [
             0.5,
             "#f7f7f7"
            ],
            [
             0.6,
             "#e6f5d0"
            ],
            [
             0.7,
             "#b8e186"
            ],
            [
             0.8,
             "#7fbc41"
            ],
            [
             0.9,
             "#4d9221"
            ],
            [
             1,
             "#276419"
            ]
           ],
           "sequential": [
            [
             0,
             "#0d0887"
            ],
            [
             0.1111111111111111,
             "#46039f"
            ],
            [
             0.2222222222222222,
             "#7201a8"
            ],
            [
             0.3333333333333333,
             "#9c179e"
            ],
            [
             0.4444444444444444,
             "#bd3786"
            ],
            [
             0.5555555555555556,
             "#d8576b"
            ],
            [
             0.6666666666666666,
             "#ed7953"
            ],
            [
             0.7777777777777778,
             "#fb9f3a"
            ],
            [
             0.8888888888888888,
             "#fdca26"
            ],
            [
             1,
             "#f0f921"
            ]
           ],
           "sequentialminus": [
            [
             0,
             "#0d0887"
            ],
            [
             0.1111111111111111,
             "#46039f"
            ],
            [
             0.2222222222222222,
             "#7201a8"
            ],
            [
             0.3333333333333333,
             "#9c179e"
            ],
            [
             0.4444444444444444,
             "#bd3786"
            ],
            [
             0.5555555555555556,
             "#d8576b"
            ],
            [
             0.6666666666666666,
             "#ed7953"
            ],
            [
             0.7777777777777778,
             "#fb9f3a"
            ],
            [
             0.8888888888888888,
             "#fdca26"
            ],
            [
             1,
             "#f0f921"
            ]
           ]
          },
          "colorway": [
           "#636efa",
           "#EF553B",
           "#00cc96",
           "#ab63fa",
           "#FFA15A",
           "#19d3f3",
           "#FF6692",
           "#B6E880",
           "#FF97FF",
           "#FECB52"
          ],
          "font": {
           "color": "#2a3f5f"
          },
          "geo": {
           "bgcolor": "white",
           "lakecolor": "white",
           "landcolor": "#E5ECF6",
           "showlakes": true,
           "showland": true,
           "subunitcolor": "white"
          },
          "hoverlabel": {
           "align": "left"
          },
          "hovermode": "closest",
          "mapbox": {
           "style": "light"
          },
          "paper_bgcolor": "white",
          "plot_bgcolor": "#E5ECF6",
          "polar": {
           "angularaxis": {
            "gridcolor": "white",
            "linecolor": "white",
            "ticks": ""
           },
           "bgcolor": "#E5ECF6",
           "radialaxis": {
            "gridcolor": "white",
            "linecolor": "white",
            "ticks": ""
           }
          },
          "scene": {
           "xaxis": {
            "backgroundcolor": "#E5ECF6",
            "gridcolor": "white",
            "gridwidth": 2,
            "linecolor": "white",
            "showbackground": true,
            "ticks": "",
            "zerolinecolor": "white"
           },
           "yaxis": {
            "backgroundcolor": "#E5ECF6",
            "gridcolor": "white",
            "gridwidth": 2,
            "linecolor": "white",
            "showbackground": true,
            "ticks": "",
            "zerolinecolor": "white"
           },
           "zaxis": {
            "backgroundcolor": "#E5ECF6",
            "gridcolor": "white",
            "gridwidth": 2,
            "linecolor": "white",
            "showbackground": true,
            "ticks": "",
            "zerolinecolor": "white"
           }
          },
          "shapedefaults": {
           "line": {
            "color": "#2a3f5f"
           }
          },
          "ternary": {
           "aaxis": {
            "gridcolor": "white",
            "linecolor": "white",
            "ticks": ""
           },
           "baxis": {
            "gridcolor": "white",
            "linecolor": "white",
            "ticks": ""
           },
           "bgcolor": "#E5ECF6",
           "caxis": {
            "gridcolor": "white",
            "linecolor": "white",
            "ticks": ""
           }
          },
          "title": {
           "x": 0.05
          },
          "xaxis": {
           "automargin": true,
           "gridcolor": "white",
           "linecolor": "white",
           "ticks": "",
           "title": {
            "standoff": 15
           },
           "zerolinecolor": "white",
           "zerolinewidth": 2
          },
          "yaxis": {
           "automargin": true,
           "gridcolor": "white",
           "linecolor": "white",
           "ticks": "",
           "title": {
            "standoff": 15
           },
           "zerolinecolor": "white",
           "zerolinewidth": 2
          }
         }
        },
        "xaxis": {
         "anchor": "y",
         "domain": [
          0,
          1
         ],
         "title": {
          "text": "觀測時間(day)"
         }
        },
        "yaxis": {
         "anchor": "x",
         "domain": [
          0,
          1
         ],
         "title": {
          "text": "氣溫(℃)"
         }
        }
       }
      },
      "text/html": [
       "<div>                            <div id=\"2458ec68-98d1-43e0-b4db-c6d9ebc41eb7\" class=\"plotly-graph-div\" style=\"height:525px; width:100%;\"></div>            <script type=\"text/javascript\">                require([\"plotly\"], function(Plotly) {                    window.PLOTLYENV=window.PLOTLYENV || {};                                    if (document.getElementById(\"2458ec68-98d1-43e0-b4db-c6d9ebc41eb7\")) {                    Plotly.newPlot(                        \"2458ec68-98d1-43e0-b4db-c6d9ebc41eb7\",                        [{\"hovertemplate\":\"\\u89c0\\u6e2c\\u6642\\u9593(day)=%{x}<br>\\u6c23\\u6eab(\\u2103)=%{y}<extra></extra>\",\"legendgroup\":\"\",\"line\":{\"color\":\"#636efa\",\"dash\":\"solid\"},\"mode\":\"lines\",\"name\":\"\",\"orientation\":\"v\",\"showlegend\":false,\"type\":\"scatter\",\"x\":[1,2,3,4,5,6,7,8,9,10,11,12,13,14,15,16,17,18,19,20,21,22,23,24,25,26,27,28,29,30,31],\"xaxis\":\"x\",\"y\":[27.8,28.2,27.1,28.3,28.4,26.8,25.1,29.3,28.9,29.0,29.0,28.7,28.2,27.9,29.1,29.5,29.9,27.7,27.7,28.5,29.2,29.6,29.9,28.6,29.0,29.7,30.4,30.2,30.2,30.3,30.1],\"yaxis\":\"y\"}],                        {\"legend\":{\"tracegroupgap\":0},\"margin\":{\"t\":60},\"template\":{\"data\":{\"bar\":[{\"error_x\":{\"color\":\"#2a3f5f\"},\"error_y\":{\"color\":\"#2a3f5f\"},\"marker\":{\"line\":{\"color\":\"#E5ECF6\",\"width\":0.5},\"pattern\":{\"fillmode\":\"overlay\",\"size\":10,\"solidity\":0.2}},\"type\":\"bar\"}],\"barpolar\":[{\"marker\":{\"line\":{\"color\":\"#E5ECF6\",\"width\":0.5},\"pattern\":{\"fillmode\":\"overlay\",\"size\":10,\"solidity\":0.2}},\"type\":\"barpolar\"}],\"carpet\":[{\"aaxis\":{\"endlinecolor\":\"#2a3f5f\",\"gridcolor\":\"white\",\"linecolor\":\"white\",\"minorgridcolor\":\"white\",\"startlinecolor\":\"#2a3f5f\"},\"baxis\":{\"endlinecolor\":\"#2a3f5f\",\"gridcolor\":\"white\",\"linecolor\":\"white\",\"minorgridcolor\":\"white\",\"startlinecolor\":\"#2a3f5f\"},\"type\":\"carpet\"}],\"choropleth\":[{\"colorbar\":{\"outlinewidth\":0,\"ticks\":\"\"},\"type\":\"choropleth\"}],\"contour\":[{\"colorbar\":{\"outlinewidth\":0,\"ticks\":\"\"},\"colorscale\":[[0.0,\"#0d0887\"],[0.1111111111111111,\"#46039f\"],[0.2222222222222222,\"#7201a8\"],[0.3333333333333333,\"#9c179e\"],[0.4444444444444444,\"#bd3786\"],[0.5555555555555556,\"#d8576b\"],[0.6666666666666666,\"#ed7953\"],[0.7777777777777778,\"#fb9f3a\"],[0.8888888888888888,\"#fdca26\"],[1.0,\"#f0f921\"]],\"type\":\"contour\"}],\"contourcarpet\":[{\"colorbar\":{\"outlinewidth\":0,\"ticks\":\"\"},\"type\":\"contourcarpet\"}],\"heatmap\":[{\"colorbar\":{\"outlinewidth\":0,\"ticks\":\"\"},\"colorscale\":[[0.0,\"#0d0887\"],[0.1111111111111111,\"#46039f\"],[0.2222222222222222,\"#7201a8\"],[0.3333333333333333,\"#9c179e\"],[0.4444444444444444,\"#bd3786\"],[0.5555555555555556,\"#d8576b\"],[0.6666666666666666,\"#ed7953\"],[0.7777777777777778,\"#fb9f3a\"],[0.8888888888888888,\"#fdca26\"],[1.0,\"#f0f921\"]],\"type\":\"heatmap\"}],\"heatmapgl\":[{\"colorbar\":{\"outlinewidth\":0,\"ticks\":\"\"},\"colorscale\":[[0.0,\"#0d0887\"],[0.1111111111111111,\"#46039f\"],[0.2222222222222222,\"#7201a8\"],[0.3333333333333333,\"#9c179e\"],[0.4444444444444444,\"#bd3786\"],[0.5555555555555556,\"#d8576b\"],[0.6666666666666666,\"#ed7953\"],[0.7777777777777778,\"#fb9f3a\"],[0.8888888888888888,\"#fdca26\"],[1.0,\"#f0f921\"]],\"type\":\"heatmapgl\"}],\"histogram\":[{\"marker\":{\"pattern\":{\"fillmode\":\"overlay\",\"size\":10,\"solidity\":0.2}},\"type\":\"histogram\"}],\"histogram2d\":[{\"colorbar\":{\"outlinewidth\":0,\"ticks\":\"\"},\"colorscale\":[[0.0,\"#0d0887\"],[0.1111111111111111,\"#46039f\"],[0.2222222222222222,\"#7201a8\"],[0.3333333333333333,\"#9c179e\"],[0.4444444444444444,\"#bd3786\"],[0.5555555555555556,\"#d8576b\"],[0.6666666666666666,\"#ed7953\"],[0.7777777777777778,\"#fb9f3a\"],[0.8888888888888888,\"#fdca26\"],[1.0,\"#f0f921\"]],\"type\":\"histogram2d\"}],\"histogram2dcontour\":[{\"colorbar\":{\"outlinewidth\":0,\"ticks\":\"\"},\"colorscale\":[[0.0,\"#0d0887\"],[0.1111111111111111,\"#46039f\"],[0.2222222222222222,\"#7201a8\"],[0.3333333333333333,\"#9c179e\"],[0.4444444444444444,\"#bd3786\"],[0.5555555555555556,\"#d8576b\"],[0.6666666666666666,\"#ed7953\"],[0.7777777777777778,\"#fb9f3a\"],[0.8888888888888888,\"#fdca26\"],[1.0,\"#f0f921\"]],\"type\":\"histogram2dcontour\"}],\"mesh3d\":[{\"colorbar\":{\"outlinewidth\":0,\"ticks\":\"\"},\"type\":\"mesh3d\"}],\"parcoords\":[{\"line\":{\"colorbar\":{\"outlinewidth\":0,\"ticks\":\"\"}},\"type\":\"parcoords\"}],\"pie\":[{\"automargin\":true,\"type\":\"pie\"}],\"scatter\":[{\"marker\":{\"colorbar\":{\"outlinewidth\":0,\"ticks\":\"\"}},\"type\":\"scatter\"}],\"scatter3d\":[{\"line\":{\"colorbar\":{\"outlinewidth\":0,\"ticks\":\"\"}},\"marker\":{\"colorbar\":{\"outlinewidth\":0,\"ticks\":\"\"}},\"type\":\"scatter3d\"}],\"scattercarpet\":[{\"marker\":{\"colorbar\":{\"outlinewidth\":0,\"ticks\":\"\"}},\"type\":\"scattercarpet\"}],\"scattergeo\":[{\"marker\":{\"colorbar\":{\"outlinewidth\":0,\"ticks\":\"\"}},\"type\":\"scattergeo\"}],\"scattergl\":[{\"marker\":{\"colorbar\":{\"outlinewidth\":0,\"ticks\":\"\"}},\"type\":\"scattergl\"}],\"scattermapbox\":[{\"marker\":{\"colorbar\":{\"outlinewidth\":0,\"ticks\":\"\"}},\"type\":\"scattermapbox\"}],\"scatterpolar\":[{\"marker\":{\"colorbar\":{\"outlinewidth\":0,\"ticks\":\"\"}},\"type\":\"scatterpolar\"}],\"scatterpolargl\":[{\"marker\":{\"colorbar\":{\"outlinewidth\":0,\"ticks\":\"\"}},\"type\":\"scatterpolargl\"}],\"scatterternary\":[{\"marker\":{\"colorbar\":{\"outlinewidth\":0,\"ticks\":\"\"}},\"type\":\"scatterternary\"}],\"surface\":[{\"colorbar\":{\"outlinewidth\":0,\"ticks\":\"\"},\"colorscale\":[[0.0,\"#0d0887\"],[0.1111111111111111,\"#46039f\"],[0.2222222222222222,\"#7201a8\"],[0.3333333333333333,\"#9c179e\"],[0.4444444444444444,\"#bd3786\"],[0.5555555555555556,\"#d8576b\"],[0.6666666666666666,\"#ed7953\"],[0.7777777777777778,\"#fb9f3a\"],[0.8888888888888888,\"#fdca26\"],[1.0,\"#f0f921\"]],\"type\":\"surface\"}],\"table\":[{\"cells\":{\"fill\":{\"color\":\"#EBF0F8\"},\"line\":{\"color\":\"white\"}},\"header\":{\"fill\":{\"color\":\"#C8D4E3\"},\"line\":{\"color\":\"white\"}},\"type\":\"table\"}]},\"layout\":{\"annotationdefaults\":{\"arrowcolor\":\"#2a3f5f\",\"arrowhead\":0,\"arrowwidth\":1},\"autotypenumbers\":\"strict\",\"coloraxis\":{\"colorbar\":{\"outlinewidth\":0,\"ticks\":\"\"}},\"colorscale\":{\"diverging\":[[0,\"#8e0152\"],[0.1,\"#c51b7d\"],[0.2,\"#de77ae\"],[0.3,\"#f1b6da\"],[0.4,\"#fde0ef\"],[0.5,\"#f7f7f7\"],[0.6,\"#e6f5d0\"],[0.7,\"#b8e186\"],[0.8,\"#7fbc41\"],[0.9,\"#4d9221\"],[1,\"#276419\"]],\"sequential\":[[0.0,\"#0d0887\"],[0.1111111111111111,\"#46039f\"],[0.2222222222222222,\"#7201a8\"],[0.3333333333333333,\"#9c179e\"],[0.4444444444444444,\"#bd3786\"],[0.5555555555555556,\"#d8576b\"],[0.6666666666666666,\"#ed7953\"],[0.7777777777777778,\"#fb9f3a\"],[0.8888888888888888,\"#fdca26\"],[1.0,\"#f0f921\"]],\"sequentialminus\":[[0.0,\"#0d0887\"],[0.1111111111111111,\"#46039f\"],[0.2222222222222222,\"#7201a8\"],[0.3333333333333333,\"#9c179e\"],[0.4444444444444444,\"#bd3786\"],[0.5555555555555556,\"#d8576b\"],[0.6666666666666666,\"#ed7953\"],[0.7777777777777778,\"#fb9f3a\"],[0.8888888888888888,\"#fdca26\"],[1.0,\"#f0f921\"]]},\"colorway\":[\"#636efa\",\"#EF553B\",\"#00cc96\",\"#ab63fa\",\"#FFA15A\",\"#19d3f3\",\"#FF6692\",\"#B6E880\",\"#FF97FF\",\"#FECB52\"],\"font\":{\"color\":\"#2a3f5f\"},\"geo\":{\"bgcolor\":\"white\",\"lakecolor\":\"white\",\"landcolor\":\"#E5ECF6\",\"showlakes\":true,\"showland\":true,\"subunitcolor\":\"white\"},\"hoverlabel\":{\"align\":\"left\"},\"hovermode\":\"closest\",\"mapbox\":{\"style\":\"light\"},\"paper_bgcolor\":\"white\",\"plot_bgcolor\":\"#E5ECF6\",\"polar\":{\"angularaxis\":{\"gridcolor\":\"white\",\"linecolor\":\"white\",\"ticks\":\"\"},\"bgcolor\":\"#E5ECF6\",\"radialaxis\":{\"gridcolor\":\"white\",\"linecolor\":\"white\",\"ticks\":\"\"}},\"scene\":{\"xaxis\":{\"backgroundcolor\":\"#E5ECF6\",\"gridcolor\":\"white\",\"gridwidth\":2,\"linecolor\":\"white\",\"showbackground\":true,\"ticks\":\"\",\"zerolinecolor\":\"white\"},\"yaxis\":{\"backgroundcolor\":\"#E5ECF6\",\"gridcolor\":\"white\",\"gridwidth\":2,\"linecolor\":\"white\",\"showbackground\":true,\"ticks\":\"\",\"zerolinecolor\":\"white\"},\"zaxis\":{\"backgroundcolor\":\"#E5ECF6\",\"gridcolor\":\"white\",\"gridwidth\":2,\"linecolor\":\"white\",\"showbackground\":true,\"ticks\":\"\",\"zerolinecolor\":\"white\"}},\"shapedefaults\":{\"line\":{\"color\":\"#2a3f5f\"}},\"ternary\":{\"aaxis\":{\"gridcolor\":\"white\",\"linecolor\":\"white\",\"ticks\":\"\"},\"baxis\":{\"gridcolor\":\"white\",\"linecolor\":\"white\",\"ticks\":\"\"},\"bgcolor\":\"#E5ECF6\",\"caxis\":{\"gridcolor\":\"white\",\"linecolor\":\"white\",\"ticks\":\"\"}},\"title\":{\"x\":0.05},\"xaxis\":{\"automargin\":true,\"gridcolor\":\"white\",\"linecolor\":\"white\",\"ticks\":\"\",\"title\":{\"standoff\":15},\"zerolinecolor\":\"white\",\"zerolinewidth\":2},\"yaxis\":{\"automargin\":true,\"gridcolor\":\"white\",\"linecolor\":\"white\",\"ticks\":\"\",\"title\":{\"standoff\":15},\"zerolinecolor\":\"white\",\"zerolinewidth\":2}}},\"xaxis\":{\"anchor\":\"y\",\"domain\":[0.0,1.0],\"title\":{\"text\":\"\\u89c0\\u6e2c\\u6642\\u9593(day)\"}},\"yaxis\":{\"anchor\":\"x\",\"domain\":[0.0,1.0],\"title\":{\"text\":\"\\u6c23\\u6eab(\\u2103)\"}}},                        {\"responsive\": true}                    ).then(function(){\n",
       "                            \n",
       "var gd = document.getElementById('2458ec68-98d1-43e0-b4db-c6d9ebc41eb7');\n",
       "var x = new MutationObserver(function (mutations, observer) {{\n",
       "        var display = window.getComputedStyle(gd).display;\n",
       "        if (!display || display === 'none') {{\n",
       "            console.log([gd, 'removed!']);\n",
       "            Plotly.purge(gd);\n",
       "            observer.disconnect();\n",
       "        }}\n",
       "}});\n",
       "\n",
       "// Listen for the removal of the full notebook cells\n",
       "var notebookContainer = gd.closest('#notebook-container');\n",
       "if (notebookContainer) {{\n",
       "    x.observe(notebookContainer, {childList: true});\n",
       "}}\n",
       "\n",
       "// Listen for the clearing of the current output cell\n",
       "var outputEl = gd.closest('.output');\n",
       "if (outputEl) {{\n",
       "    x.observe(outputEl, {childList: true});\n",
       "}}\n",
       "\n",
       "                        })                };                });            </script>        </div>"
      ]
     },
     "metadata": {},
     "output_type": "display_data"
    }
   ],
   "source": [
    "#利用plotly繪製折線圖\n",
    "fig = px.line(weather, x=\"觀測時間(day)\", y=\"氣溫(℃)\")\n",
    "fig.show()"
   ]
  },
  {
   "cell_type": "code",
   "execution_count": 69,
   "metadata": {},
   "outputs": [
    {
     "data": {
      "image/png": "[encoded data removed]",
      "text/plain": [
       "<Figure size 432x288 with 1 Axes>"
      ]
     },
     "metadata": {
      "needs_background": "light"
     },
     "output_type": "display_data"
    }
   ],
   "source": [
    "from scipy.interpolate import make_interp_spline\n",
    "\n",
    "#建立x軸矩陣、y軸矩陣\n",
    "x = np.array([1,2,3,4,5])\n",
    "y = np.array([30.5,32.8,29.7,33.1,26.9])\n",
    "\n",
    "#將x、y軸資料平滑化\n",
    "x_smooth = np.linspace(x.min(), x.max(), 300)\n",
    "y_smooth = make_interp_spline(x,y)(x_smooth)\n",
    "\n",
    "#描點\n",
    "plt.scatter(x, y, color=\"red\", alpha=\"0.5\")\n",
    "#未平滑化之前的折線圖\n",
    "plt.plot(x,y, linewidth=1)\n",
    "\n",
    "#平滑化後折線圖\n",
    "plt.plot(x_smooth, y_smooth)\n",
    "plt.show()"
   ]
  },
  {
   "cell_type": "code",
   "execution_count": 70,
   "metadata": {},
   "outputs": [
    {
     "data": {
      "text/plain": [
       "array([30.5       , 30.64900364, 30.79370358, 30.93414508, 31.07037339,\n",
       "       31.20243376, 31.33037144, 31.45423169, 31.57405974, 31.68990086,\n",
       "       31.80180029, 31.90980328, 32.0139551 , 32.11430098, 32.21088618,\n",
       "       32.30375595, 32.39295553, 32.47853019, 32.56052518, 32.63898573,\n",
       "       32.71395711, 32.78548457, 32.85361335, 32.91838871, 32.9798559 ,\n",
       "       33.03806017, 33.09304677, 33.14486095, 33.19354796, 33.23915305,\n",
       "       33.28172148, 33.3212985 , 33.35792935, 33.39165929, 33.42253357,\n",
       "       33.45059743, 33.47589614, 33.49847494, 33.51837908, 33.53565382,\n",
       "       33.5503444 , 33.56249607, 33.57215409, 33.57936371, 33.58417018,\n",
       "       33.58661875, 33.58675467, 33.58462318, 33.58026956, 33.57373903,\n",
       "       33.56507686, 33.5543283 , 33.54153859, 33.52675299, 33.51001675,\n",
       "       33.49137511, 33.47087334, 33.44855668, 33.42447038, 33.3986597 ,\n",
       "       33.37116988, 33.34204617, 33.31133384, 33.27907811, 33.24532426,\n",
       "       33.21011753, 33.17350317, 33.13552643, 33.09623256, 33.05566682,\n",
       "       33.01387445, 32.97090071, 32.92679084, 32.8815901 , 32.83534374,\n",
       "       32.78809701, 32.73989516, 32.69078344, 32.6408071 , 32.5900114 ,\n",
       "       32.53844158, 32.4861429 , 32.4331606 , 32.37953994, 32.32532617,\n",
       "       32.27056454, 32.2153003 , 32.15957871, 32.103445  , 32.04694444,\n",
       "       31.99012227, 31.93302375, 31.87569413, 31.81817865, 31.76052257,\n",
       "       31.70277115, 31.64496962, 31.58716324, 31.52939727, 31.47171695,\n",
       "       31.41416753, 31.35679427, 31.29964242, 31.24275723, 31.18618394,\n",
       "       31.12996781, 31.0741541 , 31.01878804, 30.9639149 , 30.90957992,\n",
       "       30.85582836, 30.80270546, 30.75025648, 30.69852667, 30.64756128,\n",
       "       30.59740555, 30.54810475, 30.49970412, 30.45224891, 30.40578437,\n",
       "       30.36035576, 30.31600833, 30.27278732, 30.23073799, 30.18990559,\n",
       "       30.15033537, 30.11207258, 30.07516247, 30.03965029, 30.0055813 ,\n",
       "       29.97300074, 29.94195387, 29.91248593, 29.88464219, 29.85846788,\n",
       "       29.83400826, 29.81130858, 29.79041409, 29.77137005, 29.7542217 ,\n",
       "       29.7390143 , 29.72579309, 29.71460332, 29.70549026, 29.69849915,\n",
       "       29.69367523, 29.69106376, 29.69071   , 29.69265919, 29.69695659,\n",
       "       29.70364534, 29.71272043, 29.72412863, 29.73781465, 29.75372318,\n",
       "       29.7717989 , 29.79198652, 29.81423073, 29.83847621, 29.86466767,\n",
       "       29.89274979, 29.92266727, 29.95436481, 29.98778709, 30.02287881,\n",
       "       30.05958466, 30.09784934, 30.13761753, 30.17883394, 30.22144325,\n",
       "       30.26539016, 30.31061936, 30.35707554, 30.40470341, 30.45344764,\n",
       "       30.50325294, 30.554064  , 30.6058255 , 30.65848215, 30.71197864,\n",
       "       30.76625966, 30.8212699 , 30.87695406, 30.93325682, 30.99012289,\n",
       "       31.04749696, 31.10532372, 31.16354786, 31.22211407, 31.28096706,\n",
       "       31.34005151, 31.39931211, 31.45869356, 31.51814056, 31.57759779,\n",
       "       31.63700994, 31.69632172, 31.75547782, 31.81442292, 31.87310173,\n",
       "       31.93145893, 31.98943921, 32.04698728, 32.10404782, 32.16056554,\n",
       "       32.21648511, 32.27175123, 32.3263086 , 32.38010192, 32.43307586,\n",
       "       32.48517513, 32.53634443, 32.58652843, 32.63567185, 32.68371936,\n",
       "       32.73061566, 32.77630545, 32.82073343, 32.86384427, 32.90558268,\n",
       "       32.94589335, 32.98472097, 33.02201023, 33.05770584, 33.09175247,\n",
       "       33.12409483, 33.15467761, 33.18344551, 33.2103432 , 33.2353154 ,\n",
       "       33.25830678, 33.27926205, 33.2981259 , 33.31484302, 33.3293581 ,\n",
       "       33.34161584, 33.35156093, 33.35913806, 33.36429193, 33.36696724,\n",
       "       33.36710866, 33.3646609 , 33.35956865, 33.35177661, 33.34122946,\n",
       "       33.32787189, 33.31164862, 33.29250431, 33.27038368, 33.24523141,\n",
       "       33.2169922 , 33.18561073, 33.15103171, 33.11319982, 33.07205976,\n",
       "       33.02755622, 32.97963389, 32.92823748, 32.87331166, 32.81480114,\n",
       "       32.75265061, 32.68680476, 32.61720828, 32.54380587, 32.46654223,\n",
       "       32.38536203, 32.30020998, 32.21103077, 32.1177691 , 32.02036965,\n",
       "       31.91877712, 31.81293621, 31.7027916 , 31.58828799, 31.46937008,\n",
       "       31.34598255, 31.2180701 , 31.08557742, 30.9484492 , 30.80663015,\n",
       "       30.66006495, 30.50869829, 30.35247488, 30.19133939, 30.02523653,\n",
       "       29.85411099, 29.67790745, 29.49657063, 29.3100452 , 29.11827586,\n",
       "       28.92120731, 28.71878423, 28.51095133, 28.29765329, 28.0788348 ,\n",
       "       27.85444057, 27.62441528, 27.38870362, 27.1472503 , 26.9       ])"
      ]
     },
     "execution_count": 70,
     "metadata": {},
     "output_type": "execute_result"
    }
   ],
   "source": [
    "y_smooth"
   ]
  },
  {
   "cell_type": "code",
   "execution_count": 71,
   "metadata": {},
   "outputs": [
    {
     "data": {
      "image/png": "[encoded data removed]",
      "text/plain": [
       "<Figure size 432x288 with 1 Axes>"
      ]
     },
     "metadata": {
      "needs_background": "light"
     },
     "output_type": "display_data"
    }
   ],
   "source": [
    "plt.scatter(x, y, color=\"red\", alpha=\"0.5\")\n",
    "plt.plot(x,y, linewidth=1)\n",
    "\n",
    "plt.plot(x_smooth, y_smooth)\n",
    "plt.show()"
   ]
  },
  {
   "cell_type": "code",
   "execution_count": 72,
   "metadata": {
    "scrolled": true
   },
   "outputs": [
    {
     "data": {
      "image/png": "[encoded data removed]",
      "text/plain": [
       "<Figure size 432x288 with 1 Axes>"
      ]
     },
     "metadata": {
      "needs_background": "light"
     },
     "output_type": "display_data"
    }
   ],
   "source": [
    "x = np.array(weather[\"觀測時間(day)\"])\n",
    "y = np.array(weather[\"氣溫(℃)\"])\n",
    "\n",
    "x_smooth = np.linspace(x.min(), x.max(), 300)\n",
    "y_smooth = make_interp_spline(x,y)(x_smooth)\n",
    "\n",
    "#原本折線圖\n",
    "plt.scatter(x, y, color=\"red\", alpha=\"0.5\")\n",
    "plt.plot(x,y, linewidth=1)\n",
    "\n",
    "#平滑後折線圖\n",
    "plt.plot(x_smooth, y_smooth)\n",
    "\n",
    "#加入折線圖標題\n",
    "plt.title(\"觀測站氣溫紀錄\")\n",
    "\n",
    "#加入x、y軸標籤\n",
    "plt.xlabel(\"觀測時間(day)\")\n",
    "plt.ylabel(\"氣溫(℃)\")\n",
    "plt.show()"
   ]
  },
  {
   "cell_type": "code",
   "execution_count": 73,
   "metadata": {},
   "outputs": [
    {
     "data": {
      "image/png": "[encoded data removed]",
      "text/plain": [
       "<Figure size 432x288 with 1 Axes>"
      ]
     },
     "metadata": {
      "needs_background": "light"
     },
     "output_type": "display_data"
    }
   ],
   "source": [
    "x = np.array(weather[\"觀測時間(day)\"])\n",
    "y = np.array(weather[\"氣溫(℃)\"])\n",
    "\n",
    "y1 = np.array(weather[\"最高氣溫(℃)\"])\n",
    "\n",
    "y2 = np.array(weather[\"最低氣溫(℃)\"])\n",
    "\n",
    "x_smooth = np.linspace(x.min(), x.max(), 300)\n",
    "y_smooth = make_interp_spline(x,y)(x_smooth)\n",
    "y_smooth1 = make_interp_spline(x,y1)(x_smooth)\n",
    "y_smooth2 = make_interp_spline(x,y2)(x_smooth)\n",
    "\n",
    "#原本折線圖\n",
    "plt.scatter(x, y, color=\"red\", alpha=\"0.5\")\n",
    "plt.plot(x,y, linewidth=1)\n",
    "\n",
    "plt.scatter(x, y1, color=\"red\", alpha=\"0.5\")\n",
    "plt.plot(x,y1, linewidth=1)\n",
    "\n",
    "plt.scatter(x, y2, color=\"red\", alpha=\"0.5\")\n",
    "plt.plot(x,y2, linewidth=1)\n",
    "\n",
    "#平滑後折線圖\n",
    "plt.plot(x_smooth, y_smooth)\n",
    "plt.plot(x_smooth, y_smooth1)\n",
    "plt.plot(x_smooth, y_smooth2)\n",
    "\n",
    "#加入折線圖標題\n",
    "plt.title(\"觀測站氣溫紀錄\")\n",
    "\n",
    "#加入x、y軸標籤\n",
    "plt.xlabel(\"觀測時間(day)\")\n",
    "plt.ylabel(\"氣溫(℃)\")\n",
    "plt.show()"
   ]
  },
  {
   "cell_type": "code",
   "execution_count": 79,
   "metadata": {},
   "outputs": [
    {
     "data": {
      "image/png": "[encoded data removed]",
      "text/plain": [
       "<Figure size 432x288 with 1 Axes>"
      ]
     },
     "metadata": {
      "needs_background": "light"
     },
     "output_type": "display_data"
    }
   ],
   "source": [
    "x = np.array(weather[\"觀測時間(day)\"])\n",
    "y = np.array(weather[\"氣溫(℃)\"])\n",
    "\n",
    "y1 = np.array(weather[\"最高氣溫(℃)\"])\n",
    "\n",
    "y2 = np.array(weather[\"最低氣溫(℃)\"])\n",
    "\n",
    "x_smooth = np.linspace(x.min(), x.max(), 300)\n",
    "y_smooth = make_interp_spline(x,y)(x_smooth)\n",
    "y_smooth1 = make_interp_spline(x,y1)(x_smooth)\n",
    "y_smooth2 = make_interp_spline(x,y2)(x_smooth)\n",
    "\n",
    "\n",
    "#平滑後折線圖\n",
    "plt.plot(x_smooth, y_smooth)\n",
    "plt.plot(x_smooth, y_smooth1)\n",
    "plt.plot(x_smooth, y_smooth2)\n",
    "\n",
    "#加入折線圖標題\n",
    "plt.title(\"觀測站氣溫紀錄\")\n",
    "\n",
    "#加入x、y軸標籤\n",
    "plt.xlabel(\"觀測時間(day)\")\n",
    "plt.ylabel(\"氣溫(℃)\")\n",
    "plt.show()"
   ]
  },
  {
   "cell_type": "code",
   "execution_count": null,
   "metadata": {},
   "outputs": [],
   "source": []
  }
 ],
 "metadata": {
  "kernelspec": {
   "display_name": "Python 3",
   "language": "python",
   "name": "python3"
  },
  "language_info": {
   "codemirror_mode": {
    "name": "ipython",
    "version": 3
   },
   "file_extension": ".py",
   "mimetype": "text/x-python",
   "name": "python",
   "nbconvert_exporter": "python",
   "pygments_lexer": "ipython3",
   "version": "3.7.4"
  }
 },
 "nbformat": 4,
 "nbformat_minor": 2
}
